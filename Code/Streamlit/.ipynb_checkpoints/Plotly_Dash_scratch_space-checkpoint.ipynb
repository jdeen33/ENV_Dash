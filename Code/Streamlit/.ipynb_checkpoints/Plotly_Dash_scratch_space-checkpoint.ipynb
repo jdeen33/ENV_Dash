{
 "cells": [
  {
   "cell_type": "code",
   "execution_count": 1,
   "id": "23beafc8",
   "metadata": {},
   "outputs": [],
   "source": [
    "import pandas as pd\n",
    "import numpy as np \n",
    "import plotly.express as px\n",
    "from dash import Dash, html, dash_table, dcc, callback, Output, Input\n",
    "import dash_bootstrap_components as dbc"
   ]
  },
  {
   "cell_type": "code",
   "execution_count": 2,
   "id": "4dc18dbf",
   "metadata": {},
   "outputs": [],
   "source": [
    "overall_comps = pd.read_csv(\"/Users/jdeen@middlebury.edu/Documents/ENV_Dashboard/ENV_Dash/Data/Tidy/all_scopes.csv\")\n",
    "scope1 = pd.read_csv(\"/Users/jdeen@middlebury.edu/Documents/ENV_Dashboard/ENV_Dash/Data/Tidy/scope1_sums.csv\")\n",
    "scope2= pd.read_csv(\"/Users/jdeen@middlebury.edu/Documents/ENV_Dashboard/ENV_Dash/Data/Tidy/scope2_sums.csv\")"
   ]
  },
  {
   "cell_type": "code",
   "execution_count": 3,
   "id": "11d26e3a",
   "metadata": {
    "scrolled": true
   },
   "outputs": [
    {
     "data": {
      "text/html": [
       "<div>\n",
       "<style scoped>\n",
       "    .dataframe tbody tr th:only-of-type {\n",
       "        vertical-align: middle;\n",
       "    }\n",
       "\n",
       "    .dataframe tbody tr th {\n",
       "        vertical-align: top;\n",
       "    }\n",
       "\n",
       "    .dataframe thead th {\n",
       "        text-align: right;\n",
       "    }\n",
       "</style>\n",
       "<table border=\"1\" class=\"dataframe\">\n",
       "  <thead>\n",
       "    <tr style=\"text-align: right;\">\n",
       "      <th></th>\n",
       "      <th>Unnamed: 0</th>\n",
       "      <th>Year</th>\n",
       "      <th>Scope_Total_MCTDEs</th>\n",
       "      <th>value</th>\n",
       "    </tr>\n",
       "  </thead>\n",
       "  <tbody>\n",
       "    <tr>\n",
       "      <th>0</th>\n",
       "      <td>0</td>\n",
       "      <td>2006_2007</td>\n",
       "      <td>Scope 1</td>\n",
       "      <td>26,957.80</td>\n",
       "    </tr>\n",
       "    <tr>\n",
       "      <th>1</th>\n",
       "      <td>1</td>\n",
       "      <td>2007_2008</td>\n",
       "      <td>Scope 1</td>\n",
       "      <td>28,036.60</td>\n",
       "    </tr>\n",
       "    <tr>\n",
       "      <th>2</th>\n",
       "      <td>2</td>\n",
       "      <td>2008_2009</td>\n",
       "      <td>Scope 1</td>\n",
       "      <td>25,290.90</td>\n",
       "    </tr>\n",
       "    <tr>\n",
       "      <th>3</th>\n",
       "      <td>3</td>\n",
       "      <td>2009_2010</td>\n",
       "      <td>Scope 1</td>\n",
       "      <td>16,689.20</td>\n",
       "    </tr>\n",
       "    <tr>\n",
       "      <th>4</th>\n",
       "      <td>4</td>\n",
       "      <td>2010_2011</td>\n",
       "      <td>Scope 1</td>\n",
       "      <td>14,505.30</td>\n",
       "    </tr>\n",
       "    <tr>\n",
       "      <th>...</th>\n",
       "      <td>...</td>\n",
       "      <td>...</td>\n",
       "      <td>...</td>\n",
       "      <td>...</td>\n",
       "    </tr>\n",
       "    <tr>\n",
       "      <th>103</th>\n",
       "      <td>103</td>\n",
       "      <td>2019_2020</td>\n",
       "      <td>Total</td>\n",
       "      <td>0</td>\n",
       "    </tr>\n",
       "    <tr>\n",
       "      <th>104</th>\n",
       "      <td>104</td>\n",
       "      <td>2020_2021</td>\n",
       "      <td>Total</td>\n",
       "      <td>11,058.20</td>\n",
       "    </tr>\n",
       "    <tr>\n",
       "      <th>105</th>\n",
       "      <td>105</td>\n",
       "      <td>2021_2022</td>\n",
       "      <td>Total</td>\n",
       "      <td>10,858.30</td>\n",
       "    </tr>\n",
       "    <tr>\n",
       "      <th>106</th>\n",
       "      <td>106</td>\n",
       "      <td>2022_2023</td>\n",
       "      <td>Total</td>\n",
       "      <td>8,860.60</td>\n",
       "    </tr>\n",
       "    <tr>\n",
       "      <th>107</th>\n",
       "      <td>107</td>\n",
       "      <td>2023_2024</td>\n",
       "      <td>Total</td>\n",
       "      <td>7,704.70</td>\n",
       "    </tr>\n",
       "  </tbody>\n",
       "</table>\n",
       "<p>108 rows × 4 columns</p>\n",
       "</div>"
      ],
      "text/plain": [
       "     Unnamed: 0       Year Scope_Total_MCTDEs      value\n",
       "0             0  2006_2007            Scope 1  26,957.80\n",
       "1             1  2007_2008            Scope 1  28,036.60\n",
       "2             2  2008_2009            Scope 1  25,290.90\n",
       "3             3  2009_2010            Scope 1  16,689.20\n",
       "4             4  2010_2011            Scope 1  14,505.30\n",
       "..          ...        ...                ...        ...\n",
       "103         103  2019_2020              Total          0\n",
       "104         104  2020_2021              Total  11,058.20\n",
       "105         105  2021_2022              Total  10,858.30\n",
       "106         106  2022_2023              Total   8,860.60\n",
       "107         107  2023_2024              Total   7,704.70\n",
       "\n",
       "[108 rows x 4 columns]"
      ]
     },
     "execution_count": 3,
     "metadata": {},
     "output_type": "execute_result"
    }
   ],
   "source": [
    "overall_comps"
   ]
  },
  {
   "cell_type": "code",
   "execution_count": null,
   "id": "c9c13f51",
   "metadata": {},
   "outputs": [],
   "source": [
    "overall_comps"
   ]
  },
  {
   "cell_type": "code",
   "execution_count": null,
   "id": "838e26c8",
   "metadata": {},
   "outputs": [],
   "source": [
    "for v in overall_comps['value']:\n",
    "    print(v)"
   ]
  },
  {
   "cell_type": "code",
   "execution_count": null,
   "id": "d23b18fb",
   "metadata": {},
   "outputs": [],
   "source": [
    "overall_comps[(overall_comps['Scope_Total_MCTDEs']==\"Offsets Internal\") | (overall_comps['Scope_Total_MCTDEs']==\"Offsets External\")]"
   ]
  },
  {
   "cell_type": "code",
   "execution_count": null,
   "id": "197aaf82",
   "metadata": {},
   "outputs": [],
   "source": [
    "scope1"
   ]
  },
  {
   "cell_type": "code",
   "execution_count": null,
   "id": "5cebf241",
   "metadata": {},
   "outputs": [],
   "source": [
    "scope2"
   ]
  },
  {
   "cell_type": "code",
   "execution_count": null,
   "id": "44f5af24",
   "metadata": {},
   "outputs": [],
   "source": [
    "fig = px.bar(overall_comps, x= \"Year\" ,y= \"value\", color=\"Scope_Total_MCTDEs\", color_discrete_sequence=px.colors.qualitative.Safe)\n",
    "fig.show()"
   ]
  },
  {
   "cell_type": "code",
   "execution_count": null,
   "id": "57ee90b8",
   "metadata": {},
   "outputs": [],
   "source": [
    "overall_comps"
   ]
  },
  {
   "cell_type": "code",
   "execution_count": null,
   "id": "f2eeddb1",
   "metadata": {},
   "outputs": [],
   "source": [
    "scope2"
   ]
  },
  {
   "cell_type": "code",
   "execution_count": null,
   "id": "df50e2ee",
   "metadata": {},
   "outputs": [],
   "source": []
  }
 ],
 "metadata": {
  "kernelspec": {
   "display_name": "Python 3 (ipykernel)",
   "language": "python",
   "name": "python3"
  },
  "language_info": {
   "codemirror_mode": {
    "name": "ipython",
    "version": 3
   },
   "file_extension": ".py",
   "mimetype": "text/x-python",
   "name": "python",
   "nbconvert_exporter": "python",
   "pygments_lexer": "ipython3",
   "version": "3.11.5"
  }
 },
 "nbformat": 4,
 "nbformat_minor": 5
}
