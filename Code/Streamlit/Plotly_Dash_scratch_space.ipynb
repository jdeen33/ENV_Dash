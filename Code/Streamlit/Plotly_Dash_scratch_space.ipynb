{
 "cells": [
  {
   "cell_type": "code",
   "execution_count": 5,
   "id": "667ea170",
   "metadata": {},
   "outputs": [],
   "source": [
    "import pandas as pd\n",
    "import numpy as np \n",
    "import plotly.express as px\n",
    "from dash import Dash, html, dash_table, dcc, callback, Output, Input\n",
    "import dash_bootstrap_components as dbc"
   ]
  },
  {
   "cell_type": "code",
   "execution_count": 5,
   "id": "493059a7",
   "metadata": {},
   "outputs": [],
   "source": [
    "overall_comps = pd.read_csv(\"/Users/jdeen@middlebury.edu/Documents/ENV_Dashboard/ENV_Dash/Data/Tidy/all_scopes.csv\")\n",
    "scope1 = pd.read_csv(\"/Users/jdeen@middlebury.edu/Documents/ENV_Dashboard/ENV_Dash/Data/Tidy/scope1_sums.csv\")\n",
    "scope2= pd.read_csv(\"/Users/jdeen@middlebury.edu/Documents/ENV_Dashboard/ENV_Dash/Data/Tidy/scope2_sums.csv\")"
   ]
  },
  {
   "cell_type": "code",
   "execution_count": 6,
   "id": "26b258b9",
   "metadata": {},
   "outputs": [
    {
     "data": {
      "text/html": [
       "<div>\n",
       "<style scoped>\n",
       "    .dataframe tbody tr th:only-of-type {\n",
       "        vertical-align: middle;\n",
       "    }\n",
       "\n",
       "    .dataframe tbody tr th {\n",
       "        vertical-align: top;\n",
       "    }\n",
       "\n",
       "    .dataframe thead th {\n",
       "        text-align: right;\n",
       "    }\n",
       "</style>\n",
       "<table border=\"1\" class=\"dataframe\">\n",
       "  <thead>\n",
       "    <tr style=\"text-align: right;\">\n",
       "      <th></th>\n",
       "      <th>Unnamed: 0.1</th>\n",
       "      <th>Unnamed: 0</th>\n",
       "      <th>Year</th>\n",
       "      <th>Scope_Total_MCTDEs</th>\n",
       "      <th>value</th>\n",
       "    </tr>\n",
       "  </thead>\n",
       "  <tbody>\n",
       "    <tr>\n",
       "      <th>0</th>\n",
       "      <td>0</td>\n",
       "      <td>0</td>\n",
       "      <td>2006_2007</td>\n",
       "      <td>Scope 1</td>\n",
       "      <td>26957.8</td>\n",
       "    </tr>\n",
       "    <tr>\n",
       "      <th>1</th>\n",
       "      <td>1</td>\n",
       "      <td>1</td>\n",
       "      <td>2007_2008</td>\n",
       "      <td>Scope 1</td>\n",
       "      <td>28036.6</td>\n",
       "    </tr>\n",
       "    <tr>\n",
       "      <th>2</th>\n",
       "      <td>2</td>\n",
       "      <td>2</td>\n",
       "      <td>2008_2009</td>\n",
       "      <td>Scope 1</td>\n",
       "      <td>25290.9</td>\n",
       "    </tr>\n",
       "    <tr>\n",
       "      <th>3</th>\n",
       "      <td>3</td>\n",
       "      <td>3</td>\n",
       "      <td>2009_2010</td>\n",
       "      <td>Scope 1</td>\n",
       "      <td>16689.2</td>\n",
       "    </tr>\n",
       "    <tr>\n",
       "      <th>4</th>\n",
       "      <td>4</td>\n",
       "      <td>4</td>\n",
       "      <td>2010_2011</td>\n",
       "      <td>Scope 1</td>\n",
       "      <td>14505.3</td>\n",
       "    </tr>\n",
       "    <tr>\n",
       "      <th>...</th>\n",
       "      <td>...</td>\n",
       "      <td>...</td>\n",
       "      <td>...</td>\n",
       "      <td>...</td>\n",
       "      <td>...</td>\n",
       "    </tr>\n",
       "    <tr>\n",
       "      <th>103</th>\n",
       "      <td>103</td>\n",
       "      <td>103</td>\n",
       "      <td>2019_2020</td>\n",
       "      <td>Total</td>\n",
       "      <td>0.0</td>\n",
       "    </tr>\n",
       "    <tr>\n",
       "      <th>104</th>\n",
       "      <td>104</td>\n",
       "      <td>104</td>\n",
       "      <td>2020_2021</td>\n",
       "      <td>Total</td>\n",
       "      <td>11058.2</td>\n",
       "    </tr>\n",
       "    <tr>\n",
       "      <th>105</th>\n",
       "      <td>105</td>\n",
       "      <td>105</td>\n",
       "      <td>2021_2022</td>\n",
       "      <td>Total</td>\n",
       "      <td>10858.3</td>\n",
       "    </tr>\n",
       "    <tr>\n",
       "      <th>106</th>\n",
       "      <td>106</td>\n",
       "      <td>106</td>\n",
       "      <td>2022_2023</td>\n",
       "      <td>Total</td>\n",
       "      <td>8860.6</td>\n",
       "    </tr>\n",
       "    <tr>\n",
       "      <th>107</th>\n",
       "      <td>107</td>\n",
       "      <td>107</td>\n",
       "      <td>2023_2024</td>\n",
       "      <td>Total</td>\n",
       "      <td>7704.7</td>\n",
       "    </tr>\n",
       "  </tbody>\n",
       "</table>\n",
       "<p>108 rows × 5 columns</p>\n",
       "</div>"
      ],
      "text/plain": [
       "     Unnamed: 0.1  Unnamed: 0       Year Scope_Total_MCTDEs    value\n",
       "0               0           0  2006_2007            Scope 1  26957.8\n",
       "1               1           1  2007_2008            Scope 1  28036.6\n",
       "2               2           2  2008_2009            Scope 1  25290.9\n",
       "3               3           3  2009_2010            Scope 1  16689.2\n",
       "4               4           4  2010_2011            Scope 1  14505.3\n",
       "..            ...         ...        ...                ...      ...\n",
       "103           103         103  2019_2020              Total      0.0\n",
       "104           104         104  2020_2021              Total  11058.2\n",
       "105           105         105  2021_2022              Total  10858.3\n",
       "106           106         106  2022_2023              Total   8860.6\n",
       "107           107         107  2023_2024              Total   7704.7\n",
       "\n",
       "[108 rows x 5 columns]"
      ]
     },
     "execution_count": 6,
     "metadata": {},
     "output_type": "execute_result"
    }
   ],
   "source": [
    "overall_comps"
   ]
  },
  {
   "cell_type": "markdown",
   "id": "03e35d6f",
   "metadata": {},
   "source": [
    "Oops more data cleaning necessary- need to convert values from text to numeric so they don't show up as categorical in our graphs \n",
    "For the overall GHGI inventory, the values representing offsets should be negative, but that was lost in the data cleaning process, so need to add back in for accuracy "
   ]
  },
  {
   "cell_type": "code",
   "execution_count": null,
   "id": "72bacba1",
   "metadata": {},
   "outputs": [],
   "source": [
    "#need to convert values from strings (text)to float (numbers with decimals)data types \n",
    "overall_comps['value']= overall_comps['value']str.replace(',', '')#first we need to remove commas from the values so that we don't confuse the computer\n",
    "#^ we also re assign this back to the dataframe column so that it is saved in our data\n",
    "\n",
    "overall_comps['value']= overall_comps['value'].astype(float).fillna(0.0)\n",
    "#then we coerce the data to be a float type and make NA zeros "
   ]
  },
  {
   "cell_type": "code",
   "execution_count": null,
   "id": "ba963d42",
   "metadata": {},
   "outputs": [],
   "source": [
    "#now we need to isolate the offsets external/internal values to make them negative \n",
    "overall_comps[(overall_comps['Scope_Total_MCTDEs']==\"Offsets Internal\") | (overall_comps['Scope_Total_MCTDEs']==\"Offsets External\")]"
   ]
  },
  {
   "cell_type": "code",
   "execution_count": 8,
   "id": "95d5125c",
   "metadata": {},
   "outputs": [
    {
     "data": {
      "text/html": [
       "<div>\n",
       "<style scoped>\n",
       "    .dataframe tbody tr th:only-of-type {\n",
       "        vertical-align: middle;\n",
       "    }\n",
       "\n",
       "    .dataframe tbody tr th {\n",
       "        vertical-align: top;\n",
       "    }\n",
       "\n",
       "    .dataframe thead th {\n",
       "        text-align: right;\n",
       "    }\n",
       "</style>\n",
       "<table border=\"1\" class=\"dataframe\">\n",
       "  <thead>\n",
       "    <tr style=\"text-align: right;\">\n",
       "      <th></th>\n",
       "      <th>Unnamed: 0.1</th>\n",
       "      <th>Unnamed: 0</th>\n",
       "      <th>Year</th>\n",
       "      <th>Source_MCTDEs</th>\n",
       "      <th>value</th>\n",
       "    </tr>\n",
       "  </thead>\n",
       "  <tbody>\n",
       "    <tr>\n",
       "      <th>0</th>\n",
       "      <td>0</td>\n",
       "      <td>0</td>\n",
       "      <td>2006_2007</td>\n",
       "      <td>#6 Fuel Oil</td>\n",
       "      <td>23876.0</td>\n",
       "    </tr>\n",
       "    <tr>\n",
       "      <th>1</th>\n",
       "      <td>1</td>\n",
       "      <td>1</td>\n",
       "      <td>2007_2008</td>\n",
       "      <td>#6 Fuel Oil</td>\n",
       "      <td>25145.0</td>\n",
       "    </tr>\n",
       "    <tr>\n",
       "      <th>2</th>\n",
       "      <td>2</td>\n",
       "      <td>2</td>\n",
       "      <td>2008_2009</td>\n",
       "      <td>#6 Fuel Oil</td>\n",
       "      <td>22366.0</td>\n",
       "    </tr>\n",
       "    <tr>\n",
       "      <th>3</th>\n",
       "      <td>3</td>\n",
       "      <td>3</td>\n",
       "      <td>2009_2010</td>\n",
       "      <td>#6 Fuel Oil</td>\n",
       "      <td>14041.0</td>\n",
       "    </tr>\n",
       "    <tr>\n",
       "      <th>4</th>\n",
       "      <td>4</td>\n",
       "      <td>4</td>\n",
       "      <td>2010_2011</td>\n",
       "      <td>#6 Fuel Oil</td>\n",
       "      <td>11272.0</td>\n",
       "    </tr>\n",
       "    <tr>\n",
       "      <th>...</th>\n",
       "      <td>...</td>\n",
       "      <td>...</td>\n",
       "      <td>...</td>\n",
       "      <td>...</td>\n",
       "      <td>...</td>\n",
       "    </tr>\n",
       "    <tr>\n",
       "      <th>155</th>\n",
       "      <td>155</td>\n",
       "      <td>155</td>\n",
       "      <td>2021_2022</td>\n",
       "      <td>Diesel</td>\n",
       "      <td>93.0</td>\n",
       "    </tr>\n",
       "    <tr>\n",
       "      <th>156</th>\n",
       "      <td>156</td>\n",
       "      <td>156</td>\n",
       "      <td>2022_2023</td>\n",
       "      <td>Diesel</td>\n",
       "      <td>92.0</td>\n",
       "    </tr>\n",
       "    <tr>\n",
       "      <th>157</th>\n",
       "      <td>157</td>\n",
       "      <td>157</td>\n",
       "      <td>2023_2024</td>\n",
       "      <td>Diesel</td>\n",
       "      <td>93.0</td>\n",
       "    </tr>\n",
       "    <tr>\n",
       "      <th>158</th>\n",
       "      <td>158</td>\n",
       "      <td>158</td>\n",
       "      <td>NaN</td>\n",
       "      <td>Diesel</td>\n",
       "      <td>89.0</td>\n",
       "    </tr>\n",
       "    <tr>\n",
       "      <th>159</th>\n",
       "      <td>159</td>\n",
       "      <td>159</td>\n",
       "      <td>NaN</td>\n",
       "      <td>Diesel</td>\n",
       "      <td>0.0</td>\n",
       "    </tr>\n",
       "  </tbody>\n",
       "</table>\n",
       "<p>160 rows × 5 columns</p>\n",
       "</div>"
      ],
      "text/plain": [
       "     Unnamed: 0.1  Unnamed: 0       Year Source_MCTDEs    value\n",
       "0               0           0  2006_2007   #6 Fuel Oil  23876.0\n",
       "1               1           1  2007_2008   #6 Fuel Oil  25145.0\n",
       "2               2           2  2008_2009   #6 Fuel Oil  22366.0\n",
       "3               3           3  2009_2010   #6 Fuel Oil  14041.0\n",
       "4               4           4  2010_2011   #6 Fuel Oil  11272.0\n",
       "..            ...         ...        ...           ...      ...\n",
       "155           155         155  2021_2022        Diesel     93.0\n",
       "156           156         156  2022_2023        Diesel     92.0\n",
       "157           157         157  2023_2024        Diesel     93.0\n",
       "158           158         158        NaN        Diesel     89.0\n",
       "159           159         159        NaN        Diesel      0.0\n",
       "\n",
       "[160 rows x 5 columns]"
      ]
     },
     "execution_count": 8,
     "metadata": {},
     "output_type": "execute_result"
    }
   ],
   "source": [
    "scope1"
   ]
  },
  {
   "cell_type": "code",
   "execution_count": 9,
   "id": "6054aa32",
   "metadata": {},
   "outputs": [
    {
     "data": {
      "text/html": [
       "<div>\n",
       "<style scoped>\n",
       "    .dataframe tbody tr th:only-of-type {\n",
       "        vertical-align: middle;\n",
       "    }\n",
       "\n",
       "    .dataframe tbody tr th {\n",
       "        vertical-align: top;\n",
       "    }\n",
       "\n",
       "    .dataframe thead th {\n",
       "        text-align: right;\n",
       "    }\n",
       "</style>\n",
       "<table border=\"1\" class=\"dataframe\">\n",
       "  <thead>\n",
       "    <tr style=\"text-align: right;\">\n",
       "      <th></th>\n",
       "      <th>Unnamed: 0.1</th>\n",
       "      <th>Unnamed: 0</th>\n",
       "      <th>Year</th>\n",
       "      <th>Source_MTCDEs</th>\n",
       "      <th>value</th>\n",
       "    </tr>\n",
       "  </thead>\n",
       "  <tbody>\n",
       "    <tr>\n",
       "      <th>0</th>\n",
       "      <td>0</td>\n",
       "      <td>0</td>\n",
       "      <td>2006_2007</td>\n",
       "      <td>Co-Generation</td>\n",
       "      <td>0.0</td>\n",
       "    </tr>\n",
       "    <tr>\n",
       "      <th>1</th>\n",
       "      <td>1</td>\n",
       "      <td>1</td>\n",
       "      <td>2007_2008</td>\n",
       "      <td>Co-Generation</td>\n",
       "      <td>0.0</td>\n",
       "    </tr>\n",
       "    <tr>\n",
       "      <th>2</th>\n",
       "      <td>2</td>\n",
       "      <td>2</td>\n",
       "      <td>2008_2009</td>\n",
       "      <td>Co-Generation</td>\n",
       "      <td>0.0</td>\n",
       "    </tr>\n",
       "    <tr>\n",
       "      <th>3</th>\n",
       "      <td>3</td>\n",
       "      <td>3</td>\n",
       "      <td>2009_2010</td>\n",
       "      <td>Co-Generation</td>\n",
       "      <td>0.0</td>\n",
       "    </tr>\n",
       "    <tr>\n",
       "      <th>4</th>\n",
       "      <td>4</td>\n",
       "      <td>4</td>\n",
       "      <td>2010_2011</td>\n",
       "      <td>Co-Generation</td>\n",
       "      <td>0.0</td>\n",
       "    </tr>\n",
       "    <tr>\n",
       "      <th>...</th>\n",
       "      <td>...</td>\n",
       "      <td>...</td>\n",
       "      <td>...</td>\n",
       "      <td>...</td>\n",
       "      <td>...</td>\n",
       "    </tr>\n",
       "    <tr>\n",
       "      <th>229</th>\n",
       "      <td>229</td>\n",
       "      <td>229</td>\n",
       "      <td>2019_2020</td>\n",
       "      <td>Scope 2 TOTAL</td>\n",
       "      <td>174.0</td>\n",
       "    </tr>\n",
       "    <tr>\n",
       "      <th>230</th>\n",
       "      <td>230</td>\n",
       "      <td>230</td>\n",
       "      <td>2020_2021</td>\n",
       "      <td>Scope 2 TOTAL</td>\n",
       "      <td>0.0</td>\n",
       "    </tr>\n",
       "    <tr>\n",
       "      <th>231</th>\n",
       "      <td>231</td>\n",
       "      <td>231</td>\n",
       "      <td>2021_2022</td>\n",
       "      <td>Scope 2 TOTAL</td>\n",
       "      <td>0.0</td>\n",
       "    </tr>\n",
       "    <tr>\n",
       "      <th>232</th>\n",
       "      <td>232</td>\n",
       "      <td>232</td>\n",
       "      <td>2022_2023</td>\n",
       "      <td>Scope 2 TOTAL</td>\n",
       "      <td>0.0</td>\n",
       "    </tr>\n",
       "    <tr>\n",
       "      <th>233</th>\n",
       "      <td>233</td>\n",
       "      <td>233</td>\n",
       "      <td>2023_2024</td>\n",
       "      <td>Scope 2 TOTAL</td>\n",
       "      <td>0.0</td>\n",
       "    </tr>\n",
       "  </tbody>\n",
       "</table>\n",
       "<p>234 rows × 5 columns</p>\n",
       "</div>"
      ],
      "text/plain": [
       "     Unnamed: 0.1  Unnamed: 0       Year  Source_MTCDEs  value\n",
       "0               0           0  2006_2007  Co-Generation    0.0\n",
       "1               1           1  2007_2008  Co-Generation    0.0\n",
       "2               2           2  2008_2009  Co-Generation    0.0\n",
       "3               3           3  2009_2010  Co-Generation    0.0\n",
       "4               4           4  2010_2011  Co-Generation    0.0\n",
       "..            ...         ...        ...            ...    ...\n",
       "229           229         229  2019_2020  Scope 2 TOTAL  174.0\n",
       "230           230         230  2020_2021  Scope 2 TOTAL    0.0\n",
       "231           231         231  2021_2022  Scope 2 TOTAL    0.0\n",
       "232           232         232  2022_2023  Scope 2 TOTAL    0.0\n",
       "233           233         233  2023_2024  Scope 2 TOTAL    0.0\n",
       "\n",
       "[234 rows x 5 columns]"
      ]
     },
     "execution_count": 9,
     "metadata": {},
     "output_type": "execute_result"
    }
   ],
   "source": [
    "scope2"
   ]
  },
  {
   "cell_type": "code",
   "execution_count": 14,
   "id": "0769f63f",
   "metadata": {},
   "outputs": [
    {
     "data": {
      "text/plain": [
       "Index(['Unnamed: 0.1', 'Unnamed: 0', 'Year', 'Source_MTCDEs', 'value'], dtype='object')"
      ]
     },
     "execution_count": 14,
     "metadata": {},
     "output_type": "execute_result"
    }
   ],
   "source": [
    "scope2.columns"
   ]
  },
  {
   "cell_type": "code",
   "execution_count": 17,
   "id": "6d75f3e5",
   "metadata": {},
   "outputs": [
    {
     "data": {
      "application/vnd.plotly.v1+json": {
       "config": {
        "plotlyServerURL": "https://plot.ly"
       },
       "data": [
        {
         "hovertemplate": "Source_MCTDEs=#6 Fuel Oil<br>Year=%{x}<br>value=%{y}<extra></extra>",
         "legendgroup": "#6 Fuel Oil",
         "line": {
          "color": "rgb(136, 204, 238)",
          "dash": "solid"
         },
         "marker": {
          "symbol": "circle"
         },
         "mode": "lines",
         "name": "#6 Fuel Oil",
         "orientation": "v",
         "showlegend": true,
         "type": "scatter",
         "x": [
          "2006_2007",
          "2007_2008",
          "2008_2009",
          "2009_2010",
          "2010_2011",
          "2011_2012",
          "2012_2013",
          "2013_2014",
          "2014_2015",
          "2015_2016",
          "2016_2017",
          "2017_2018",
          "2018_2019",
          "2019_2020",
          "2020_2021",
          "2021_2022",
          "2022_2023",
          "2023_2024",
          null,
          null
         ],
         "xaxis": "x",
         "y": [
          23876,
          25145,
          22366,
          14041,
          11272,
          11405,
          6489,
          7272,
          7032,
          2169,
          1880,
          423,
          0,
          0,
          0,
          0,
          0,
          0,
          0,
          0
         ],
         "yaxis": "y"
        },
        {
         "hovertemplate": "Source_MCTDEs=#2 and Diesel<br>Year=%{x}<br>value=%{y}<extra></extra>",
         "legendgroup": "#2 and Diesel",
         "line": {
          "color": "rgb(204, 102, 119)",
          "dash": "solid"
         },
         "marker": {
          "symbol": "circle"
         },
         "mode": "lines",
         "name": "#2 and Diesel",
         "orientation": "v",
         "showlegend": true,
         "type": "scatter",
         "x": [
          "2006_2007",
          "2007_2008",
          "2008_2009",
          "2009_2010",
          "2010_2011",
          "2011_2012",
          "2012_2013",
          "2013_2014",
          "2014_2015",
          "2015_2016",
          "2016_2017",
          "2017_2018",
          "2018_2019",
          "2019_2020",
          "2020_2021",
          "2021_2022",
          "2022_2023",
          "2023_2024",
          null,
          null
         ],
         "xaxis": "x",
         "y": [
          2003,
          1844,
          1813,
          1538,
          1923,
          1625,
          1896,
          1942,
          1908,
          1993,
          1900,
          1929,
          1688,
          1613,
          1679,
          1142,
          989,
          846,
          747,
          0
         ],
         "yaxis": "y"
        },
        {
         "hovertemplate": "Source_MCTDEs=Propane<br>Year=%{x}<br>value=%{y}<extra></extra>",
         "legendgroup": "Propane",
         "line": {
          "color": "rgb(221, 204, 119)",
          "dash": "solid"
         },
         "marker": {
          "symbol": "circle"
         },
         "mode": "lines",
         "name": "Propane",
         "orientation": "v",
         "showlegend": true,
         "type": "scatter",
         "x": [
          "2006_2007",
          "2007_2008",
          "2008_2009",
          "2009_2010",
          "2010_2011",
          "2011_2012",
          "2012_2013",
          "2013_2014",
          "2014_2015",
          "2015_2016",
          "2016_2017",
          "2017_2018",
          "2018_2019",
          "2019_2020",
          "2020_2021",
          "2021_2022",
          "2022_2023",
          "2023_2024",
          null,
          null
         ],
         "xaxis": "x",
         "y": [
          712,
          655,
          643,
          591,
          653,
          659,
          611,
          380,
          463,
          413,
          599,
          509,
          531,
          387,
          330,
          437,
          402,
          406,
          414,
          0
         ],
         "yaxis": "y"
        },
        {
         "hovertemplate": "Source_MCTDEs=Natural Gas<br>Year=%{x}<br>value=%{y}<extra></extra>",
         "legendgroup": "Natural Gas",
         "line": {
          "color": "rgb(17, 119, 51)",
          "dash": "solid"
         },
         "marker": {
          "symbol": "circle"
         },
         "mode": "lines",
         "name": "Natural Gas",
         "orientation": "v",
         "showlegend": true,
         "type": "scatter",
         "x": [
          "2006_2007",
          "2007_2008",
          "2008_2009",
          "2009_2010",
          "2010_2011",
          "2011_2012",
          "2012_2013",
          "2013_2014",
          "2014_2015",
          "2015_2016",
          "2016_2017",
          "2017_2018",
          "2018_2019",
          "2019_2020",
          "2020_2021",
          "2021_2022",
          "2022_2023",
          "2023_2024",
          null,
          null
         ],
         "xaxis": "x",
         "y": [
          0,
          0,
          0,
          0,
          0,
          0,
          0,
          0,
          0,
          3763,
          3018,
          4392,
          5068,
          4433,
          6105,
          6397,
          4323,
          3260,
          936,
          116
         ],
         "yaxis": "y"
        },
        {
         "hovertemplate": "Source_MCTDEs=Anthropogenic Biomass<br>Year=%{x}<br>value=%{y}<extra></extra>",
         "legendgroup": "Anthropogenic Biomass",
         "line": {
          "color": "rgb(51, 34, 136)",
          "dash": "solid"
         },
         "marker": {
          "symbol": "circle"
         },
         "mode": "lines",
         "name": "Anthropogenic Biomass",
         "orientation": "v",
         "showlegend": true,
         "type": "scatter",
         "x": [
          "2006_2007",
          "2007_2008",
          "2008_2009",
          "2009_2010",
          "2010_2011",
          "2011_2012",
          "2012_2013",
          "2013_2014",
          "2014_2015",
          "2015_2016",
          "2016_2017",
          "2017_2018",
          "2018_2019",
          "2019_2020",
          "2020_2021",
          "2021_2022",
          "2022_2023",
          "2023_2024",
          null,
          null
         ],
         "xaxis": "x",
         "y": [
          0,
          0,
          42,
          181,
          247,
          207,
          273,
          333,
          320,
          255,
          283,
          267,
          278,
          239,
          199,
          202,
          231,
          243,
          288,
          88
         ],
         "yaxis": "y"
        },
        {
         "hovertemplate": "Source_MCTDEs=RNG<br>Year=%{x}<br>value=%{y}<extra></extra>",
         "legendgroup": "RNG",
         "line": {
          "color": "rgb(170, 68, 153)",
          "dash": "solid"
         },
         "marker": {
          "symbol": "circle"
         },
         "mode": "lines",
         "name": "RNG",
         "orientation": "v",
         "showlegend": true,
         "type": "scatter",
         "x": [
          "2006_2007",
          "2007_2008",
          "2008_2009",
          "2009_2010",
          "2010_2011",
          "2011_2012",
          "2012_2013",
          "2013_2014",
          "2014_2015",
          "2015_2016",
          "2016_2017",
          "2017_2018",
          "2018_2019",
          "2019_2020",
          "2020_2021",
          "2021_2022",
          "2022_2023",
          "2023_2024",
          null,
          null
         ],
         "xaxis": "x",
         "y": [
          0,
          0,
          0,
          0,
          0,
          0,
          0,
          0,
          0,
          0,
          0,
          0,
          0,
          0,
          0,
          0,
          0,
          0,
          0,
          0
         ],
         "yaxis": "y"
        },
        {
         "hovertemplate": "Source_MCTDEs=Gas<br>Year=%{x}<br>value=%{y}<extra></extra>",
         "legendgroup": "Gas",
         "line": {
          "color": "rgb(68, 170, 153)",
          "dash": "solid"
         },
         "marker": {
          "symbol": "circle"
         },
         "mode": "lines",
         "name": "Gas",
         "orientation": "v",
         "showlegend": true,
         "type": "scatter",
         "x": [
          "2006_2007",
          "2007_2008",
          "2008_2009",
          "2009_2010",
          "2010_2011",
          "2011_2012",
          "2012_2013",
          "2013_2014",
          "2014_2015",
          "2015_2016",
          "2016_2017",
          "2017_2018",
          "2018_2019",
          "2019_2020",
          "2020_2021",
          "2021_2022",
          "2022_2023",
          "2023_2024",
          null,
          null
         ],
         "xaxis": "x",
         "y": [
          243,
          254,
          242,
          202,
          230,
          216,
          240,
          267,
          264,
          245,
          238,
          228,
          205,
          155,
          150,
          167,
          144,
          177,
          144,
          0
         ],
         "yaxis": "y"
        },
        {
         "hovertemplate": "Source_MCTDEs=Diesel<br>Year=%{x}<br>value=%{y}<extra></extra>",
         "legendgroup": "Diesel",
         "line": {
          "color": "rgb(153, 153, 51)",
          "dash": "solid"
         },
         "marker": {
          "symbol": "circle"
         },
         "mode": "lines",
         "name": "Diesel",
         "orientation": "v",
         "showlegend": true,
         "type": "scatter",
         "x": [
          "2006_2007",
          "2007_2008",
          "2008_2009",
          "2009_2010",
          "2010_2011",
          "2011_2012",
          "2012_2013",
          "2013_2014",
          "2014_2015",
          "2015_2016",
          "2016_2017",
          "2017_2018",
          "2018_2019",
          "2019_2020",
          "2020_2021",
          "2021_2022",
          "2022_2023",
          "2023_2024",
          null,
          null
         ],
         "xaxis": "x",
         "y": [
          123,
          139,
          185,
          136,
          181,
          141,
          130,
          131,
          136,
          97,
          107,
          108,
          104,
          75,
          76,
          93,
          92,
          93,
          89,
          0
         ],
         "yaxis": "y"
        }
       ],
       "layout": {
        "legend": {
         "title": {
          "text": "Source_MCTDEs"
         },
         "tracegroupgap": 0
        },
        "margin": {
         "t": 60
        },
        "template": {
         "data": {
          "bar": [
           {
            "error_x": {
             "color": "#2a3f5f"
            },
            "error_y": {
             "color": "#2a3f5f"
            },
            "marker": {
             "line": {
              "color": "#E5ECF6",
              "width": 0.5
             },
             "pattern": {
              "fillmode": "overlay",
              "size": 10,
              "solidity": 0.2
             }
            },
            "type": "bar"
           }
          ],
          "barpolar": [
           {
            "marker": {
             "line": {
              "color": "#E5ECF6",
              "width": 0.5
             },
             "pattern": {
              "fillmode": "overlay",
              "size": 10,
              "solidity": 0.2
             }
            },
            "type": "barpolar"
           }
          ],
          "carpet": [
           {
            "aaxis": {
             "endlinecolor": "#2a3f5f",
             "gridcolor": "white",
             "linecolor": "white",
             "minorgridcolor": "white",
             "startlinecolor": "#2a3f5f"
            },
            "baxis": {
             "endlinecolor": "#2a3f5f",
             "gridcolor": "white",
             "linecolor": "white",
             "minorgridcolor": "white",
             "startlinecolor": "#2a3f5f"
            },
            "type": "carpet"
           }
          ],
          "choropleth": [
           {
            "colorbar": {
             "outlinewidth": 0,
             "ticks": ""
            },
            "type": "choropleth"
           }
          ],
          "contour": [
           {
            "colorbar": {
             "outlinewidth": 0,
             "ticks": ""
            },
            "colorscale": [
             [
              0,
              "#0d0887"
             ],
             [
              0.1111111111111111,
              "#46039f"
             ],
             [
              0.2222222222222222,
              "#7201a8"
             ],
             [
              0.3333333333333333,
              "#9c179e"
             ],
             [
              0.4444444444444444,
              "#bd3786"
             ],
             [
              0.5555555555555556,
              "#d8576b"
             ],
             [
              0.6666666666666666,
              "#ed7953"
             ],
             [
              0.7777777777777778,
              "#fb9f3a"
             ],
             [
              0.8888888888888888,
              "#fdca26"
             ],
             [
              1,
              "#f0f921"
             ]
            ],
            "type": "contour"
           }
          ],
          "contourcarpet": [
           {
            "colorbar": {
             "outlinewidth": 0,
             "ticks": ""
            },
            "type": "contourcarpet"
           }
          ],
          "heatmap": [
           {
            "colorbar": {
             "outlinewidth": 0,
             "ticks": ""
            },
            "colorscale": [
             [
              0,
              "#0d0887"
             ],
             [
              0.1111111111111111,
              "#46039f"
             ],
             [
              0.2222222222222222,
              "#7201a8"
             ],
             [
              0.3333333333333333,
              "#9c179e"
             ],
             [
              0.4444444444444444,
              "#bd3786"
             ],
             [
              0.5555555555555556,
              "#d8576b"
             ],
             [
              0.6666666666666666,
              "#ed7953"
             ],
             [
              0.7777777777777778,
              "#fb9f3a"
             ],
             [
              0.8888888888888888,
              "#fdca26"
             ],
             [
              1,
              "#f0f921"
             ]
            ],
            "type": "heatmap"
           }
          ],
          "heatmapgl": [
           {
            "colorbar": {
             "outlinewidth": 0,
             "ticks": ""
            },
            "colorscale": [
             [
              0,
              "#0d0887"
             ],
             [
              0.1111111111111111,
              "#46039f"
             ],
             [
              0.2222222222222222,
              "#7201a8"
             ],
             [
              0.3333333333333333,
              "#9c179e"
             ],
             [
              0.4444444444444444,
              "#bd3786"
             ],
             [
              0.5555555555555556,
              "#d8576b"
             ],
             [
              0.6666666666666666,
              "#ed7953"
             ],
             [
              0.7777777777777778,
              "#fb9f3a"
             ],
             [
              0.8888888888888888,
              "#fdca26"
             ],
             [
              1,
              "#f0f921"
             ]
            ],
            "type": "heatmapgl"
           }
          ],
          "histogram": [
           {
            "marker": {
             "pattern": {
              "fillmode": "overlay",
              "size": 10,
              "solidity": 0.2
             }
            },
            "type": "histogram"
           }
          ],
          "histogram2d": [
           {
            "colorbar": {
             "outlinewidth": 0,
             "ticks": ""
            },
            "colorscale": [
             [
              0,
              "#0d0887"
             ],
             [
              0.1111111111111111,
              "#46039f"
             ],
             [
              0.2222222222222222,
              "#7201a8"
             ],
             [
              0.3333333333333333,
              "#9c179e"
             ],
             [
              0.4444444444444444,
              "#bd3786"
             ],
             [
              0.5555555555555556,
              "#d8576b"
             ],
             [
              0.6666666666666666,
              "#ed7953"
             ],
             [
              0.7777777777777778,
              "#fb9f3a"
             ],
             [
              0.8888888888888888,
              "#fdca26"
             ],
             [
              1,
              "#f0f921"
             ]
            ],
            "type": "histogram2d"
           }
          ],
          "histogram2dcontour": [
           {
            "colorbar": {
             "outlinewidth": 0,
             "ticks": ""
            },
            "colorscale": [
             [
              0,
              "#0d0887"
             ],
             [
              0.1111111111111111,
              "#46039f"
             ],
             [
              0.2222222222222222,
              "#7201a8"
             ],
             [
              0.3333333333333333,
              "#9c179e"
             ],
             [
              0.4444444444444444,
              "#bd3786"
             ],
             [
              0.5555555555555556,
              "#d8576b"
             ],
             [
              0.6666666666666666,
              "#ed7953"
             ],
             [
              0.7777777777777778,
              "#fb9f3a"
             ],
             [
              0.8888888888888888,
              "#fdca26"
             ],
             [
              1,
              "#f0f921"
             ]
            ],
            "type": "histogram2dcontour"
           }
          ],
          "mesh3d": [
           {
            "colorbar": {
             "outlinewidth": 0,
             "ticks": ""
            },
            "type": "mesh3d"
           }
          ],
          "parcoords": [
           {
            "line": {
             "colorbar": {
              "outlinewidth": 0,
              "ticks": ""
             }
            },
            "type": "parcoords"
           }
          ],
          "pie": [
           {
            "automargin": true,
            "type": "pie"
           }
          ],
          "scatter": [
           {
            "fillpattern": {
             "fillmode": "overlay",
             "size": 10,
             "solidity": 0.2
            },
            "type": "scatter"
           }
          ],
          "scatter3d": [
           {
            "line": {
             "colorbar": {
              "outlinewidth": 0,
              "ticks": ""
             }
            },
            "marker": {
             "colorbar": {
              "outlinewidth": 0,
              "ticks": ""
             }
            },
            "type": "scatter3d"
           }
          ],
          "scattercarpet": [
           {
            "marker": {
             "colorbar": {
              "outlinewidth": 0,
              "ticks": ""
             }
            },
            "type": "scattercarpet"
           }
          ],
          "scattergeo": [
           {
            "marker": {
             "colorbar": {
              "outlinewidth": 0,
              "ticks": ""
             }
            },
            "type": "scattergeo"
           }
          ],
          "scattergl": [
           {
            "marker": {
             "colorbar": {
              "outlinewidth": 0,
              "ticks": ""
             }
            },
            "type": "scattergl"
           }
          ],
          "scattermapbox": [
           {
            "marker": {
             "colorbar": {
              "outlinewidth": 0,
              "ticks": ""
             }
            },
            "type": "scattermapbox"
           }
          ],
          "scatterpolar": [
           {
            "marker": {
             "colorbar": {
              "outlinewidth": 0,
              "ticks": ""
             }
            },
            "type": "scatterpolar"
           }
          ],
          "scatterpolargl": [
           {
            "marker": {
             "colorbar": {
              "outlinewidth": 0,
              "ticks": ""
             }
            },
            "type": "scatterpolargl"
           }
          ],
          "scatterternary": [
           {
            "marker": {
             "colorbar": {
              "outlinewidth": 0,
              "ticks": ""
             }
            },
            "type": "scatterternary"
           }
          ],
          "surface": [
           {
            "colorbar": {
             "outlinewidth": 0,
             "ticks": ""
            },
            "colorscale": [
             [
              0,
              "#0d0887"
             ],
             [
              0.1111111111111111,
              "#46039f"
             ],
             [
              0.2222222222222222,
              "#7201a8"
             ],
             [
              0.3333333333333333,
              "#9c179e"
             ],
             [
              0.4444444444444444,
              "#bd3786"
             ],
             [
              0.5555555555555556,
              "#d8576b"
             ],
             [
              0.6666666666666666,
              "#ed7953"
             ],
             [
              0.7777777777777778,
              "#fb9f3a"
             ],
             [
              0.8888888888888888,
              "#fdca26"
             ],
             [
              1,
              "#f0f921"
             ]
            ],
            "type": "surface"
           }
          ],
          "table": [
           {
            "cells": {
             "fill": {
              "color": "#EBF0F8"
             },
             "line": {
              "color": "white"
             }
            },
            "header": {
             "fill": {
              "color": "#C8D4E3"
             },
             "line": {
              "color": "white"
             }
            },
            "type": "table"
           }
          ]
         },
         "layout": {
          "annotationdefaults": {
           "arrowcolor": "#2a3f5f",
           "arrowhead": 0,
           "arrowwidth": 1
          },
          "autotypenumbers": "strict",
          "coloraxis": {
           "colorbar": {
            "outlinewidth": 0,
            "ticks": ""
           }
          },
          "colorscale": {
           "diverging": [
            [
             0,
             "#8e0152"
            ],
            [
             0.1,
             "#c51b7d"
            ],
            [
             0.2,
             "#de77ae"
            ],
            [
             0.3,
             "#f1b6da"
            ],
            [
             0.4,
             "#fde0ef"
            ],
            [
             0.5,
             "#f7f7f7"
            ],
            [
             0.6,
             "#e6f5d0"
            ],
            [
             0.7,
             "#b8e186"
            ],
            [
             0.8,
             "#7fbc41"
            ],
            [
             0.9,
             "#4d9221"
            ],
            [
             1,
             "#276419"
            ]
           ],
           "sequential": [
            [
             0,
             "#0d0887"
            ],
            [
             0.1111111111111111,
             "#46039f"
            ],
            [
             0.2222222222222222,
             "#7201a8"
            ],
            [
             0.3333333333333333,
             "#9c179e"
            ],
            [
             0.4444444444444444,
             "#bd3786"
            ],
            [
             0.5555555555555556,
             "#d8576b"
            ],
            [
             0.6666666666666666,
             "#ed7953"
            ],
            [
             0.7777777777777778,
             "#fb9f3a"
            ],
            [
             0.8888888888888888,
             "#fdca26"
            ],
            [
             1,
             "#f0f921"
            ]
           ],
           "sequentialminus": [
            [
             0,
             "#0d0887"
            ],
            [
             0.1111111111111111,
             "#46039f"
            ],
            [
             0.2222222222222222,
             "#7201a8"
            ],
            [
             0.3333333333333333,
             "#9c179e"
            ],
            [
             0.4444444444444444,
             "#bd3786"
            ],
            [
             0.5555555555555556,
             "#d8576b"
            ],
            [
             0.6666666666666666,
             "#ed7953"
            ],
            [
             0.7777777777777778,
             "#fb9f3a"
            ],
            [
             0.8888888888888888,
             "#fdca26"
            ],
            [
             1,
             "#f0f921"
            ]
           ]
          },
          "colorway": [
           "#636efa",
           "#EF553B",
           "#00cc96",
           "#ab63fa",
           "#FFA15A",
           "#19d3f3",
           "#FF6692",
           "#B6E880",
           "#FF97FF",
           "#FECB52"
          ],
          "font": {
           "color": "#2a3f5f"
          },
          "geo": {
           "bgcolor": "white",
           "lakecolor": "white",
           "landcolor": "#E5ECF6",
           "showlakes": true,
           "showland": true,
           "subunitcolor": "white"
          },
          "hoverlabel": {
           "align": "left"
          },
          "hovermode": "closest",
          "mapbox": {
           "style": "light"
          },
          "paper_bgcolor": "white",
          "plot_bgcolor": "#E5ECF6",
          "polar": {
           "angularaxis": {
            "gridcolor": "white",
            "linecolor": "white",
            "ticks": ""
           },
           "bgcolor": "#E5ECF6",
           "radialaxis": {
            "gridcolor": "white",
            "linecolor": "white",
            "ticks": ""
           }
          },
          "scene": {
           "xaxis": {
            "backgroundcolor": "#E5ECF6",
            "gridcolor": "white",
            "gridwidth": 2,
            "linecolor": "white",
            "showbackground": true,
            "ticks": "",
            "zerolinecolor": "white"
           },
           "yaxis": {
            "backgroundcolor": "#E5ECF6",
            "gridcolor": "white",
            "gridwidth": 2,
            "linecolor": "white",
            "showbackground": true,
            "ticks": "",
            "zerolinecolor": "white"
           },
           "zaxis": {
            "backgroundcolor": "#E5ECF6",
            "gridcolor": "white",
            "gridwidth": 2,
            "linecolor": "white",
            "showbackground": true,
            "ticks": "",
            "zerolinecolor": "white"
           }
          },
          "shapedefaults": {
           "line": {
            "color": "#2a3f5f"
           }
          },
          "ternary": {
           "aaxis": {
            "gridcolor": "white",
            "linecolor": "white",
            "ticks": ""
           },
           "baxis": {
            "gridcolor": "white",
            "linecolor": "white",
            "ticks": ""
           },
           "bgcolor": "#E5ECF6",
           "caxis": {
            "gridcolor": "white",
            "linecolor": "white",
            "ticks": ""
           }
          },
          "title": {
           "x": 0.05
          },
          "xaxis": {
           "automargin": true,
           "gridcolor": "white",
           "linecolor": "white",
           "ticks": "",
           "title": {
            "standoff": 15
           },
           "zerolinecolor": "white",
           "zerolinewidth": 2
          },
          "yaxis": {
           "automargin": true,
           "gridcolor": "white",
           "linecolor": "white",
           "ticks": "",
           "title": {
            "standoff": 15
           },
           "zerolinecolor": "white",
           "zerolinewidth": 2
          }
         }
        },
        "xaxis": {
         "anchor": "y",
         "domain": [
          0,
          1
         ],
         "title": {
          "text": "Year"
         }
        },
        "yaxis": {
         "anchor": "x",
         "domain": [
          0,
          1
         ],
         "title": {
          "text": "value"
         }
        }
       }
      },
      "text/html": [
       "<div>                            <div id=\"3de8584c-4565-4e51-90b1-ad82b90f6f02\" class=\"plotly-graph-div\" style=\"height:525px; width:100%;\"></div>            <script type=\"text/javascript\">                require([\"plotly\"], function(Plotly) {                    window.PLOTLYENV=window.PLOTLYENV || {};                                    if (document.getElementById(\"3de8584c-4565-4e51-90b1-ad82b90f6f02\")) {                    Plotly.newPlot(                        \"3de8584c-4565-4e51-90b1-ad82b90f6f02\",                        [{\"hovertemplate\":\"Source_MCTDEs=#6 Fuel Oil<br>Year=%{x}<br>value=%{y}<extra></extra>\",\"legendgroup\":\"#6 Fuel Oil\",\"line\":{\"color\":\"rgb(136, 204, 238)\",\"dash\":\"solid\"},\"marker\":{\"symbol\":\"circle\"},\"mode\":\"lines\",\"name\":\"#6 Fuel Oil\",\"orientation\":\"v\",\"showlegend\":true,\"x\":[\"2006_2007\",\"2007_2008\",\"2008_2009\",\"2009_2010\",\"2010_2011\",\"2011_2012\",\"2012_2013\",\"2013_2014\",\"2014_2015\",\"2015_2016\",\"2016_2017\",\"2017_2018\",\"2018_2019\",\"2019_2020\",\"2020_2021\",\"2021_2022\",\"2022_2023\",\"2023_2024\",null,null],\"xaxis\":\"x\",\"y\":[23876.0,25145.0,22366.0,14041.0,11272.0,11405.0,6489.0,7272.0,7032.0,2169.0,1880.0,423.0,0.0,0.0,0.0,0.0,0.0,0.0,0.0,0.0],\"yaxis\":\"y\",\"type\":\"scatter\"},{\"hovertemplate\":\"Source_MCTDEs=#2 and Diesel<br>Year=%{x}<br>value=%{y}<extra></extra>\",\"legendgroup\":\"#2 and Diesel\",\"line\":{\"color\":\"rgb(204, 102, 119)\",\"dash\":\"solid\"},\"marker\":{\"symbol\":\"circle\"},\"mode\":\"lines\",\"name\":\"#2 and Diesel\",\"orientation\":\"v\",\"showlegend\":true,\"x\":[\"2006_2007\",\"2007_2008\",\"2008_2009\",\"2009_2010\",\"2010_2011\",\"2011_2012\",\"2012_2013\",\"2013_2014\",\"2014_2015\",\"2015_2016\",\"2016_2017\",\"2017_2018\",\"2018_2019\",\"2019_2020\",\"2020_2021\",\"2021_2022\",\"2022_2023\",\"2023_2024\",null,null],\"xaxis\":\"x\",\"y\":[2003.0,1844.0,1813.0,1538.0,1923.0,1625.0,1896.0,1942.0,1908.0,1993.0,1900.0,1929.0,1688.0,1613.0,1679.0,1142.0,989.0,846.0,747.0,0.0],\"yaxis\":\"y\",\"type\":\"scatter\"},{\"hovertemplate\":\"Source_MCTDEs=Propane<br>Year=%{x}<br>value=%{y}<extra></extra>\",\"legendgroup\":\"Propane\",\"line\":{\"color\":\"rgb(221, 204, 119)\",\"dash\":\"solid\"},\"marker\":{\"symbol\":\"circle\"},\"mode\":\"lines\",\"name\":\"Propane\",\"orientation\":\"v\",\"showlegend\":true,\"x\":[\"2006_2007\",\"2007_2008\",\"2008_2009\",\"2009_2010\",\"2010_2011\",\"2011_2012\",\"2012_2013\",\"2013_2014\",\"2014_2015\",\"2015_2016\",\"2016_2017\",\"2017_2018\",\"2018_2019\",\"2019_2020\",\"2020_2021\",\"2021_2022\",\"2022_2023\",\"2023_2024\",null,null],\"xaxis\":\"x\",\"y\":[712.0,655.0,643.0,591.0,653.0,659.0,611.0,380.0,463.0,413.0,599.0,509.0,531.0,387.0,330.0,437.0,402.0,406.0,414.0,0.0],\"yaxis\":\"y\",\"type\":\"scatter\"},{\"hovertemplate\":\"Source_MCTDEs=Natural Gas<br>Year=%{x}<br>value=%{y}<extra></extra>\",\"legendgroup\":\"Natural Gas\",\"line\":{\"color\":\"rgb(17, 119, 51)\",\"dash\":\"solid\"},\"marker\":{\"symbol\":\"circle\"},\"mode\":\"lines\",\"name\":\"Natural Gas\",\"orientation\":\"v\",\"showlegend\":true,\"x\":[\"2006_2007\",\"2007_2008\",\"2008_2009\",\"2009_2010\",\"2010_2011\",\"2011_2012\",\"2012_2013\",\"2013_2014\",\"2014_2015\",\"2015_2016\",\"2016_2017\",\"2017_2018\",\"2018_2019\",\"2019_2020\",\"2020_2021\",\"2021_2022\",\"2022_2023\",\"2023_2024\",null,null],\"xaxis\":\"x\",\"y\":[0.0,0.0,0.0,0.0,0.0,0.0,0.0,0.0,0.0,3763.0,3018.0,4392.0,5068.0,4433.0,6105.0,6397.0,4323.0,3260.0,936.0,116.0],\"yaxis\":\"y\",\"type\":\"scatter\"},{\"hovertemplate\":\"Source_MCTDEs=Anthropogenic Biomass<br>Year=%{x}<br>value=%{y}<extra></extra>\",\"legendgroup\":\"Anthropogenic Biomass\",\"line\":{\"color\":\"rgb(51, 34, 136)\",\"dash\":\"solid\"},\"marker\":{\"symbol\":\"circle\"},\"mode\":\"lines\",\"name\":\"Anthropogenic Biomass\",\"orientation\":\"v\",\"showlegend\":true,\"x\":[\"2006_2007\",\"2007_2008\",\"2008_2009\",\"2009_2010\",\"2010_2011\",\"2011_2012\",\"2012_2013\",\"2013_2014\",\"2014_2015\",\"2015_2016\",\"2016_2017\",\"2017_2018\",\"2018_2019\",\"2019_2020\",\"2020_2021\",\"2021_2022\",\"2022_2023\",\"2023_2024\",null,null],\"xaxis\":\"x\",\"y\":[0.0,0.0,42.0,181.0,247.0,207.0,273.0,333.0,320.0,255.0,283.0,267.0,278.0,239.0,199.0,202.0,231.0,243.0,288.0,88.0],\"yaxis\":\"y\",\"type\":\"scatter\"},{\"hovertemplate\":\"Source_MCTDEs=RNG<br>Year=%{x}<br>value=%{y}<extra></extra>\",\"legendgroup\":\"RNG\",\"line\":{\"color\":\"rgb(170, 68, 153)\",\"dash\":\"solid\"},\"marker\":{\"symbol\":\"circle\"},\"mode\":\"lines\",\"name\":\"RNG\",\"orientation\":\"v\",\"showlegend\":true,\"x\":[\"2006_2007\",\"2007_2008\",\"2008_2009\",\"2009_2010\",\"2010_2011\",\"2011_2012\",\"2012_2013\",\"2013_2014\",\"2014_2015\",\"2015_2016\",\"2016_2017\",\"2017_2018\",\"2018_2019\",\"2019_2020\",\"2020_2021\",\"2021_2022\",\"2022_2023\",\"2023_2024\",null,null],\"xaxis\":\"x\",\"y\":[0.0,0.0,0.0,0.0,0.0,0.0,0.0,0.0,0.0,0.0,0.0,0.0,0.0,0.0,0.0,0.0,0.0,0.0,0.0,0.0],\"yaxis\":\"y\",\"type\":\"scatter\"},{\"hovertemplate\":\"Source_MCTDEs=Gas<br>Year=%{x}<br>value=%{y}<extra></extra>\",\"legendgroup\":\"Gas\",\"line\":{\"color\":\"rgb(68, 170, 153)\",\"dash\":\"solid\"},\"marker\":{\"symbol\":\"circle\"},\"mode\":\"lines\",\"name\":\"Gas\",\"orientation\":\"v\",\"showlegend\":true,\"x\":[\"2006_2007\",\"2007_2008\",\"2008_2009\",\"2009_2010\",\"2010_2011\",\"2011_2012\",\"2012_2013\",\"2013_2014\",\"2014_2015\",\"2015_2016\",\"2016_2017\",\"2017_2018\",\"2018_2019\",\"2019_2020\",\"2020_2021\",\"2021_2022\",\"2022_2023\",\"2023_2024\",null,null],\"xaxis\":\"x\",\"y\":[243.0,254.0,242.0,202.0,230.0,216.0,240.0,267.0,264.0,245.0,238.0,228.0,205.0,155.0,150.0,167.0,144.0,177.0,144.0,0.0],\"yaxis\":\"y\",\"type\":\"scatter\"},{\"hovertemplate\":\"Source_MCTDEs=Diesel<br>Year=%{x}<br>value=%{y}<extra></extra>\",\"legendgroup\":\"Diesel\",\"line\":{\"color\":\"rgb(153, 153, 51)\",\"dash\":\"solid\"},\"marker\":{\"symbol\":\"circle\"},\"mode\":\"lines\",\"name\":\"Diesel\",\"orientation\":\"v\",\"showlegend\":true,\"x\":[\"2006_2007\",\"2007_2008\",\"2008_2009\",\"2009_2010\",\"2010_2011\",\"2011_2012\",\"2012_2013\",\"2013_2014\",\"2014_2015\",\"2015_2016\",\"2016_2017\",\"2017_2018\",\"2018_2019\",\"2019_2020\",\"2020_2021\",\"2021_2022\",\"2022_2023\",\"2023_2024\",null,null],\"xaxis\":\"x\",\"y\":[123.0,139.0,185.0,136.0,181.0,141.0,130.0,131.0,136.0,97.0,107.0,108.0,104.0,75.0,76.0,93.0,92.0,93.0,89.0,0.0],\"yaxis\":\"y\",\"type\":\"scatter\"}],                        {\"template\":{\"data\":{\"histogram2dcontour\":[{\"type\":\"histogram2dcontour\",\"colorbar\":{\"outlinewidth\":0,\"ticks\":\"\"},\"colorscale\":[[0.0,\"#0d0887\"],[0.1111111111111111,\"#46039f\"],[0.2222222222222222,\"#7201a8\"],[0.3333333333333333,\"#9c179e\"],[0.4444444444444444,\"#bd3786\"],[0.5555555555555556,\"#d8576b\"],[0.6666666666666666,\"#ed7953\"],[0.7777777777777778,\"#fb9f3a\"],[0.8888888888888888,\"#fdca26\"],[1.0,\"#f0f921\"]]}],\"choropleth\":[{\"type\":\"choropleth\",\"colorbar\":{\"outlinewidth\":0,\"ticks\":\"\"}}],\"histogram2d\":[{\"type\":\"histogram2d\",\"colorbar\":{\"outlinewidth\":0,\"ticks\":\"\"},\"colorscale\":[[0.0,\"#0d0887\"],[0.1111111111111111,\"#46039f\"],[0.2222222222222222,\"#7201a8\"],[0.3333333333333333,\"#9c179e\"],[0.4444444444444444,\"#bd3786\"],[0.5555555555555556,\"#d8576b\"],[0.6666666666666666,\"#ed7953\"],[0.7777777777777778,\"#fb9f3a\"],[0.8888888888888888,\"#fdca26\"],[1.0,\"#f0f921\"]]}],\"heatmap\":[{\"type\":\"heatmap\",\"colorbar\":{\"outlinewidth\":0,\"ticks\":\"\"},\"colorscale\":[[0.0,\"#0d0887\"],[0.1111111111111111,\"#46039f\"],[0.2222222222222222,\"#7201a8\"],[0.3333333333333333,\"#9c179e\"],[0.4444444444444444,\"#bd3786\"],[0.5555555555555556,\"#d8576b\"],[0.6666666666666666,\"#ed7953\"],[0.7777777777777778,\"#fb9f3a\"],[0.8888888888888888,\"#fdca26\"],[1.0,\"#f0f921\"]]}],\"heatmapgl\":[{\"type\":\"heatmapgl\",\"colorbar\":{\"outlinewidth\":0,\"ticks\":\"\"},\"colorscale\":[[0.0,\"#0d0887\"],[0.1111111111111111,\"#46039f\"],[0.2222222222222222,\"#7201a8\"],[0.3333333333333333,\"#9c179e\"],[0.4444444444444444,\"#bd3786\"],[0.5555555555555556,\"#d8576b\"],[0.6666666666666666,\"#ed7953\"],[0.7777777777777778,\"#fb9f3a\"],[0.8888888888888888,\"#fdca26\"],[1.0,\"#f0f921\"]]}],\"contourcarpet\":[{\"type\":\"contourcarpet\",\"colorbar\":{\"outlinewidth\":0,\"ticks\":\"\"}}],\"contour\":[{\"type\":\"contour\",\"colorbar\":{\"outlinewidth\":0,\"ticks\":\"\"},\"colorscale\":[[0.0,\"#0d0887\"],[0.1111111111111111,\"#46039f\"],[0.2222222222222222,\"#7201a8\"],[0.3333333333333333,\"#9c179e\"],[0.4444444444444444,\"#bd3786\"],[0.5555555555555556,\"#d8576b\"],[0.6666666666666666,\"#ed7953\"],[0.7777777777777778,\"#fb9f3a\"],[0.8888888888888888,\"#fdca26\"],[1.0,\"#f0f921\"]]}],\"surface\":[{\"type\":\"surface\",\"colorbar\":{\"outlinewidth\":0,\"ticks\":\"\"},\"colorscale\":[[0.0,\"#0d0887\"],[0.1111111111111111,\"#46039f\"],[0.2222222222222222,\"#7201a8\"],[0.3333333333333333,\"#9c179e\"],[0.4444444444444444,\"#bd3786\"],[0.5555555555555556,\"#d8576b\"],[0.6666666666666666,\"#ed7953\"],[0.7777777777777778,\"#fb9f3a\"],[0.8888888888888888,\"#fdca26\"],[1.0,\"#f0f921\"]]}],\"mesh3d\":[{\"type\":\"mesh3d\",\"colorbar\":{\"outlinewidth\":0,\"ticks\":\"\"}}],\"scatter\":[{\"fillpattern\":{\"fillmode\":\"overlay\",\"size\":10,\"solidity\":0.2},\"type\":\"scatter\"}],\"parcoords\":[{\"type\":\"parcoords\",\"line\":{\"colorbar\":{\"outlinewidth\":0,\"ticks\":\"\"}}}],\"scatterpolargl\":[{\"type\":\"scatterpolargl\",\"marker\":{\"colorbar\":{\"outlinewidth\":0,\"ticks\":\"\"}}}],\"bar\":[{\"error_x\":{\"color\":\"#2a3f5f\"},\"error_y\":{\"color\":\"#2a3f5f\"},\"marker\":{\"line\":{\"color\":\"#E5ECF6\",\"width\":0.5},\"pattern\":{\"fillmode\":\"overlay\",\"size\":10,\"solidity\":0.2}},\"type\":\"bar\"}],\"scattergeo\":[{\"type\":\"scattergeo\",\"marker\":{\"colorbar\":{\"outlinewidth\":0,\"ticks\":\"\"}}}],\"scatterpolar\":[{\"type\":\"scatterpolar\",\"marker\":{\"colorbar\":{\"outlinewidth\":0,\"ticks\":\"\"}}}],\"histogram\":[{\"marker\":{\"pattern\":{\"fillmode\":\"overlay\",\"size\":10,\"solidity\":0.2}},\"type\":\"histogram\"}],\"scattergl\":[{\"type\":\"scattergl\",\"marker\":{\"colorbar\":{\"outlinewidth\":0,\"ticks\":\"\"}}}],\"scatter3d\":[{\"type\":\"scatter3d\",\"line\":{\"colorbar\":{\"outlinewidth\":0,\"ticks\":\"\"}},\"marker\":{\"colorbar\":{\"outlinewidth\":0,\"ticks\":\"\"}}}],\"scattermapbox\":[{\"type\":\"scattermapbox\",\"marker\":{\"colorbar\":{\"outlinewidth\":0,\"ticks\":\"\"}}}],\"scatterternary\":[{\"type\":\"scatterternary\",\"marker\":{\"colorbar\":{\"outlinewidth\":0,\"ticks\":\"\"}}}],\"scattercarpet\":[{\"type\":\"scattercarpet\",\"marker\":{\"colorbar\":{\"outlinewidth\":0,\"ticks\":\"\"}}}],\"carpet\":[{\"aaxis\":{\"endlinecolor\":\"#2a3f5f\",\"gridcolor\":\"white\",\"linecolor\":\"white\",\"minorgridcolor\":\"white\",\"startlinecolor\":\"#2a3f5f\"},\"baxis\":{\"endlinecolor\":\"#2a3f5f\",\"gridcolor\":\"white\",\"linecolor\":\"white\",\"minorgridcolor\":\"white\",\"startlinecolor\":\"#2a3f5f\"},\"type\":\"carpet\"}],\"table\":[{\"cells\":{\"fill\":{\"color\":\"#EBF0F8\"},\"line\":{\"color\":\"white\"}},\"header\":{\"fill\":{\"color\":\"#C8D4E3\"},\"line\":{\"color\":\"white\"}},\"type\":\"table\"}],\"barpolar\":[{\"marker\":{\"line\":{\"color\":\"#E5ECF6\",\"width\":0.5},\"pattern\":{\"fillmode\":\"overlay\",\"size\":10,\"solidity\":0.2}},\"type\":\"barpolar\"}],\"pie\":[{\"automargin\":true,\"type\":\"pie\"}]},\"layout\":{\"autotypenumbers\":\"strict\",\"colorway\":[\"#636efa\",\"#EF553B\",\"#00cc96\",\"#ab63fa\",\"#FFA15A\",\"#19d3f3\",\"#FF6692\",\"#B6E880\",\"#FF97FF\",\"#FECB52\"],\"font\":{\"color\":\"#2a3f5f\"},\"hovermode\":\"closest\",\"hoverlabel\":{\"align\":\"left\"},\"paper_bgcolor\":\"white\",\"plot_bgcolor\":\"#E5ECF6\",\"polar\":{\"bgcolor\":\"#E5ECF6\",\"angularaxis\":{\"gridcolor\":\"white\",\"linecolor\":\"white\",\"ticks\":\"\"},\"radialaxis\":{\"gridcolor\":\"white\",\"linecolor\":\"white\",\"ticks\":\"\"}},\"ternary\":{\"bgcolor\":\"#E5ECF6\",\"aaxis\":{\"gridcolor\":\"white\",\"linecolor\":\"white\",\"ticks\":\"\"},\"baxis\":{\"gridcolor\":\"white\",\"linecolor\":\"white\",\"ticks\":\"\"},\"caxis\":{\"gridcolor\":\"white\",\"linecolor\":\"white\",\"ticks\":\"\"}},\"coloraxis\":{\"colorbar\":{\"outlinewidth\":0,\"ticks\":\"\"}},\"colorscale\":{\"sequential\":[[0.0,\"#0d0887\"],[0.1111111111111111,\"#46039f\"],[0.2222222222222222,\"#7201a8\"],[0.3333333333333333,\"#9c179e\"],[0.4444444444444444,\"#bd3786\"],[0.5555555555555556,\"#d8576b\"],[0.6666666666666666,\"#ed7953\"],[0.7777777777777778,\"#fb9f3a\"],[0.8888888888888888,\"#fdca26\"],[1.0,\"#f0f921\"]],\"sequentialminus\":[[0.0,\"#0d0887\"],[0.1111111111111111,\"#46039f\"],[0.2222222222222222,\"#7201a8\"],[0.3333333333333333,\"#9c179e\"],[0.4444444444444444,\"#bd3786\"],[0.5555555555555556,\"#d8576b\"],[0.6666666666666666,\"#ed7953\"],[0.7777777777777778,\"#fb9f3a\"],[0.8888888888888888,\"#fdca26\"],[1.0,\"#f0f921\"]],\"diverging\":[[0,\"#8e0152\"],[0.1,\"#c51b7d\"],[0.2,\"#de77ae\"],[0.3,\"#f1b6da\"],[0.4,\"#fde0ef\"],[0.5,\"#f7f7f7\"],[0.6,\"#e6f5d0\"],[0.7,\"#b8e186\"],[0.8,\"#7fbc41\"],[0.9,\"#4d9221\"],[1,\"#276419\"]]},\"xaxis\":{\"gridcolor\":\"white\",\"linecolor\":\"white\",\"ticks\":\"\",\"title\":{\"standoff\":15},\"zerolinecolor\":\"white\",\"automargin\":true,\"zerolinewidth\":2},\"yaxis\":{\"gridcolor\":\"white\",\"linecolor\":\"white\",\"ticks\":\"\",\"title\":{\"standoff\":15},\"zerolinecolor\":\"white\",\"automargin\":true,\"zerolinewidth\":2},\"scene\":{\"xaxis\":{\"backgroundcolor\":\"#E5ECF6\",\"gridcolor\":\"white\",\"linecolor\":\"white\",\"showbackground\":true,\"ticks\":\"\",\"zerolinecolor\":\"white\",\"gridwidth\":2},\"yaxis\":{\"backgroundcolor\":\"#E5ECF6\",\"gridcolor\":\"white\",\"linecolor\":\"white\",\"showbackground\":true,\"ticks\":\"\",\"zerolinecolor\":\"white\",\"gridwidth\":2},\"zaxis\":{\"backgroundcolor\":\"#E5ECF6\",\"gridcolor\":\"white\",\"linecolor\":\"white\",\"showbackground\":true,\"ticks\":\"\",\"zerolinecolor\":\"white\",\"gridwidth\":2}},\"shapedefaults\":{\"line\":{\"color\":\"#2a3f5f\"}},\"annotationdefaults\":{\"arrowcolor\":\"#2a3f5f\",\"arrowhead\":0,\"arrowwidth\":1},\"geo\":{\"bgcolor\":\"white\",\"landcolor\":\"#E5ECF6\",\"subunitcolor\":\"white\",\"showland\":true,\"showlakes\":true,\"lakecolor\":\"white\"},\"title\":{\"x\":0.05},\"mapbox\":{\"style\":\"light\"}}},\"xaxis\":{\"anchor\":\"y\",\"domain\":[0.0,1.0],\"title\":{\"text\":\"Year\"}},\"yaxis\":{\"anchor\":\"x\",\"domain\":[0.0,1.0],\"title\":{\"text\":\"value\"}},\"legend\":{\"title\":{\"text\":\"Source_MCTDEs\"},\"tracegroupgap\":0},\"margin\":{\"t\":60}},                        {\"responsive\": true}                    ).then(function(){\n",
       "                            \n",
       "var gd = document.getElementById('3de8584c-4565-4e51-90b1-ad82b90f6f02');\n",
       "var x = new MutationObserver(function (mutations, observer) {{\n",
       "        var display = window.getComputedStyle(gd).display;\n",
       "        if (!display || display === 'none') {{\n",
       "            console.log([gd, 'removed!']);\n",
       "            Plotly.purge(gd);\n",
       "            observer.disconnect();\n",
       "        }}\n",
       "}});\n",
       "\n",
       "// Listen for the removal of the full notebook cells\n",
       "var notebookContainer = gd.closest('#notebook-container');\n",
       "if (notebookContainer) {{\n",
       "    x.observe(notebookContainer, {childList: true});\n",
       "}}\n",
       "\n",
       "// Listen for the clearing of the current output cell\n",
       "var outputEl = gd.closest('.output');\n",
       "if (outputEl) {{\n",
       "    x.observe(outputEl, {childList: true});\n",
       "}}\n",
       "\n",
       "                        })                };                });            </script>        </div>"
      ]
     },
     "metadata": {},
     "output_type": "display_data"
    }
   ],
   "source": [
    "fig = px.line(scope1, x= \"Year\" ,y= \"value\", color=\"Source_MCTDEs\", color_discrete_sequence=px.colors.qualitative.Safe)\n",
    "fig.show()"
   ]
  },
  {
   "cell_type": "code",
   "execution_count": 13,
   "id": "f8c2d7cf",
   "metadata": {},
   "outputs": [
    {
     "data": {
      "text/html": [
       "<div>\n",
       "<style scoped>\n",
       "    .dataframe tbody tr th:only-of-type {\n",
       "        vertical-align: middle;\n",
       "    }\n",
       "\n",
       "    .dataframe tbody tr th {\n",
       "        vertical-align: top;\n",
       "    }\n",
       "\n",
       "    .dataframe thead th {\n",
       "        text-align: right;\n",
       "    }\n",
       "</style>\n",
       "<table border=\"1\" class=\"dataframe\">\n",
       "  <thead>\n",
       "    <tr style=\"text-align: right;\">\n",
       "      <th></th>\n",
       "      <th>Unnamed: 0.1</th>\n",
       "      <th>Unnamed: 0</th>\n",
       "      <th>Year</th>\n",
       "      <th>Scope_Total_MCTDEs</th>\n",
       "      <th>value</th>\n",
       "    </tr>\n",
       "  </thead>\n",
       "  <tbody>\n",
       "    <tr>\n",
       "      <th>0</th>\n",
       "      <td>0</td>\n",
       "      <td>0</td>\n",
       "      <td>2006_2007</td>\n",
       "      <td>Scope 1</td>\n",
       "      <td>26957.8</td>\n",
       "    </tr>\n",
       "    <tr>\n",
       "      <th>1</th>\n",
       "      <td>1</td>\n",
       "      <td>1</td>\n",
       "      <td>2007_2008</td>\n",
       "      <td>Scope 1</td>\n",
       "      <td>28036.6</td>\n",
       "    </tr>\n",
       "    <tr>\n",
       "      <th>2</th>\n",
       "      <td>2</td>\n",
       "      <td>2</td>\n",
       "      <td>2008_2009</td>\n",
       "      <td>Scope 1</td>\n",
       "      <td>25290.9</td>\n",
       "    </tr>\n",
       "    <tr>\n",
       "      <th>3</th>\n",
       "      <td>3</td>\n",
       "      <td>3</td>\n",
       "      <td>2009_2010</td>\n",
       "      <td>Scope 1</td>\n",
       "      <td>16689.2</td>\n",
       "    </tr>\n",
       "    <tr>\n",
       "      <th>4</th>\n",
       "      <td>4</td>\n",
       "      <td>4</td>\n",
       "      <td>2010_2011</td>\n",
       "      <td>Scope 1</td>\n",
       "      <td>14505.3</td>\n",
       "    </tr>\n",
       "    <tr>\n",
       "      <th>...</th>\n",
       "      <td>...</td>\n",
       "      <td>...</td>\n",
       "      <td>...</td>\n",
       "      <td>...</td>\n",
       "      <td>...</td>\n",
       "    </tr>\n",
       "    <tr>\n",
       "      <th>103</th>\n",
       "      <td>103</td>\n",
       "      <td>103</td>\n",
       "      <td>2019_2020</td>\n",
       "      <td>Total</td>\n",
       "      <td>0.0</td>\n",
       "    </tr>\n",
       "    <tr>\n",
       "      <th>104</th>\n",
       "      <td>104</td>\n",
       "      <td>104</td>\n",
       "      <td>2020_2021</td>\n",
       "      <td>Total</td>\n",
       "      <td>11058.2</td>\n",
       "    </tr>\n",
       "    <tr>\n",
       "      <th>105</th>\n",
       "      <td>105</td>\n",
       "      <td>105</td>\n",
       "      <td>2021_2022</td>\n",
       "      <td>Total</td>\n",
       "      <td>10858.3</td>\n",
       "    </tr>\n",
       "    <tr>\n",
       "      <th>106</th>\n",
       "      <td>106</td>\n",
       "      <td>106</td>\n",
       "      <td>2022_2023</td>\n",
       "      <td>Total</td>\n",
       "      <td>8860.6</td>\n",
       "    </tr>\n",
       "    <tr>\n",
       "      <th>107</th>\n",
       "      <td>107</td>\n",
       "      <td>107</td>\n",
       "      <td>2023_2024</td>\n",
       "      <td>Total</td>\n",
       "      <td>7704.7</td>\n",
       "    </tr>\n",
       "  </tbody>\n",
       "</table>\n",
       "<p>108 rows × 5 columns</p>\n",
       "</div>"
      ],
      "text/plain": [
       "     Unnamed: 0.1  Unnamed: 0       Year Scope_Total_MCTDEs    value\n",
       "0               0           0  2006_2007            Scope 1  26957.8\n",
       "1               1           1  2007_2008            Scope 1  28036.6\n",
       "2               2           2  2008_2009            Scope 1  25290.9\n",
       "3               3           3  2009_2010            Scope 1  16689.2\n",
       "4               4           4  2010_2011            Scope 1  14505.3\n",
       "..            ...         ...        ...                ...      ...\n",
       "103           103         103  2019_2020              Total      0.0\n",
       "104           104         104  2020_2021              Total  11058.2\n",
       "105           105         105  2021_2022              Total  10858.3\n",
       "106           106         106  2022_2023              Total   8860.6\n",
       "107           107         107  2023_2024              Total   7704.7\n",
       "\n",
       "[108 rows x 5 columns]"
      ]
     },
     "execution_count": 13,
     "metadata": {},
     "output_type": "execute_result"
    }
   ],
   "source": [
    "overall_comps"
   ]
  },
  {
   "cell_type": "code",
   "execution_count": null,
   "id": "308bf1e0",
   "metadata": {},
   "outputs": [],
   "source": [
    "scope2"
   ]
  },
  {
   "cell_type": "code",
   "execution_count": 3,
   "id": "6c40cd8f",
   "metadata": {},
   "outputs": [
    {
     "data": {
      "text/html": [
       "<div>\n",
       "<style scoped>\n",
       "    .dataframe tbody tr th:only-of-type {\n",
       "        vertical-align: middle;\n",
       "    }\n",
       "\n",
       "    .dataframe tbody tr th {\n",
       "        vertical-align: top;\n",
       "    }\n",
       "\n",
       "    .dataframe thead th {\n",
       "        text-align: right;\n",
       "    }\n",
       "</style>\n",
       "<table border=\"1\" class=\"dataframe\">\n",
       "  <thead>\n",
       "    <tr style=\"text-align: right;\">\n",
       "      <th></th>\n",
       "      <th>Unnamed: 0</th>\n",
       "      <th>Year</th>\n",
       "      <th>Source_MTCDEs</th>\n",
       "      <th>value</th>\n",
       "      <th>Scope_Type</th>\n",
       "    </tr>\n",
       "  </thead>\n",
       "  <tbody>\n",
       "    <tr>\n",
       "      <th>0</th>\n",
       "      <td>0</td>\n",
       "      <td>2006_2007</td>\n",
       "      <td>#6 Fuel Oil</td>\n",
       "      <td>23876.0</td>\n",
       "      <td>Scope 1</td>\n",
       "    </tr>\n",
       "    <tr>\n",
       "      <th>1</th>\n",
       "      <td>1</td>\n",
       "      <td>2007_2008</td>\n",
       "      <td>#6 Fuel Oil</td>\n",
       "      <td>25145.0</td>\n",
       "      <td>Scope 1</td>\n",
       "    </tr>\n",
       "    <tr>\n",
       "      <th>2</th>\n",
       "      <td>2</td>\n",
       "      <td>2008_2009</td>\n",
       "      <td>#6 Fuel Oil</td>\n",
       "      <td>22366.0</td>\n",
       "      <td>Scope 1</td>\n",
       "    </tr>\n",
       "    <tr>\n",
       "      <th>3</th>\n",
       "      <td>3</td>\n",
       "      <td>2009_2010</td>\n",
       "      <td>#6 Fuel Oil</td>\n",
       "      <td>14041.0</td>\n",
       "      <td>Scope 1</td>\n",
       "    </tr>\n",
       "    <tr>\n",
       "      <th>4</th>\n",
       "      <td>4</td>\n",
       "      <td>2010_2011</td>\n",
       "      <td>#6 Fuel Oil</td>\n",
       "      <td>11272.0</td>\n",
       "      <td>Scope 1</td>\n",
       "    </tr>\n",
       "    <tr>\n",
       "      <th>...</th>\n",
       "      <td>...</td>\n",
       "      <td>...</td>\n",
       "      <td>...</td>\n",
       "      <td>...</td>\n",
       "      <td>...</td>\n",
       "    </tr>\n",
       "    <tr>\n",
       "      <th>389</th>\n",
       "      <td>229</td>\n",
       "      <td>2019_2020</td>\n",
       "      <td>Scope 2 TOTAL</td>\n",
       "      <td>174.0</td>\n",
       "      <td>Scope 2</td>\n",
       "    </tr>\n",
       "    <tr>\n",
       "      <th>390</th>\n",
       "      <td>230</td>\n",
       "      <td>2020_2021</td>\n",
       "      <td>Scope 2 TOTAL</td>\n",
       "      <td>0.0</td>\n",
       "      <td>Scope 2</td>\n",
       "    </tr>\n",
       "    <tr>\n",
       "      <th>391</th>\n",
       "      <td>231</td>\n",
       "      <td>2021_2022</td>\n",
       "      <td>Scope 2 TOTAL</td>\n",
       "      <td>0.0</td>\n",
       "      <td>Scope 2</td>\n",
       "    </tr>\n",
       "    <tr>\n",
       "      <th>392</th>\n",
       "      <td>232</td>\n",
       "      <td>2022_2023</td>\n",
       "      <td>Scope 2 TOTAL</td>\n",
       "      <td>0.0</td>\n",
       "      <td>Scope 2</td>\n",
       "    </tr>\n",
       "    <tr>\n",
       "      <th>393</th>\n",
       "      <td>233</td>\n",
       "      <td>2023_2024</td>\n",
       "      <td>Scope 2 TOTAL</td>\n",
       "      <td>0.0</td>\n",
       "      <td>Scope 2</td>\n",
       "    </tr>\n",
       "  </tbody>\n",
       "</table>\n",
       "<p>394 rows × 5 columns</p>\n",
       "</div>"
      ],
      "text/plain": [
       "     Unnamed: 0       Year  Source_MTCDEs    value Scope_Type\n",
       "0             0  2006_2007    #6 Fuel Oil  23876.0    Scope 1\n",
       "1             1  2007_2008    #6 Fuel Oil  25145.0    Scope 1\n",
       "2             2  2008_2009    #6 Fuel Oil  22366.0    Scope 1\n",
       "3             3  2009_2010    #6 Fuel Oil  14041.0    Scope 1\n",
       "4             4  2010_2011    #6 Fuel Oil  11272.0    Scope 1\n",
       "..          ...        ...            ...      ...        ...\n",
       "389         229  2019_2020  Scope 2 TOTAL    174.0    Scope 2\n",
       "390         230  2020_2021  Scope 2 TOTAL      0.0    Scope 2\n",
       "391         231  2021_2022  Scope 2 TOTAL      0.0    Scope 2\n",
       "392         232  2022_2023  Scope 2 TOTAL      0.0    Scope 2\n",
       "393         233  2023_2024  Scope 2 TOTAL      0.0    Scope 2\n",
       "\n",
       "[394 rows x 5 columns]"
      ]
     },
     "execution_count": 3,
     "metadata": {},
     "output_type": "execute_result"
    }
   ],
   "source": [
    "scopes= pd.read_csv(\"/Users/jdeen@middlebury.edu/Documents/ENV_Dashboard/ENV_Dash/Data/Vizuals/scopes1_2_treemapform.csv\")\n",
    "scopes"
   ]
  },
  {
   "cell_type": "code",
   "execution_count": null,
   "id": "0922913b-1f2c-46ce-8538-4e9dd60c5fb1",
   "metadata": {},
   "outputs": [],
   "source": []
  },
  {
   "cell_type": "code",
   "execution_count": 31,
   "id": "7fd328d7-989f-4a3c-a7ce-f11eac89f9f8",
   "metadata": {},
   "outputs": [],
   "source": [
    "scope1 = scopes[scopes['Scope_Type']== \"Scope 1\"]\n",
    "scope2= scopes[(scopes['Scope_Type']== \"Scope 2\")&(scopes['Source_MTCDEs']!= 'Scope 2 TOTAL' )]"
   ]
  },
  {
   "cell_type": "code",
   "execution_count": null,
   "id": "3e573103-990c-4105-843d-d2fcd9015d7c",
   "metadata": {},
   "outputs": [],
   "source": []
  },
  {
   "cell_type": "code",
   "execution_count": 33,
   "id": "a638f373-1d86-4fd5-a455-7e2b20545899",
   "metadata": {},
   "outputs": [
    {
     "data": {
      "application/vnd.plotly.v1+json": {
       "config": {
        "plotlyServerURL": "https://plot.ly"
       },
       "data": [
        {
         "branchvalues": "total",
         "customdata": [
          [
           "Other (assume NPCC grid)"
          ],
          [
           "Other (assume NPCC grid)"
          ],
          [
           "Other (assume NPCC grid)"
          ],
          [
           "Other (assume NPCC grid)"
          ],
          [
           "Other (assume NPCC grid)"
          ],
          [
           "Other (assume NPCC grid)"
          ],
          [
           "Other (assume NPCC grid)"
          ],
          [
           "Other (assume NPCC grid)"
          ],
          [
           "Other (assume NPCC grid)"
          ],
          [
           "Other (assume NPCC grid)"
          ],
          [
           "Other (assume NPCC grid)"
          ],
          [
           "Other (assume NPCC grid)"
          ],
          [
           "Other (assume NPCC grid)"
          ],
          [
           "Other (assume NPCC grid)"
          ],
          [
           "Other (assume NPCC grid)"
          ],
          [
           "Other (assume NPCC grid)"
          ],
          [
           "Other (assume NPCC grid)"
          ],
          [
           "Other (assume NPCC grid)"
          ],
          [
           "Solar"
          ],
          [
           "Solar"
          ],
          [
           "Solar"
          ],
          [
           "Solar"
          ],
          [
           "Solar"
          ],
          [
           "Solar"
          ],
          [
           "Solar"
          ],
          [
           "Solar"
          ],
          [
           "Solar"
          ],
          [
           "Solar"
          ],
          [
           "Solar"
          ],
          [
           "Solar"
          ],
          [
           "Solar"
          ],
          [
           "Solar"
          ],
          [
           "Solar"
          ],
          [
           "Solar"
          ],
          [
           "Solar"
          ],
          [
           "Solar"
          ],
          [
           "Co-Generation"
          ],
          [
           "Co-Generation"
          ],
          [
           "Co-Generation"
          ],
          [
           "Co-Generation"
          ],
          [
           "Co-Generation"
          ],
          [
           "Co-Generation"
          ],
          [
           "Co-Generation"
          ],
          [
           "Co-Generation"
          ],
          [
           "Co-Generation"
          ],
          [
           "Co-Generation"
          ],
          [
           "Co-Generation"
          ],
          [
           "Co-Generation"
          ],
          [
           "Co-Generation"
          ],
          [
           "Co-Generation"
          ],
          [
           "Co-Generation"
          ],
          [
           "Co-Generation"
          ],
          [
           "Co-Generation"
          ],
          [
           "Co-Generation"
          ],
          [
           "CH4 digestion"
          ],
          [
           "CH4 digestion"
          ],
          [
           "CH4 digestion"
          ],
          [
           "CH4 digestion"
          ],
          [
           "CH4 digestion"
          ],
          [
           "CH4 digestion"
          ],
          [
           "CH4 digestion"
          ],
          [
           "CH4 digestion"
          ],
          [
           "CH4 digestion"
          ],
          [
           "CH4 digestion"
          ],
          [
           "CH4 digestion"
          ],
          [
           "CH4 digestion"
          ],
          [
           "CH4 digestion"
          ],
          [
           "CH4 digestion"
          ],
          [
           "CH4 digestion"
          ],
          [
           "CH4 digestion"
          ],
          [
           "CH4 digestion"
          ],
          [
           "CH4 digestion"
          ],
          [
           "#1, 2, & 4 Fuel Oil"
          ],
          [
           "#1, 2, & 4 Fuel Oil"
          ],
          [
           "#1, 2, & 4 Fuel Oil"
          ],
          [
           "#1, 2, & 4 Fuel Oil"
          ],
          [
           "#1, 2, & 4 Fuel Oil"
          ],
          [
           "#1, 2, & 4 Fuel Oil"
          ],
          [
           "#1, 2, & 4 Fuel Oil"
          ],
          [
           "#1, 2, & 4 Fuel Oil"
          ],
          [
           "#1, 2, & 4 Fuel Oil"
          ],
          [
           "#1, 2, & 4 Fuel Oil"
          ],
          [
           "#1, 2, & 4 Fuel Oil"
          ],
          [
           "#1, 2, & 4 Fuel Oil"
          ],
          [
           "#1, 2, & 4 Fuel Oil"
          ],
          [
           "#1, 2, & 4 Fuel Oil"
          ],
          [
           "#1, 2, & 4 Fuel Oil"
          ],
          [
           "#1, 2, & 4 Fuel Oil"
          ],
          [
           "#1, 2, & 4 Fuel Oil"
          ],
          [
           "#1, 2, & 4 Fuel Oil"
          ],
          [
           "Nuclear"
          ],
          [
           "Nuclear"
          ],
          [
           "Nuclear"
          ],
          [
           "Nuclear"
          ],
          [
           "Nuclear"
          ],
          [
           "Nuclear"
          ],
          [
           "Nuclear"
          ],
          [
           "Nuclear"
          ],
          [
           "Nuclear"
          ],
          [
           "Nuclear"
          ],
          [
           "Nuclear"
          ],
          [
           "Nuclear"
          ],
          [
           "Nuclear"
          ],
          [
           "Nuclear"
          ],
          [
           "Nuclear"
          ],
          [
           "Nuclear"
          ],
          [
           "Nuclear"
          ],
          [
           "Nuclear"
          ],
          [
           "Coal"
          ],
          [
           "Coal"
          ],
          [
           "Coal"
          ],
          [
           "Coal"
          ],
          [
           "Coal"
          ],
          [
           "Coal"
          ],
          [
           "Coal"
          ],
          [
           "Coal"
          ],
          [
           "Coal"
          ],
          [
           "Coal"
          ],
          [
           "Coal"
          ],
          [
           "Coal"
          ],
          [
           "Coal"
          ],
          [
           "Coal"
          ],
          [
           "Coal"
          ],
          [
           "Coal"
          ],
          [
           "Coal"
          ],
          [
           "Coal"
          ],
          [
           "Natural Gas"
          ],
          [
           "Natural Gas"
          ],
          [
           "Natural Gas"
          ],
          [
           "Natural Gas"
          ],
          [
           "Natural Gas"
          ],
          [
           "Natural Gas"
          ],
          [
           "Natural Gas"
          ],
          [
           "Natural Gas"
          ],
          [
           "Natural Gas"
          ],
          [
           "Natural Gas"
          ],
          [
           "Natural Gas"
          ],
          [
           "Natural Gas"
          ],
          [
           "Natural Gas"
          ],
          [
           "Natural Gas"
          ],
          [
           "Natural Gas"
          ],
          [
           "Natural Gas"
          ],
          [
           "Natural Gas"
          ],
          [
           "Natural Gas"
          ],
          [
           "Hydro"
          ],
          [
           "Hydro"
          ],
          [
           "Hydro"
          ],
          [
           "Hydro"
          ],
          [
           "Hydro"
          ],
          [
           "Hydro"
          ],
          [
           "Hydro"
          ],
          [
           "Hydro"
          ],
          [
           "Hydro"
          ],
          [
           "Hydro"
          ],
          [
           "Hydro"
          ],
          [
           "Hydro"
          ],
          [
           "Hydro"
          ],
          [
           "Hydro"
          ],
          [
           "Hydro"
          ],
          [
           "Hydro"
          ],
          [
           "Hydro"
          ],
          [
           "Hydro"
          ],
          [
           "Wind"
          ],
          [
           "Wind"
          ],
          [
           "Wind"
          ],
          [
           "Wind"
          ],
          [
           "Wind"
          ],
          [
           "Wind"
          ],
          [
           "Wind"
          ],
          [
           "Wind"
          ],
          [
           "Wind"
          ],
          [
           "Wind"
          ],
          [
           "Wind"
          ],
          [
           "Wind"
          ],
          [
           "Wind"
          ],
          [
           "Wind"
          ],
          [
           "Wind"
          ],
          [
           "Wind"
          ],
          [
           "Wind"
          ],
          [
           "Wind"
          ],
          [
           "Biomass"
          ],
          [
           "Biomass"
          ],
          [
           "Biomass"
          ],
          [
           "Biomass"
          ],
          [
           "Biomass"
          ],
          [
           "Biomass"
          ],
          [
           "Biomass"
          ],
          [
           "Biomass"
          ],
          [
           "Biomass"
          ],
          [
           "Biomass"
          ],
          [
           "Biomass"
          ],
          [
           "Biomass"
          ],
          [
           "Biomass"
          ],
          [
           "Biomass"
          ],
          [
           "Biomass"
          ],
          [
           "Biomass"
          ],
          [
           "Biomass"
          ],
          [
           "Biomass"
          ],
          [
           "#5 & 6 Fuel Oil"
          ],
          [
           "#5 & 6 Fuel Oil"
          ],
          [
           "#5 & 6 Fuel Oil"
          ],
          [
           "#5 & 6 Fuel Oil"
          ],
          [
           "#5 & 6 Fuel Oil"
          ],
          [
           "#5 & 6 Fuel Oil"
          ],
          [
           "#5 & 6 Fuel Oil"
          ],
          [
           "#5 & 6 Fuel Oil"
          ],
          [
           "#5 & 6 Fuel Oil"
          ],
          [
           "#5 & 6 Fuel Oil"
          ],
          [
           "#5 & 6 Fuel Oil"
          ],
          [
           "#5 & 6 Fuel Oil"
          ],
          [
           "#5 & 6 Fuel Oil"
          ],
          [
           "#5 & 6 Fuel Oil"
          ],
          [
           "#5 & 6 Fuel Oil"
          ],
          [
           "#5 & 6 Fuel Oil"
          ],
          [
           "#5 & 6 Fuel Oil"
          ],
          [
           "#5 & 6 Fuel Oil"
          ],
          [
           "(?)"
          ],
          [
           "(?)"
          ],
          [
           "(?)"
          ],
          [
           "(?)"
          ],
          [
           "(?)"
          ],
          [
           "(?)"
          ],
          [
           "(?)"
          ],
          [
           "(?)"
          ],
          [
           "(?)"
          ],
          [
           "(?)"
          ],
          [
           "(?)"
          ],
          [
           "(?)"
          ],
          [
           "(?)"
          ],
          [
           "(?)"
          ],
          [
           "(?)"
          ],
          [
           "(?)"
          ],
          [
           "(?)"
          ],
          [
           "(?)"
          ],
          [
           "(?)"
          ],
          [
           "(?)"
          ],
          [
           "(?)"
          ],
          [
           "(?)"
          ],
          [
           "(?)"
          ],
          [
           "(?)"
          ],
          [
           "(?)"
          ],
          [
           "(?)"
          ],
          [
           "(?)"
          ],
          [
           "(?)"
          ],
          [
           "(?)"
          ],
          [
           "(?)"
          ],
          [
           "(?)"
          ],
          [
           "(?)"
          ],
          [
           "(?)"
          ],
          [
           "(?)"
          ],
          [
           "(?)"
          ],
          [
           "(?)"
          ]
         ],
         "domain": {
          "x": [
           0,
           1
          ],
          "y": [
           0,
           1
          ]
         },
         "hovertemplate": "labels=%{label}<br>value=%{value}<br>parent=%{parent}<br>id=%{id}<br>Source_MTCDEs=%{customdata[0]}<extra></extra>",
         "ids": [
          "2006_2007/Scope 2/Other (assume NPCC grid)",
          "2023_2024/Scope 2/Other (assume NPCC grid)",
          "2022_2023/Scope 2/Other (assume NPCC grid)",
          "2021_2022/Scope 2/Other (assume NPCC grid)",
          "2020_2021/Scope 2/Other (assume NPCC grid)",
          "2019_2020/Scope 2/Other (assume NPCC grid)",
          "2017_2018/Scope 2/Other (assume NPCC grid)",
          "2016_2017/Scope 2/Other (assume NPCC grid)",
          "2015_2016/Scope 2/Other (assume NPCC grid)",
          "2018_2019/Scope 2/Other (assume NPCC grid)",
          "2013_2014/Scope 2/Other (assume NPCC grid)",
          "2012_2013/Scope 2/Other (assume NPCC grid)",
          "2011_2012/Scope 2/Other (assume NPCC grid)",
          "2010_2011/Scope 2/Other (assume NPCC grid)",
          "2009_2010/Scope 2/Other (assume NPCC grid)",
          "2008_2009/Scope 2/Other (assume NPCC grid)",
          "2007_2008/Scope 2/Other (assume NPCC grid)",
          "2014_2015/Scope 2/Other (assume NPCC grid)",
          "2013_2014/Scope 2/Solar",
          "2007_2008/Scope 2/Solar",
          "2008_2009/Scope 2/Solar",
          "2009_2010/Scope 2/Solar",
          "2010_2011/Scope 2/Solar",
          "2011_2012/Scope 2/Solar",
          "2012_2013/Scope 2/Solar",
          "2014_2015/Scope 2/Solar",
          "2006_2007/Scope 2/Solar",
          "2016_2017/Scope 2/Solar",
          "2017_2018/Scope 2/Solar",
          "2018_2019/Scope 2/Solar",
          "2019_2020/Scope 2/Solar",
          "2020_2021/Scope 2/Solar",
          "2021_2022/Scope 2/Solar",
          "2022_2023/Scope 2/Solar",
          "2023_2024/Scope 2/Solar",
          "2015_2016/Scope 2/Solar",
          "2018_2019/Scope 2/Co-Generation",
          "2019_2020/Scope 2/Co-Generation",
          "2006_2007/Scope 2/Co-Generation",
          "2022_2023/Scope 2/Co-Generation",
          "2023_2024/Scope 2/Co-Generation",
          "2017_2018/Scope 2/Co-Generation",
          "2021_2022/Scope 2/Co-Generation",
          "2016_2017/Scope 2/Co-Generation",
          "2020_2021/Scope 2/Co-Generation",
          "2014_2015/Scope 2/Co-Generation",
          "2013_2014/Scope 2/Co-Generation",
          "2012_2013/Scope 2/Co-Generation",
          "2011_2012/Scope 2/Co-Generation",
          "2010_2011/Scope 2/Co-Generation",
          "2009_2010/Scope 2/Co-Generation",
          "2008_2009/Scope 2/Co-Generation",
          "2007_2008/Scope 2/Co-Generation",
          "2015_2016/Scope 2/Co-Generation",
          "2016_2017/Scope 2/CH4 digestion",
          "2017_2018/Scope 2/CH4 digestion",
          "2021_2022/Scope 2/CH4 digestion",
          "2019_2020/Scope 2/CH4 digestion",
          "2020_2021/Scope 2/CH4 digestion",
          "2015_2016/Scope 2/CH4 digestion",
          "2018_2019/Scope 2/CH4 digestion",
          "2014_2015/Scope 2/CH4 digestion",
          "2010_2011/Scope 2/CH4 digestion",
          "2012_2013/Scope 2/CH4 digestion",
          "2011_2012/Scope 2/CH4 digestion",
          "2009_2010/Scope 2/CH4 digestion",
          "2008_2009/Scope 2/CH4 digestion",
          "2007_2008/Scope 2/CH4 digestion",
          "2006_2007/Scope 2/CH4 digestion",
          "2022_2023/Scope 2/CH4 digestion",
          "2013_2014/Scope 2/CH4 digestion",
          "2023_2024/Scope 2/CH4 digestion",
          "2006_2007/Scope 2/#1, 2, & 4 Fuel Oil",
          "2023_2024/Scope 2/#1, 2, & 4 Fuel Oil",
          "2007_2008/Scope 2/#1, 2, & 4 Fuel Oil",
          "2008_2009/Scope 2/#1, 2, & 4 Fuel Oil",
          "2009_2010/Scope 2/#1, 2, & 4 Fuel Oil",
          "2010_2011/Scope 2/#1, 2, & 4 Fuel Oil",
          "2012_2013/Scope 2/#1, 2, & 4 Fuel Oil",
          "2013_2014/Scope 2/#1, 2, & 4 Fuel Oil",
          "2014_2015/Scope 2/#1, 2, & 4 Fuel Oil",
          "2011_2012/Scope 2/#1, 2, & 4 Fuel Oil",
          "2016_2017/Scope 2/#1, 2, & 4 Fuel Oil",
          "2017_2018/Scope 2/#1, 2, & 4 Fuel Oil",
          "2018_2019/Scope 2/#1, 2, & 4 Fuel Oil",
          "2019_2020/Scope 2/#1, 2, & 4 Fuel Oil",
          "2020_2021/Scope 2/#1, 2, & 4 Fuel Oil",
          "2021_2022/Scope 2/#1, 2, & 4 Fuel Oil",
          "2022_2023/Scope 2/#1, 2, & 4 Fuel Oil",
          "2015_2016/Scope 2/#1, 2, & 4 Fuel Oil",
          "2014_2015/Scope 2/Nuclear",
          "2008_2009/Scope 2/Nuclear",
          "2009_2010/Scope 2/Nuclear",
          "2010_2011/Scope 2/Nuclear",
          "2011_2012/Scope 2/Nuclear",
          "2012_2013/Scope 2/Nuclear",
          "2013_2014/Scope 2/Nuclear",
          "2015_2016/Scope 2/Nuclear",
          "2023_2024/Scope 2/Nuclear",
          "2017_2018/Scope 2/Nuclear",
          "2018_2019/Scope 2/Nuclear",
          "2019_2020/Scope 2/Nuclear",
          "2020_2021/Scope 2/Nuclear",
          "2021_2022/Scope 2/Nuclear",
          "2022_2023/Scope 2/Nuclear",
          "2007_2008/Scope 2/Nuclear",
          "2016_2017/Scope 2/Nuclear",
          "2006_2007/Scope 2/Nuclear",
          "2023_2024/Scope 2/Coal",
          "2022_2023/Scope 2/Coal",
          "2021_2022/Scope 2/Coal",
          "2020_2021/Scope 2/Coal",
          "2019_2020/Scope 2/Coal",
          "2018_2019/Scope 2/Coal",
          "2017_2018/Scope 2/Coal",
          "2015_2016/Scope 2/Coal",
          "2014_2015/Scope 2/Coal",
          "2013_2014/Scope 2/Coal",
          "2016_2017/Scope 2/Coal",
          "2011_2012/Scope 2/Coal",
          "2010_2011/Scope 2/Coal",
          "2009_2010/Scope 2/Coal",
          "2008_2009/Scope 2/Coal",
          "2007_2008/Scope 2/Coal",
          "2006_2007/Scope 2/Coal",
          "2012_2013/Scope 2/Coal",
          "2016_2017/Scope 2/Natural Gas",
          "2022_2023/Scope 2/Natural Gas",
          "2021_2022/Scope 2/Natural Gas",
          "2020_2021/Scope 2/Natural Gas",
          "2019_2020/Scope 2/Natural Gas",
          "2018_2019/Scope 2/Natural Gas",
          "2017_2018/Scope 2/Natural Gas",
          "2015_2016/Scope 2/Natural Gas",
          "2023_2024/Scope 2/Natural Gas",
          "2013_2014/Scope 2/Natural Gas",
          "2012_2013/Scope 2/Natural Gas",
          "2011_2012/Scope 2/Natural Gas",
          "2010_2011/Scope 2/Natural Gas",
          "2009_2010/Scope 2/Natural Gas",
          "2008_2009/Scope 2/Natural Gas",
          "2007_2008/Scope 2/Natural Gas",
          "2014_2015/Scope 2/Natural Gas",
          "2006_2007/Scope 2/Natural Gas",
          "2006_2007/Scope 2/Hydro",
          "2007_2008/Scope 2/Hydro",
          "2009_2010/Scope 2/Hydro",
          "2008_2009/Scope 2/Hydro",
          "2010_2011/Scope 2/Hydro",
          "2011_2012/Scope 2/Hydro",
          "2012_2013/Scope 2/Hydro",
          "2014_2015/Scope 2/Hydro",
          "2015_2016/Scope 2/Hydro",
          "2016_2017/Scope 2/Hydro",
          "2013_2014/Scope 2/Hydro",
          "2018_2019/Scope 2/Hydro",
          "2019_2020/Scope 2/Hydro",
          "2020_2021/Scope 2/Hydro",
          "2021_2022/Scope 2/Hydro",
          "2022_2023/Scope 2/Hydro",
          "2023_2024/Scope 2/Hydro",
          "2017_2018/Scope 2/Hydro",
          "2013_2014/Scope 2/Wind",
          "2008_2009/Scope 2/Wind",
          "2009_2010/Scope 2/Wind",
          "2010_2011/Scope 2/Wind",
          "2011_2012/Scope 2/Wind",
          "2012_2013/Scope 2/Wind",
          "2014_2015/Scope 2/Wind",
          "2007_2008/Scope 2/Wind",
          "2016_2017/Scope 2/Wind",
          "2017_2018/Scope 2/Wind",
          "2018_2019/Scope 2/Wind",
          "2019_2020/Scope 2/Wind",
          "2020_2021/Scope 2/Wind",
          "2021_2022/Scope 2/Wind",
          "2015_2016/Scope 2/Wind",
          "2006_2007/Scope 2/Wind",
          "2023_2024/Scope 2/Wind",
          "2022_2023/Scope 2/Wind",
          "2006_2007/Scope 2/Biomass",
          "2009_2010/Scope 2/Biomass",
          "2010_2011/Scope 2/Biomass",
          "2011_2012/Scope 2/Biomass",
          "2012_2013/Scope 2/Biomass",
          "2013_2014/Scope 2/Biomass",
          "2014_2015/Scope 2/Biomass",
          "2015_2016/Scope 2/Biomass",
          "2016_2017/Scope 2/Biomass",
          "2017_2018/Scope 2/Biomass",
          "2018_2019/Scope 2/Biomass",
          "2019_2020/Scope 2/Biomass",
          "2020_2021/Scope 2/Biomass",
          "2021_2022/Scope 2/Biomass",
          "2022_2023/Scope 2/Biomass",
          "2008_2009/Scope 2/Biomass",
          "2007_2008/Scope 2/Biomass",
          "2023_2024/Scope 2/Biomass",
          "2008_2009/Scope 2/#5 & 6 Fuel Oil",
          "2023_2024/Scope 2/#5 & 6 Fuel Oil",
          "2022_2023/Scope 2/#5 & 6 Fuel Oil",
          "2021_2022/Scope 2/#5 & 6 Fuel Oil",
          "2020_2021/Scope 2/#5 & 6 Fuel Oil",
          "2019_2020/Scope 2/#5 & 6 Fuel Oil",
          "2018_2019/Scope 2/#5 & 6 Fuel Oil",
          "2017_2018/Scope 2/#5 & 6 Fuel Oil",
          "2016_2017/Scope 2/#5 & 6 Fuel Oil",
          "2015_2016/Scope 2/#5 & 6 Fuel Oil",
          "2014_2015/Scope 2/#5 & 6 Fuel Oil",
          "2013_2014/Scope 2/#5 & 6 Fuel Oil",
          "2012_2013/Scope 2/#5 & 6 Fuel Oil",
          "2011_2012/Scope 2/#5 & 6 Fuel Oil",
          "2010_2011/Scope 2/#5 & 6 Fuel Oil",
          "2009_2010/Scope 2/#5 & 6 Fuel Oil",
          "2007_2008/Scope 2/#5 & 6 Fuel Oil",
          "2006_2007/Scope 2/#5 & 6 Fuel Oil",
          "2006_2007/Scope 2",
          "2007_2008/Scope 2",
          "2008_2009/Scope 2",
          "2009_2010/Scope 2",
          "2010_2011/Scope 2",
          "2011_2012/Scope 2",
          "2012_2013/Scope 2",
          "2013_2014/Scope 2",
          "2014_2015/Scope 2",
          "2015_2016/Scope 2",
          "2016_2017/Scope 2",
          "2017_2018/Scope 2",
          "2018_2019/Scope 2",
          "2019_2020/Scope 2",
          "2020_2021/Scope 2",
          "2021_2022/Scope 2",
          "2022_2023/Scope 2",
          "2023_2024/Scope 2",
          "2006_2007",
          "2007_2008",
          "2008_2009",
          "2009_2010",
          "2010_2011",
          "2011_2012",
          "2012_2013",
          "2013_2014",
          "2014_2015",
          "2015_2016",
          "2016_2017",
          "2017_2018",
          "2018_2019",
          "2019_2020",
          "2020_2021",
          "2021_2022",
          "2022_2023",
          "2023_2024"
         ],
         "labels": [
          "Other (assume NPCC grid)",
          "Other (assume NPCC grid)",
          "Other (assume NPCC grid)",
          "Other (assume NPCC grid)",
          "Other (assume NPCC grid)",
          "Other (assume NPCC grid)",
          "Other (assume NPCC grid)",
          "Other (assume NPCC grid)",
          "Other (assume NPCC grid)",
          "Other (assume NPCC grid)",
          "Other (assume NPCC grid)",
          "Other (assume NPCC grid)",
          "Other (assume NPCC grid)",
          "Other (assume NPCC grid)",
          "Other (assume NPCC grid)",
          "Other (assume NPCC grid)",
          "Other (assume NPCC grid)",
          "Other (assume NPCC grid)",
          "Solar",
          "Solar",
          "Solar",
          "Solar",
          "Solar",
          "Solar",
          "Solar",
          "Solar",
          "Solar",
          "Solar",
          "Solar",
          "Solar",
          "Solar",
          "Solar",
          "Solar",
          "Solar",
          "Solar",
          "Solar",
          "Co-Generation",
          "Co-Generation",
          "Co-Generation",
          "Co-Generation",
          "Co-Generation",
          "Co-Generation",
          "Co-Generation",
          "Co-Generation",
          "Co-Generation",
          "Co-Generation",
          "Co-Generation",
          "Co-Generation",
          "Co-Generation",
          "Co-Generation",
          "Co-Generation",
          "Co-Generation",
          "Co-Generation",
          "Co-Generation",
          "CH4 digestion",
          "CH4 digestion",
          "CH4 digestion",
          "CH4 digestion",
          "CH4 digestion",
          "CH4 digestion",
          "CH4 digestion",
          "CH4 digestion",
          "CH4 digestion",
          "CH4 digestion",
          "CH4 digestion",
          "CH4 digestion",
          "CH4 digestion",
          "CH4 digestion",
          "CH4 digestion",
          "CH4 digestion",
          "CH4 digestion",
          "CH4 digestion",
          "#1, 2, & 4 Fuel Oil",
          "#1, 2, & 4 Fuel Oil",
          "#1, 2, & 4 Fuel Oil",
          "#1, 2, & 4 Fuel Oil",
          "#1, 2, & 4 Fuel Oil",
          "#1, 2, & 4 Fuel Oil",
          "#1, 2, & 4 Fuel Oil",
          "#1, 2, & 4 Fuel Oil",
          "#1, 2, & 4 Fuel Oil",
          "#1, 2, & 4 Fuel Oil",
          "#1, 2, & 4 Fuel Oil",
          "#1, 2, & 4 Fuel Oil",
          "#1, 2, & 4 Fuel Oil",
          "#1, 2, & 4 Fuel Oil",
          "#1, 2, & 4 Fuel Oil",
          "#1, 2, & 4 Fuel Oil",
          "#1, 2, & 4 Fuel Oil",
          "#1, 2, & 4 Fuel Oil",
          "Nuclear",
          "Nuclear",
          "Nuclear",
          "Nuclear",
          "Nuclear",
          "Nuclear",
          "Nuclear",
          "Nuclear",
          "Nuclear",
          "Nuclear",
          "Nuclear",
          "Nuclear",
          "Nuclear",
          "Nuclear",
          "Nuclear",
          "Nuclear",
          "Nuclear",
          "Nuclear",
          "Coal",
          "Coal",
          "Coal",
          "Coal",
          "Coal",
          "Coal",
          "Coal",
          "Coal",
          "Coal",
          "Coal",
          "Coal",
          "Coal",
          "Coal",
          "Coal",
          "Coal",
          "Coal",
          "Coal",
          "Coal",
          "Natural Gas",
          "Natural Gas",
          "Natural Gas",
          "Natural Gas",
          "Natural Gas",
          "Natural Gas",
          "Natural Gas",
          "Natural Gas",
          "Natural Gas",
          "Natural Gas",
          "Natural Gas",
          "Natural Gas",
          "Natural Gas",
          "Natural Gas",
          "Natural Gas",
          "Natural Gas",
          "Natural Gas",
          "Natural Gas",
          "Hydro",
          "Hydro",
          "Hydro",
          "Hydro",
          "Hydro",
          "Hydro",
          "Hydro",
          "Hydro",
          "Hydro",
          "Hydro",
          "Hydro",
          "Hydro",
          "Hydro",
          "Hydro",
          "Hydro",
          "Hydro",
          "Hydro",
          "Hydro",
          "Wind",
          "Wind",
          "Wind",
          "Wind",
          "Wind",
          "Wind",
          "Wind",
          "Wind",
          "Wind",
          "Wind",
          "Wind",
          "Wind",
          "Wind",
          "Wind",
          "Wind",
          "Wind",
          "Wind",
          "Wind",
          "Biomass",
          "Biomass",
          "Biomass",
          "Biomass",
          "Biomass",
          "Biomass",
          "Biomass",
          "Biomass",
          "Biomass",
          "Biomass",
          "Biomass",
          "Biomass",
          "Biomass",
          "Biomass",
          "Biomass",
          "Biomass",
          "Biomass",
          "Biomass",
          "#5 & 6 Fuel Oil",
          "#5 & 6 Fuel Oil",
          "#5 & 6 Fuel Oil",
          "#5 & 6 Fuel Oil",
          "#5 & 6 Fuel Oil",
          "#5 & 6 Fuel Oil",
          "#5 & 6 Fuel Oil",
          "#5 & 6 Fuel Oil",
          "#5 & 6 Fuel Oil",
          "#5 & 6 Fuel Oil",
          "#5 & 6 Fuel Oil",
          "#5 & 6 Fuel Oil",
          "#5 & 6 Fuel Oil",
          "#5 & 6 Fuel Oil",
          "#5 & 6 Fuel Oil",
          "#5 & 6 Fuel Oil",
          "#5 & 6 Fuel Oil",
          "#5 & 6 Fuel Oil",
          "Scope 2",
          "Scope 2",
          "Scope 2",
          "Scope 2",
          "Scope 2",
          "Scope 2",
          "Scope 2",
          "Scope 2",
          "Scope 2",
          "Scope 2",
          "Scope 2",
          "Scope 2",
          "Scope 2",
          "Scope 2",
          "Scope 2",
          "Scope 2",
          "Scope 2",
          "Scope 2",
          "2006_2007",
          "2007_2008",
          "2008_2009",
          "2009_2010",
          "2010_2011",
          "2011_2012",
          "2012_2013",
          "2013_2014",
          "2014_2015",
          "2015_2016",
          "2016_2017",
          "2017_2018",
          "2018_2019",
          "2019_2020",
          "2020_2021",
          "2021_2022",
          "2022_2023",
          "2023_2024"
         ],
         "marker": {
          "colors": [
           "#636efa",
           "#636efa",
           "#636efa",
           "#636efa",
           "#636efa",
           "#636efa",
           "#636efa",
           "#636efa",
           "#636efa",
           "#636efa",
           "#636efa",
           "#636efa",
           "#636efa",
           "#636efa",
           "#636efa",
           "#636efa",
           "#636efa",
           "#636efa",
           "#EF553B",
           "#EF553B",
           "#EF553B",
           "#EF553B",
           "#EF553B",
           "#EF553B",
           "#EF553B",
           "#EF553B",
           "#EF553B",
           "#EF553B",
           "#EF553B",
           "#EF553B",
           "#EF553B",
           "#EF553B",
           "#EF553B",
           "#EF553B",
           "#EF553B",
           "#EF553B",
           "#00cc96",
           "#00cc96",
           "#00cc96",
           "#00cc96",
           "#00cc96",
           "#00cc96",
           "#00cc96",
           "#00cc96",
           "#00cc96",
           "#00cc96",
           "#00cc96",
           "#00cc96",
           "#00cc96",
           "#00cc96",
           "#00cc96",
           "#00cc96",
           "#00cc96",
           "#00cc96",
           "#ab63fa",
           "#ab63fa",
           "#ab63fa",
           "#ab63fa",
           "#ab63fa",
           "#ab63fa",
           "#ab63fa",
           "#ab63fa",
           "#ab63fa",
           "#ab63fa",
           "#ab63fa",
           "#ab63fa",
           "#ab63fa",
           "#ab63fa",
           "#ab63fa",
           "#ab63fa",
           "#ab63fa",
           "#ab63fa",
           "#FFA15A",
           "#FFA15A",
           "#FFA15A",
           "#FFA15A",
           "#FFA15A",
           "#FFA15A",
           "#FFA15A",
           "#FFA15A",
           "#FFA15A",
           "#FFA15A",
           "#FFA15A",
           "#FFA15A",
           "#FFA15A",
           "#FFA15A",
           "#FFA15A",
           "#FFA15A",
           "#FFA15A",
           "#FFA15A",
           "#19d3f3",
           "#19d3f3",
           "#19d3f3",
           "#19d3f3",
           "#19d3f3",
           "#19d3f3",
           "#19d3f3",
           "#19d3f3",
           "#19d3f3",
           "#19d3f3",
           "#19d3f3",
           "#19d3f3",
           "#19d3f3",
           "#19d3f3",
           "#19d3f3",
           "#19d3f3",
           "#19d3f3",
           "#19d3f3",
           "#FF6692",
           "#FF6692",
           "#FF6692",
           "#FF6692",
           "#FF6692",
           "#FF6692",
           "#FF6692",
           "#FF6692",
           "#FF6692",
           "#FF6692",
           "#FF6692",
           "#FF6692",
           "#FF6692",
           "#FF6692",
           "#FF6692",
           "#FF6692",
           "#FF6692",
           "#FF6692",
           "#B6E880",
           "#B6E880",
           "#B6E880",
           "#B6E880",
           "#B6E880",
           "#B6E880",
           "#B6E880",
           "#B6E880",
           "#B6E880",
           "#B6E880",
           "#B6E880",
           "#B6E880",
           "#B6E880",
           "#B6E880",
           "#B6E880",
           "#B6E880",
           "#B6E880",
           "#B6E880",
           "#FF97FF",
           "#FF97FF",
           "#FF97FF",
           "#FF97FF",
           "#FF97FF",
           "#FF97FF",
           "#FF97FF",
           "#FF97FF",
           "#FF97FF",
           "#FF97FF",
           "#FF97FF",
           "#FF97FF",
           "#FF97FF",
           "#FF97FF",
           "#FF97FF",
           "#FF97FF",
           "#FF97FF",
           "#FF97FF",
           "#FECB52",
           "#FECB52",
           "#FECB52",
           "#FECB52",
           "#FECB52",
           "#FECB52",
           "#FECB52",
           "#FECB52",
           "#FECB52",
           "#FECB52",
           "#FECB52",
           "#FECB52",
           "#FECB52",
           "#FECB52",
           "#FECB52",
           "#FECB52",
           "#FECB52",
           "#FECB52",
           "#636efa",
           "#636efa",
           "#636efa",
           "#636efa",
           "#636efa",
           "#636efa",
           "#636efa",
           "#636efa",
           "#636efa",
           "#636efa",
           "#636efa",
           "#636efa",
           "#636efa",
           "#636efa",
           "#636efa",
           "#636efa",
           "#636efa",
           "#636efa",
           "#EF553B",
           "#EF553B",
           "#EF553B",
           "#EF553B",
           "#EF553B",
           "#EF553B",
           "#EF553B",
           "#EF553B",
           "#EF553B",
           "#EF553B",
           "#EF553B",
           "#EF553B",
           "#EF553B",
           "#EF553B",
           "#EF553B",
           "#EF553B",
           "#EF553B",
           "#EF553B",
           "#00cc96",
           "#00cc96",
           "#00cc96",
           "#00cc96",
           "#00cc96",
           "#00cc96",
           "#00cc96",
           "#00cc96",
           "#00cc96",
           "#00cc96",
           "#00cc96",
           "#00cc96",
           "#00cc96",
           "#00cc96",
           "#00cc96",
           "#00cc96",
           "#00cc96",
           "#00cc96",
           "#00cc96",
           "#00cc96",
           "#00cc96",
           "#00cc96",
           "#00cc96",
           "#00cc96",
           "#00cc96",
           "#00cc96",
           "#00cc96",
           "#00cc96",
           "#00cc96",
           "#00cc96",
           "#00cc96",
           "#00cc96",
           "#00cc96",
           "#00cc96",
           "#00cc96",
           "#00cc96"
          ]
         },
         "name": "",
         "parents": [
          "2006_2007/Scope 2",
          "2023_2024/Scope 2",
          "2022_2023/Scope 2",
          "2021_2022/Scope 2",
          "2020_2021/Scope 2",
          "2019_2020/Scope 2",
          "2017_2018/Scope 2",
          "2016_2017/Scope 2",
          "2015_2016/Scope 2",
          "2018_2019/Scope 2",
          "2013_2014/Scope 2",
          "2012_2013/Scope 2",
          "2011_2012/Scope 2",
          "2010_2011/Scope 2",
          "2009_2010/Scope 2",
          "2008_2009/Scope 2",
          "2007_2008/Scope 2",
          "2014_2015/Scope 2",
          "2013_2014/Scope 2",
          "2007_2008/Scope 2",
          "2008_2009/Scope 2",
          "2009_2010/Scope 2",
          "2010_2011/Scope 2",
          "2011_2012/Scope 2",
          "2012_2013/Scope 2",
          "2014_2015/Scope 2",
          "2006_2007/Scope 2",
          "2016_2017/Scope 2",
          "2017_2018/Scope 2",
          "2018_2019/Scope 2",
          "2019_2020/Scope 2",
          "2020_2021/Scope 2",
          "2021_2022/Scope 2",
          "2022_2023/Scope 2",
          "2023_2024/Scope 2",
          "2015_2016/Scope 2",
          "2018_2019/Scope 2",
          "2019_2020/Scope 2",
          "2006_2007/Scope 2",
          "2022_2023/Scope 2",
          "2023_2024/Scope 2",
          "2017_2018/Scope 2",
          "2021_2022/Scope 2",
          "2016_2017/Scope 2",
          "2020_2021/Scope 2",
          "2014_2015/Scope 2",
          "2013_2014/Scope 2",
          "2012_2013/Scope 2",
          "2011_2012/Scope 2",
          "2010_2011/Scope 2",
          "2009_2010/Scope 2",
          "2008_2009/Scope 2",
          "2007_2008/Scope 2",
          "2015_2016/Scope 2",
          "2016_2017/Scope 2",
          "2017_2018/Scope 2",
          "2021_2022/Scope 2",
          "2019_2020/Scope 2",
          "2020_2021/Scope 2",
          "2015_2016/Scope 2",
          "2018_2019/Scope 2",
          "2014_2015/Scope 2",
          "2010_2011/Scope 2",
          "2012_2013/Scope 2",
          "2011_2012/Scope 2",
          "2009_2010/Scope 2",
          "2008_2009/Scope 2",
          "2007_2008/Scope 2",
          "2006_2007/Scope 2",
          "2022_2023/Scope 2",
          "2013_2014/Scope 2",
          "2023_2024/Scope 2",
          "2006_2007/Scope 2",
          "2023_2024/Scope 2",
          "2007_2008/Scope 2",
          "2008_2009/Scope 2",
          "2009_2010/Scope 2",
          "2010_2011/Scope 2",
          "2012_2013/Scope 2",
          "2013_2014/Scope 2",
          "2014_2015/Scope 2",
          "2011_2012/Scope 2",
          "2016_2017/Scope 2",
          "2017_2018/Scope 2",
          "2018_2019/Scope 2",
          "2019_2020/Scope 2",
          "2020_2021/Scope 2",
          "2021_2022/Scope 2",
          "2022_2023/Scope 2",
          "2015_2016/Scope 2",
          "2014_2015/Scope 2",
          "2008_2009/Scope 2",
          "2009_2010/Scope 2",
          "2010_2011/Scope 2",
          "2011_2012/Scope 2",
          "2012_2013/Scope 2",
          "2013_2014/Scope 2",
          "2015_2016/Scope 2",
          "2023_2024/Scope 2",
          "2017_2018/Scope 2",
          "2018_2019/Scope 2",
          "2019_2020/Scope 2",
          "2020_2021/Scope 2",
          "2021_2022/Scope 2",
          "2022_2023/Scope 2",
          "2007_2008/Scope 2",
          "2016_2017/Scope 2",
          "2006_2007/Scope 2",
          "2023_2024/Scope 2",
          "2022_2023/Scope 2",
          "2021_2022/Scope 2",
          "2020_2021/Scope 2",
          "2019_2020/Scope 2",
          "2018_2019/Scope 2",
          "2017_2018/Scope 2",
          "2015_2016/Scope 2",
          "2014_2015/Scope 2",
          "2013_2014/Scope 2",
          "2016_2017/Scope 2",
          "2011_2012/Scope 2",
          "2010_2011/Scope 2",
          "2009_2010/Scope 2",
          "2008_2009/Scope 2",
          "2007_2008/Scope 2",
          "2006_2007/Scope 2",
          "2012_2013/Scope 2",
          "2016_2017/Scope 2",
          "2022_2023/Scope 2",
          "2021_2022/Scope 2",
          "2020_2021/Scope 2",
          "2019_2020/Scope 2",
          "2018_2019/Scope 2",
          "2017_2018/Scope 2",
          "2015_2016/Scope 2",
          "2023_2024/Scope 2",
          "2013_2014/Scope 2",
          "2012_2013/Scope 2",
          "2011_2012/Scope 2",
          "2010_2011/Scope 2",
          "2009_2010/Scope 2",
          "2008_2009/Scope 2",
          "2007_2008/Scope 2",
          "2014_2015/Scope 2",
          "2006_2007/Scope 2",
          "2006_2007/Scope 2",
          "2007_2008/Scope 2",
          "2009_2010/Scope 2",
          "2008_2009/Scope 2",
          "2010_2011/Scope 2",
          "2011_2012/Scope 2",
          "2012_2013/Scope 2",
          "2014_2015/Scope 2",
          "2015_2016/Scope 2",
          "2016_2017/Scope 2",
          "2013_2014/Scope 2",
          "2018_2019/Scope 2",
          "2019_2020/Scope 2",
          "2020_2021/Scope 2",
          "2021_2022/Scope 2",
          "2022_2023/Scope 2",
          "2023_2024/Scope 2",
          "2017_2018/Scope 2",
          "2013_2014/Scope 2",
          "2008_2009/Scope 2",
          "2009_2010/Scope 2",
          "2010_2011/Scope 2",
          "2011_2012/Scope 2",
          "2012_2013/Scope 2",
          "2014_2015/Scope 2",
          "2007_2008/Scope 2",
          "2016_2017/Scope 2",
          "2017_2018/Scope 2",
          "2018_2019/Scope 2",
          "2019_2020/Scope 2",
          "2020_2021/Scope 2",
          "2021_2022/Scope 2",
          "2015_2016/Scope 2",
          "2006_2007/Scope 2",
          "2023_2024/Scope 2",
          "2022_2023/Scope 2",
          "2006_2007/Scope 2",
          "2009_2010/Scope 2",
          "2010_2011/Scope 2",
          "2011_2012/Scope 2",
          "2012_2013/Scope 2",
          "2013_2014/Scope 2",
          "2014_2015/Scope 2",
          "2015_2016/Scope 2",
          "2016_2017/Scope 2",
          "2017_2018/Scope 2",
          "2018_2019/Scope 2",
          "2019_2020/Scope 2",
          "2020_2021/Scope 2",
          "2021_2022/Scope 2",
          "2022_2023/Scope 2",
          "2008_2009/Scope 2",
          "2007_2008/Scope 2",
          "2023_2024/Scope 2",
          "2008_2009/Scope 2",
          "2023_2024/Scope 2",
          "2022_2023/Scope 2",
          "2021_2022/Scope 2",
          "2020_2021/Scope 2",
          "2019_2020/Scope 2",
          "2018_2019/Scope 2",
          "2017_2018/Scope 2",
          "2016_2017/Scope 2",
          "2015_2016/Scope 2",
          "2014_2015/Scope 2",
          "2013_2014/Scope 2",
          "2012_2013/Scope 2",
          "2011_2012/Scope 2",
          "2010_2011/Scope 2",
          "2009_2010/Scope 2",
          "2007_2008/Scope 2",
          "2006_2007/Scope 2",
          "2006_2007",
          "2007_2008",
          "2008_2009",
          "2009_2010",
          "2010_2011",
          "2011_2012",
          "2012_2013",
          "2013_2014",
          "2014_2015",
          "2015_2016",
          "2016_2017",
          "2017_2018",
          "2018_2019",
          "2019_2020",
          "2020_2021",
          "2021_2022",
          "2022_2023",
          "2023_2024",
          "",
          "",
          "",
          "",
          "",
          "",
          "",
          "",
          "",
          "",
          "",
          "",
          "",
          "",
          "",
          "",
          "",
          ""
         ],
         "type": "treemap",
         "values": [
          577,
          0,
          0,
          0,
          0,
          83,
          135,
          837,
          0,
          0,
          0,
          0,
          399,
          505,
          166,
          839,
          884,
          0,
          0,
          0,
          0,
          0,
          0,
          0,
          0,
          0,
          0,
          0,
          0,
          0,
          0,
          0,
          0,
          0,
          0,
          0,
          0,
          0,
          0,
          0,
          0,
          0,
          0,
          0,
          0,
          0,
          0,
          0,
          0,
          0,
          0,
          0,
          0,
          0,
          0,
          0,
          0,
          0,
          0,
          0,
          0,
          0,
          0,
          0,
          0,
          0,
          0,
          0,
          0,
          0,
          0,
          0,
          3,
          0,
          4,
          3,
          11,
          0,
          7,
          59,
          539,
          2,
          6,
          18,
          251,
          11,
          0,
          0,
          0,
          554,
          0,
          0,
          0,
          0,
          0,
          0,
          0,
          0,
          0,
          0,
          0,
          0,
          0,
          0,
          0,
          0,
          0,
          0,
          0,
          0,
          0,
          0,
          0,
          0,
          51,
          0,
          0,
          147,
          76,
          7,
          0,
          0,
          17,
          24,
          15,
          151,
          701,
          0,
          0,
          0,
          80,
          219,
          887,
          803,
          0,
          681,
          696,
          25,
          0,
          0,
          25,
          34,
          722,
          23,
          0,
          0,
          0,
          0,
          0,
          0,
          0,
          0,
          0,
          0,
          0,
          0,
          0,
          0,
          0,
          0,
          0,
          0,
          0,
          0,
          0,
          0,
          0,
          0,
          0,
          0,
          0,
          0,
          0,
          0,
          0,
          0,
          0,
          0,
          0,
          0,
          0,
          0,
          0,
          0,
          0,
          0,
          0,
          0,
          0,
          0,
          0,
          0,
          0,
          0,
          0,
          0,
          0,
          0,
          21,
          0,
          0,
          0,
          0,
          0,
          0,
          0,
          0,
          0,
          0,
          5,
          5,
          4,
          6,
          0,
          35,
          17,
          635,
          981,
          905,
          177,
          511,
          437,
          859,
          892,
          1261,
          1357,
          1620,
          1091,
          470,
          174,
          0,
          0,
          0,
          0,
          635,
          981,
          905,
          177,
          511,
          437,
          859,
          892,
          1261,
          1357,
          1620,
          1091,
          470,
          174,
          0,
          0,
          0,
          0
         ]
        }
       ],
       "layout": {
        "legend": {
         "tracegroupgap": 0
        },
        "margin": {
         "t": 60
        },
        "template": {
         "data": {
          "bar": [
           {
            "error_x": {
             "color": "#2a3f5f"
            },
            "error_y": {
             "color": "#2a3f5f"
            },
            "marker": {
             "line": {
              "color": "#E5ECF6",
              "width": 0.5
             },
             "pattern": {
              "fillmode": "overlay",
              "size": 10,
              "solidity": 0.2
             }
            },
            "type": "bar"
           }
          ],
          "barpolar": [
           {
            "marker": {
             "line": {
              "color": "#E5ECF6",
              "width": 0.5
             },
             "pattern": {
              "fillmode": "overlay",
              "size": 10,
              "solidity": 0.2
             }
            },
            "type": "barpolar"
           }
          ],
          "carpet": [
           {
            "aaxis": {
             "endlinecolor": "#2a3f5f",
             "gridcolor": "white",
             "linecolor": "white",
             "minorgridcolor": "white",
             "startlinecolor": "#2a3f5f"
            },
            "baxis": {
             "endlinecolor": "#2a3f5f",
             "gridcolor": "white",
             "linecolor": "white",
             "minorgridcolor": "white",
             "startlinecolor": "#2a3f5f"
            },
            "type": "carpet"
           }
          ],
          "choropleth": [
           {
            "colorbar": {
             "outlinewidth": 0,
             "ticks": ""
            },
            "type": "choropleth"
           }
          ],
          "contour": [
           {
            "colorbar": {
             "outlinewidth": 0,
             "ticks": ""
            },
            "colorscale": [
             [
              0,
              "#0d0887"
             ],
             [
              0.1111111111111111,
              "#46039f"
             ],
             [
              0.2222222222222222,
              "#7201a8"
             ],
             [
              0.3333333333333333,
              "#9c179e"
             ],
             [
              0.4444444444444444,
              "#bd3786"
             ],
             [
              0.5555555555555556,
              "#d8576b"
             ],
             [
              0.6666666666666666,
              "#ed7953"
             ],
             [
              0.7777777777777778,
              "#fb9f3a"
             ],
             [
              0.8888888888888888,
              "#fdca26"
             ],
             [
              1,
              "#f0f921"
             ]
            ],
            "type": "contour"
           }
          ],
          "contourcarpet": [
           {
            "colorbar": {
             "outlinewidth": 0,
             "ticks": ""
            },
            "type": "contourcarpet"
           }
          ],
          "heatmap": [
           {
            "colorbar": {
             "outlinewidth": 0,
             "ticks": ""
            },
            "colorscale": [
             [
              0,
              "#0d0887"
             ],
             [
              0.1111111111111111,
              "#46039f"
             ],
             [
              0.2222222222222222,
              "#7201a8"
             ],
             [
              0.3333333333333333,
              "#9c179e"
             ],
             [
              0.4444444444444444,
              "#bd3786"
             ],
             [
              0.5555555555555556,
              "#d8576b"
             ],
             [
              0.6666666666666666,
              "#ed7953"
             ],
             [
              0.7777777777777778,
              "#fb9f3a"
             ],
             [
              0.8888888888888888,
              "#fdca26"
             ],
             [
              1,
              "#f0f921"
             ]
            ],
            "type": "heatmap"
           }
          ],
          "heatmapgl": [
           {
            "colorbar": {
             "outlinewidth": 0,
             "ticks": ""
            },
            "colorscale": [
             [
              0,
              "#0d0887"
             ],
             [
              0.1111111111111111,
              "#46039f"
             ],
             [
              0.2222222222222222,
              "#7201a8"
             ],
             [
              0.3333333333333333,
              "#9c179e"
             ],
             [
              0.4444444444444444,
              "#bd3786"
             ],
             [
              0.5555555555555556,
              "#d8576b"
             ],
             [
              0.6666666666666666,
              "#ed7953"
             ],
             [
              0.7777777777777778,
              "#fb9f3a"
             ],
             [
              0.8888888888888888,
              "#fdca26"
             ],
             [
              1,
              "#f0f921"
             ]
            ],
            "type": "heatmapgl"
           }
          ],
          "histogram": [
           {
            "marker": {
             "pattern": {
              "fillmode": "overlay",
              "size": 10,
              "solidity": 0.2
             }
            },
            "type": "histogram"
           }
          ],
          "histogram2d": [
           {
            "colorbar": {
             "outlinewidth": 0,
             "ticks": ""
            },
            "colorscale": [
             [
              0,
              "#0d0887"
             ],
             [
              0.1111111111111111,
              "#46039f"
             ],
             [
              0.2222222222222222,
              "#7201a8"
             ],
             [
              0.3333333333333333,
              "#9c179e"
             ],
             [
              0.4444444444444444,
              "#bd3786"
             ],
             [
              0.5555555555555556,
              "#d8576b"
             ],
             [
              0.6666666666666666,
              "#ed7953"
             ],
             [
              0.7777777777777778,
              "#fb9f3a"
             ],
             [
              0.8888888888888888,
              "#fdca26"
             ],
             [
              1,
              "#f0f921"
             ]
            ],
            "type": "histogram2d"
           }
          ],
          "histogram2dcontour": [
           {
            "colorbar": {
             "outlinewidth": 0,
             "ticks": ""
            },
            "colorscale": [
             [
              0,
              "#0d0887"
             ],
             [
              0.1111111111111111,
              "#46039f"
             ],
             [
              0.2222222222222222,
              "#7201a8"
             ],
             [
              0.3333333333333333,
              "#9c179e"
             ],
             [
              0.4444444444444444,
              "#bd3786"
             ],
             [
              0.5555555555555556,
              "#d8576b"
             ],
             [
              0.6666666666666666,
              "#ed7953"
             ],
             [
              0.7777777777777778,
              "#fb9f3a"
             ],
             [
              0.8888888888888888,
              "#fdca26"
             ],
             [
              1,
              "#f0f921"
             ]
            ],
            "type": "histogram2dcontour"
           }
          ],
          "mesh3d": [
           {
            "colorbar": {
             "outlinewidth": 0,
             "ticks": ""
            },
            "type": "mesh3d"
           }
          ],
          "parcoords": [
           {
            "line": {
             "colorbar": {
              "outlinewidth": 0,
              "ticks": ""
             }
            },
            "type": "parcoords"
           }
          ],
          "pie": [
           {
            "automargin": true,
            "type": "pie"
           }
          ],
          "scatter": [
           {
            "fillpattern": {
             "fillmode": "overlay",
             "size": 10,
             "solidity": 0.2
            },
            "type": "scatter"
           }
          ],
          "scatter3d": [
           {
            "line": {
             "colorbar": {
              "outlinewidth": 0,
              "ticks": ""
             }
            },
            "marker": {
             "colorbar": {
              "outlinewidth": 0,
              "ticks": ""
             }
            },
            "type": "scatter3d"
           }
          ],
          "scattercarpet": [
           {
            "marker": {
             "colorbar": {
              "outlinewidth": 0,
              "ticks": ""
             }
            },
            "type": "scattercarpet"
           }
          ],
          "scattergeo": [
           {
            "marker": {
             "colorbar": {
              "outlinewidth": 0,
              "ticks": ""
             }
            },
            "type": "scattergeo"
           }
          ],
          "scattergl": [
           {
            "marker": {
             "colorbar": {
              "outlinewidth": 0,
              "ticks": ""
             }
            },
            "type": "scattergl"
           }
          ],
          "scattermapbox": [
           {
            "marker": {
             "colorbar": {
              "outlinewidth": 0,
              "ticks": ""
             }
            },
            "type": "scattermapbox"
           }
          ],
          "scatterpolar": [
           {
            "marker": {
             "colorbar": {
              "outlinewidth": 0,
              "ticks": ""
             }
            },
            "type": "scatterpolar"
           }
          ],
          "scatterpolargl": [
           {
            "marker": {
             "colorbar": {
              "outlinewidth": 0,
              "ticks": ""
             }
            },
            "type": "scatterpolargl"
           }
          ],
          "scatterternary": [
           {
            "marker": {
             "colorbar": {
              "outlinewidth": 0,
              "ticks": ""
             }
            },
            "type": "scatterternary"
           }
          ],
          "surface": [
           {
            "colorbar": {
             "outlinewidth": 0,
             "ticks": ""
            },
            "colorscale": [
             [
              0,
              "#0d0887"
             ],
             [
              0.1111111111111111,
              "#46039f"
             ],
             [
              0.2222222222222222,
              "#7201a8"
             ],
             [
              0.3333333333333333,
              "#9c179e"
             ],
             [
              0.4444444444444444,
              "#bd3786"
             ],
             [
              0.5555555555555556,
              "#d8576b"
             ],
             [
              0.6666666666666666,
              "#ed7953"
             ],
             [
              0.7777777777777778,
              "#fb9f3a"
             ],
             [
              0.8888888888888888,
              "#fdca26"
             ],
             [
              1,
              "#f0f921"
             ]
            ],
            "type": "surface"
           }
          ],
          "table": [
           {
            "cells": {
             "fill": {
              "color": "#EBF0F8"
             },
             "line": {
              "color": "white"
             }
            },
            "header": {
             "fill": {
              "color": "#C8D4E3"
             },
             "line": {
              "color": "white"
             }
            },
            "type": "table"
           }
          ]
         },
         "layout": {
          "annotationdefaults": {
           "arrowcolor": "#2a3f5f",
           "arrowhead": 0,
           "arrowwidth": 1
          },
          "autotypenumbers": "strict",
          "coloraxis": {
           "colorbar": {
            "outlinewidth": 0,
            "ticks": ""
           }
          },
          "colorscale": {
           "diverging": [
            [
             0,
             "#8e0152"
            ],
            [
             0.1,
             "#c51b7d"
            ],
            [
             0.2,
             "#de77ae"
            ],
            [
             0.3,
             "#f1b6da"
            ],
            [
             0.4,
             "#fde0ef"
            ],
            [
             0.5,
             "#f7f7f7"
            ],
            [
             0.6,
             "#e6f5d0"
            ],
            [
             0.7,
             "#b8e186"
            ],
            [
             0.8,
             "#7fbc41"
            ],
            [
             0.9,
             "#4d9221"
            ],
            [
             1,
             "#276419"
            ]
           ],
           "sequential": [
            [
             0,
             "#0d0887"
            ],
            [
             0.1111111111111111,
             "#46039f"
            ],
            [
             0.2222222222222222,
             "#7201a8"
            ],
            [
             0.3333333333333333,
             "#9c179e"
            ],
            [
             0.4444444444444444,
             "#bd3786"
            ],
            [
             0.5555555555555556,
             "#d8576b"
            ],
            [
             0.6666666666666666,
             "#ed7953"
            ],
            [
             0.7777777777777778,
             "#fb9f3a"
            ],
            [
             0.8888888888888888,
             "#fdca26"
            ],
            [
             1,
             "#f0f921"
            ]
           ],
           "sequentialminus": [
            [
             0,
             "#0d0887"
            ],
            [
             0.1111111111111111,
             "#46039f"
            ],
            [
             0.2222222222222222,
             "#7201a8"
            ],
            [
             0.3333333333333333,
             "#9c179e"
            ],
            [
             0.4444444444444444,
             "#bd3786"
            ],
            [
             0.5555555555555556,
             "#d8576b"
            ],
            [
             0.6666666666666666,
             "#ed7953"
            ],
            [
             0.7777777777777778,
             "#fb9f3a"
            ],
            [
             0.8888888888888888,
             "#fdca26"
            ],
            [
             1,
             "#f0f921"
            ]
           ]
          },
          "colorway": [
           "#636efa",
           "#EF553B",
           "#00cc96",
           "#ab63fa",
           "#FFA15A",
           "#19d3f3",
           "#FF6692",
           "#B6E880",
           "#FF97FF",
           "#FECB52"
          ],
          "font": {
           "color": "#2a3f5f"
          },
          "geo": {
           "bgcolor": "white",
           "lakecolor": "white",
           "landcolor": "#E5ECF6",
           "showlakes": true,
           "showland": true,
           "subunitcolor": "white"
          },
          "hoverlabel": {
           "align": "left"
          },
          "hovermode": "closest",
          "mapbox": {
           "style": "light"
          },
          "paper_bgcolor": "white",
          "plot_bgcolor": "#E5ECF6",
          "polar": {
           "angularaxis": {
            "gridcolor": "white",
            "linecolor": "white",
            "ticks": ""
           },
           "bgcolor": "#E5ECF6",
           "radialaxis": {
            "gridcolor": "white",
            "linecolor": "white",
            "ticks": ""
           }
          },
          "scene": {
           "xaxis": {
            "backgroundcolor": "#E5ECF6",
            "gridcolor": "white",
            "gridwidth": 2,
            "linecolor": "white",
            "showbackground": true,
            "ticks": "",
            "zerolinecolor": "white"
           },
           "yaxis": {
            "backgroundcolor": "#E5ECF6",
            "gridcolor": "white",
            "gridwidth": 2,
            "linecolor": "white",
            "showbackground": true,
            "ticks": "",
            "zerolinecolor": "white"
           },
           "zaxis": {
            "backgroundcolor": "#E5ECF6",
            "gridcolor": "white",
            "gridwidth": 2,
            "linecolor": "white",
            "showbackground": true,
            "ticks": "",
            "zerolinecolor": "white"
           }
          },
          "shapedefaults": {
           "line": {
            "color": "#2a3f5f"
           }
          },
          "ternary": {
           "aaxis": {
            "gridcolor": "white",
            "linecolor": "white",
            "ticks": ""
           },
           "baxis": {
            "gridcolor": "white",
            "linecolor": "white",
            "ticks": ""
           },
           "bgcolor": "#E5ECF6",
           "caxis": {
            "gridcolor": "white",
            "linecolor": "white",
            "ticks": ""
           }
          },
          "title": {
           "x": 0.05
          },
          "xaxis": {
           "automargin": true,
           "gridcolor": "white",
           "linecolor": "white",
           "ticks": "",
           "title": {
            "standoff": 15
           },
           "zerolinecolor": "white",
           "zerolinewidth": 2
          },
          "yaxis": {
           "automargin": true,
           "gridcolor": "white",
           "linecolor": "white",
           "ticks": "",
           "title": {
            "standoff": 15
           },
           "zerolinecolor": "white",
           "zerolinewidth": 2
          }
         }
        }
       }
      },
      "image/png": "[encoded data removed]",
      "text/html": [
       "<div>                            <div id=\"6f98bb6d-1f17-4033-91f3-8eff77af89e0\" class=\"plotly-graph-div\" style=\"height:525px; width:100%;\"></div>            <script type=\"text/javascript\">                require([\"plotly\"], function(Plotly) {                    window.PLOTLYENV=window.PLOTLYENV || {};                                    if (document.getElementById(\"6f98bb6d-1f17-4033-91f3-8eff77af89e0\")) {                    Plotly.newPlot(                        \"6f98bb6d-1f17-4033-91f3-8eff77af89e0\",                        [{\"branchvalues\":\"total\",\"customdata\":[[\"Other (assume NPCC grid)\"],[\"Other (assume NPCC grid)\"],[\"Other (assume NPCC grid)\"],[\"Other (assume NPCC grid)\"],[\"Other (assume NPCC grid)\"],[\"Other (assume NPCC grid)\"],[\"Other (assume NPCC grid)\"],[\"Other (assume NPCC grid)\"],[\"Other (assume NPCC grid)\"],[\"Other (assume NPCC grid)\"],[\"Other (assume NPCC grid)\"],[\"Other (assume NPCC grid)\"],[\"Other (assume NPCC grid)\"],[\"Other (assume NPCC grid)\"],[\"Other (assume NPCC grid)\"],[\"Other (assume NPCC grid)\"],[\"Other (assume NPCC grid)\"],[\"Other (assume NPCC grid)\"],[\"Solar\"],[\"Solar\"],[\"Solar\"],[\"Solar\"],[\"Solar\"],[\"Solar\"],[\"Solar\"],[\"Solar\"],[\"Solar\"],[\"Solar\"],[\"Solar\"],[\"Solar\"],[\"Solar\"],[\"Solar\"],[\"Solar\"],[\"Solar\"],[\"Solar\"],[\"Solar\"],[\"Co-Generation\"],[\"Co-Generation\"],[\"Co-Generation\"],[\"Co-Generation\"],[\"Co-Generation\"],[\"Co-Generation\"],[\"Co-Generation\"],[\"Co-Generation\"],[\"Co-Generation\"],[\"Co-Generation\"],[\"Co-Generation\"],[\"Co-Generation\"],[\"Co-Generation\"],[\"Co-Generation\"],[\"Co-Generation\"],[\"Co-Generation\"],[\"Co-Generation\"],[\"Co-Generation\"],[\"CH4 digestion\"],[\"CH4 digestion\"],[\"CH4 digestion\"],[\"CH4 digestion\"],[\"CH4 digestion\"],[\"CH4 digestion\"],[\"CH4 digestion\"],[\"CH4 digestion\"],[\"CH4 digestion\"],[\"CH4 digestion\"],[\"CH4 digestion\"],[\"CH4 digestion\"],[\"CH4 digestion\"],[\"CH4 digestion\"],[\"CH4 digestion\"],[\"CH4 digestion\"],[\"CH4 digestion\"],[\"CH4 digestion\"],[\"#1, 2, & 4 Fuel Oil\"],[\"#1, 2, & 4 Fuel Oil\"],[\"#1, 2, & 4 Fuel Oil\"],[\"#1, 2, & 4 Fuel Oil\"],[\"#1, 2, & 4 Fuel Oil\"],[\"#1, 2, & 4 Fuel Oil\"],[\"#1, 2, & 4 Fuel Oil\"],[\"#1, 2, & 4 Fuel Oil\"],[\"#1, 2, & 4 Fuel Oil\"],[\"#1, 2, & 4 Fuel Oil\"],[\"#1, 2, & 4 Fuel Oil\"],[\"#1, 2, & 4 Fuel Oil\"],[\"#1, 2, & 4 Fuel Oil\"],[\"#1, 2, & 4 Fuel Oil\"],[\"#1, 2, & 4 Fuel Oil\"],[\"#1, 2, & 4 Fuel Oil\"],[\"#1, 2, & 4 Fuel Oil\"],[\"#1, 2, & 4 Fuel Oil\"],[\"Nuclear\"],[\"Nuclear\"],[\"Nuclear\"],[\"Nuclear\"],[\"Nuclear\"],[\"Nuclear\"],[\"Nuclear\"],[\"Nuclear\"],[\"Nuclear\"],[\"Nuclear\"],[\"Nuclear\"],[\"Nuclear\"],[\"Nuclear\"],[\"Nuclear\"],[\"Nuclear\"],[\"Nuclear\"],[\"Nuclear\"],[\"Nuclear\"],[\"Coal\"],[\"Coal\"],[\"Coal\"],[\"Coal\"],[\"Coal\"],[\"Coal\"],[\"Coal\"],[\"Coal\"],[\"Coal\"],[\"Coal\"],[\"Coal\"],[\"Coal\"],[\"Coal\"],[\"Coal\"],[\"Coal\"],[\"Coal\"],[\"Coal\"],[\"Coal\"],[\"Natural Gas\"],[\"Natural Gas\"],[\"Natural Gas\"],[\"Natural Gas\"],[\"Natural Gas\"],[\"Natural Gas\"],[\"Natural Gas\"],[\"Natural Gas\"],[\"Natural Gas\"],[\"Natural Gas\"],[\"Natural Gas\"],[\"Natural Gas\"],[\"Natural Gas\"],[\"Natural Gas\"],[\"Natural Gas\"],[\"Natural Gas\"],[\"Natural Gas\"],[\"Natural Gas\"],[\"Hydro\"],[\"Hydro\"],[\"Hydro\"],[\"Hydro\"],[\"Hydro\"],[\"Hydro\"],[\"Hydro\"],[\"Hydro\"],[\"Hydro\"],[\"Hydro\"],[\"Hydro\"],[\"Hydro\"],[\"Hydro\"],[\"Hydro\"],[\"Hydro\"],[\"Hydro\"],[\"Hydro\"],[\"Hydro\"],[\"Wind\"],[\"Wind\"],[\"Wind\"],[\"Wind\"],[\"Wind\"],[\"Wind\"],[\"Wind\"],[\"Wind\"],[\"Wind\"],[\"Wind\"],[\"Wind\"],[\"Wind\"],[\"Wind\"],[\"Wind\"],[\"Wind\"],[\"Wind\"],[\"Wind\"],[\"Wind\"],[\"Biomass\"],[\"Biomass\"],[\"Biomass\"],[\"Biomass\"],[\"Biomass\"],[\"Biomass\"],[\"Biomass\"],[\"Biomass\"],[\"Biomass\"],[\"Biomass\"],[\"Biomass\"],[\"Biomass\"],[\"Biomass\"],[\"Biomass\"],[\"Biomass\"],[\"Biomass\"],[\"Biomass\"],[\"Biomass\"],[\"#5 & 6 Fuel Oil\"],[\"#5 & 6 Fuel Oil\"],[\"#5 & 6 Fuel Oil\"],[\"#5 & 6 Fuel Oil\"],[\"#5 & 6 Fuel Oil\"],[\"#5 & 6 Fuel Oil\"],[\"#5 & 6 Fuel Oil\"],[\"#5 & 6 Fuel Oil\"],[\"#5 & 6 Fuel Oil\"],[\"#5 & 6 Fuel Oil\"],[\"#5 & 6 Fuel Oil\"],[\"#5 & 6 Fuel Oil\"],[\"#5 & 6 Fuel Oil\"],[\"#5 & 6 Fuel Oil\"],[\"#5 & 6 Fuel Oil\"],[\"#5 & 6 Fuel Oil\"],[\"#5 & 6 Fuel Oil\"],[\"#5 & 6 Fuel Oil\"],[\"(?)\"],[\"(?)\"],[\"(?)\"],[\"(?)\"],[\"(?)\"],[\"(?)\"],[\"(?)\"],[\"(?)\"],[\"(?)\"],[\"(?)\"],[\"(?)\"],[\"(?)\"],[\"(?)\"],[\"(?)\"],[\"(?)\"],[\"(?)\"],[\"(?)\"],[\"(?)\"],[\"(?)\"],[\"(?)\"],[\"(?)\"],[\"(?)\"],[\"(?)\"],[\"(?)\"],[\"(?)\"],[\"(?)\"],[\"(?)\"],[\"(?)\"],[\"(?)\"],[\"(?)\"],[\"(?)\"],[\"(?)\"],[\"(?)\"],[\"(?)\"],[\"(?)\"],[\"(?)\"]],\"domain\":{\"x\":[0.0,1.0],\"y\":[0.0,1.0]},\"hovertemplate\":\"labels=%{label}<br>value=%{value}<br>parent=%{parent}<br>id=%{id}<br>Source_MTCDEs=%{customdata[0]}<extra></extra>\",\"ids\":[\"2006_2007/Scope 2/Other (assume NPCC grid)\",\"2023_2024/Scope 2/Other (assume NPCC grid)\",\"2022_2023/Scope 2/Other (assume NPCC grid)\",\"2021_2022/Scope 2/Other (assume NPCC grid)\",\"2020_2021/Scope 2/Other (assume NPCC grid)\",\"2019_2020/Scope 2/Other (assume NPCC grid)\",\"2017_2018/Scope 2/Other (assume NPCC grid)\",\"2016_2017/Scope 2/Other (assume NPCC grid)\",\"2015_2016/Scope 2/Other (assume NPCC grid)\",\"2018_2019/Scope 2/Other (assume NPCC grid)\",\"2013_2014/Scope 2/Other (assume NPCC grid)\",\"2012_2013/Scope 2/Other (assume NPCC grid)\",\"2011_2012/Scope 2/Other (assume NPCC grid)\",\"2010_2011/Scope 2/Other (assume NPCC grid)\",\"2009_2010/Scope 2/Other (assume NPCC grid)\",\"2008_2009/Scope 2/Other (assume NPCC grid)\",\"2007_2008/Scope 2/Other (assume NPCC grid)\",\"2014_2015/Scope 2/Other (assume NPCC grid)\",\"2013_2014/Scope 2/Solar\",\"2007_2008/Scope 2/Solar\",\"2008_2009/Scope 2/Solar\",\"2009_2010/Scope 2/Solar\",\"2010_2011/Scope 2/Solar\",\"2011_2012/Scope 2/Solar\",\"2012_2013/Scope 2/Solar\",\"2014_2015/Scope 2/Solar\",\"2006_2007/Scope 2/Solar\",\"2016_2017/Scope 2/Solar\",\"2017_2018/Scope 2/Solar\",\"2018_2019/Scope 2/Solar\",\"2019_2020/Scope 2/Solar\",\"2020_2021/Scope 2/Solar\",\"2021_2022/Scope 2/Solar\",\"2022_2023/Scope 2/Solar\",\"2023_2024/Scope 2/Solar\",\"2015_2016/Scope 2/Solar\",\"2018_2019/Scope 2/Co-Generation\",\"2019_2020/Scope 2/Co-Generation\",\"2006_2007/Scope 2/Co-Generation\",\"2022_2023/Scope 2/Co-Generation\",\"2023_2024/Scope 2/Co-Generation\",\"2017_2018/Scope 2/Co-Generation\",\"2021_2022/Scope 2/Co-Generation\",\"2016_2017/Scope 2/Co-Generation\",\"2020_2021/Scope 2/Co-Generation\",\"2014_2015/Scope 2/Co-Generation\",\"2013_2014/Scope 2/Co-Generation\",\"2012_2013/Scope 2/Co-Generation\",\"2011_2012/Scope 2/Co-Generation\",\"2010_2011/Scope 2/Co-Generation\",\"2009_2010/Scope 2/Co-Generation\",\"2008_2009/Scope 2/Co-Generation\",\"2007_2008/Scope 2/Co-Generation\",\"2015_2016/Scope 2/Co-Generation\",\"2016_2017/Scope 2/CH4 digestion\",\"2017_2018/Scope 2/CH4 digestion\",\"2021_2022/Scope 2/CH4 digestion\",\"2019_2020/Scope 2/CH4 digestion\",\"2020_2021/Scope 2/CH4 digestion\",\"2015_2016/Scope 2/CH4 digestion\",\"2018_2019/Scope 2/CH4 digestion\",\"2014_2015/Scope 2/CH4 digestion\",\"2010_2011/Scope 2/CH4 digestion\",\"2012_2013/Scope 2/CH4 digestion\",\"2011_2012/Scope 2/CH4 digestion\",\"2009_2010/Scope 2/CH4 digestion\",\"2008_2009/Scope 2/CH4 digestion\",\"2007_2008/Scope 2/CH4 digestion\",\"2006_2007/Scope 2/CH4 digestion\",\"2022_2023/Scope 2/CH4 digestion\",\"2013_2014/Scope 2/CH4 digestion\",\"2023_2024/Scope 2/CH4 digestion\",\"2006_2007/Scope 2/#1, 2, & 4 Fuel Oil\",\"2023_2024/Scope 2/#1, 2, & 4 Fuel Oil\",\"2007_2008/Scope 2/#1, 2, & 4 Fuel Oil\",\"2008_2009/Scope 2/#1, 2, & 4 Fuel Oil\",\"2009_2010/Scope 2/#1, 2, & 4 Fuel Oil\",\"2010_2011/Scope 2/#1, 2, & 4 Fuel Oil\",\"2012_2013/Scope 2/#1, 2, & 4 Fuel Oil\",\"2013_2014/Scope 2/#1, 2, & 4 Fuel Oil\",\"2014_2015/Scope 2/#1, 2, & 4 Fuel Oil\",\"2011_2012/Scope 2/#1, 2, & 4 Fuel Oil\",\"2016_2017/Scope 2/#1, 2, & 4 Fuel Oil\",\"2017_2018/Scope 2/#1, 2, & 4 Fuel Oil\",\"2018_2019/Scope 2/#1, 2, & 4 Fuel Oil\",\"2019_2020/Scope 2/#1, 2, & 4 Fuel Oil\",\"2020_2021/Scope 2/#1, 2, & 4 Fuel Oil\",\"2021_2022/Scope 2/#1, 2, & 4 Fuel Oil\",\"2022_2023/Scope 2/#1, 2, & 4 Fuel Oil\",\"2015_2016/Scope 2/#1, 2, & 4 Fuel Oil\",\"2014_2015/Scope 2/Nuclear\",\"2008_2009/Scope 2/Nuclear\",\"2009_2010/Scope 2/Nuclear\",\"2010_2011/Scope 2/Nuclear\",\"2011_2012/Scope 2/Nuclear\",\"2012_2013/Scope 2/Nuclear\",\"2013_2014/Scope 2/Nuclear\",\"2015_2016/Scope 2/Nuclear\",\"2023_2024/Scope 2/Nuclear\",\"2017_2018/Scope 2/Nuclear\",\"2018_2019/Scope 2/Nuclear\",\"2019_2020/Scope 2/Nuclear\",\"2020_2021/Scope 2/Nuclear\",\"2021_2022/Scope 2/Nuclear\",\"2022_2023/Scope 2/Nuclear\",\"2007_2008/Scope 2/Nuclear\",\"2016_2017/Scope 2/Nuclear\",\"2006_2007/Scope 2/Nuclear\",\"2023_2024/Scope 2/Coal\",\"2022_2023/Scope 2/Coal\",\"2021_2022/Scope 2/Coal\",\"2020_2021/Scope 2/Coal\",\"2019_2020/Scope 2/Coal\",\"2018_2019/Scope 2/Coal\",\"2017_2018/Scope 2/Coal\",\"2015_2016/Scope 2/Coal\",\"2014_2015/Scope 2/Coal\",\"2013_2014/Scope 2/Coal\",\"2016_2017/Scope 2/Coal\",\"2011_2012/Scope 2/Coal\",\"2010_2011/Scope 2/Coal\",\"2009_2010/Scope 2/Coal\",\"2008_2009/Scope 2/Coal\",\"2007_2008/Scope 2/Coal\",\"2006_2007/Scope 2/Coal\",\"2012_2013/Scope 2/Coal\",\"2016_2017/Scope 2/Natural Gas\",\"2022_2023/Scope 2/Natural Gas\",\"2021_2022/Scope 2/Natural Gas\",\"2020_2021/Scope 2/Natural Gas\",\"2019_2020/Scope 2/Natural Gas\",\"2018_2019/Scope 2/Natural Gas\",\"2017_2018/Scope 2/Natural Gas\",\"2015_2016/Scope 2/Natural Gas\",\"2023_2024/Scope 2/Natural Gas\",\"2013_2014/Scope 2/Natural Gas\",\"2012_2013/Scope 2/Natural Gas\",\"2011_2012/Scope 2/Natural Gas\",\"2010_2011/Scope 2/Natural Gas\",\"2009_2010/Scope 2/Natural Gas\",\"2008_2009/Scope 2/Natural Gas\",\"2007_2008/Scope 2/Natural Gas\",\"2014_2015/Scope 2/Natural Gas\",\"2006_2007/Scope 2/Natural Gas\",\"2006_2007/Scope 2/Hydro\",\"2007_2008/Scope 2/Hydro\",\"2009_2010/Scope 2/Hydro\",\"2008_2009/Scope 2/Hydro\",\"2010_2011/Scope 2/Hydro\",\"2011_2012/Scope 2/Hydro\",\"2012_2013/Scope 2/Hydro\",\"2014_2015/Scope 2/Hydro\",\"2015_2016/Scope 2/Hydro\",\"2016_2017/Scope 2/Hydro\",\"2013_2014/Scope 2/Hydro\",\"2018_2019/Scope 2/Hydro\",\"2019_2020/Scope 2/Hydro\",\"2020_2021/Scope 2/Hydro\",\"2021_2022/Scope 2/Hydro\",\"2022_2023/Scope 2/Hydro\",\"2023_2024/Scope 2/Hydro\",\"2017_2018/Scope 2/Hydro\",\"2013_2014/Scope 2/Wind\",\"2008_2009/Scope 2/Wind\",\"2009_2010/Scope 2/Wind\",\"2010_2011/Scope 2/Wind\",\"2011_2012/Scope 2/Wind\",\"2012_2013/Scope 2/Wind\",\"2014_2015/Scope 2/Wind\",\"2007_2008/Scope 2/Wind\",\"2016_2017/Scope 2/Wind\",\"2017_2018/Scope 2/Wind\",\"2018_2019/Scope 2/Wind\",\"2019_2020/Scope 2/Wind\",\"2020_2021/Scope 2/Wind\",\"2021_2022/Scope 2/Wind\",\"2015_2016/Scope 2/Wind\",\"2006_2007/Scope 2/Wind\",\"2023_2024/Scope 2/Wind\",\"2022_2023/Scope 2/Wind\",\"2006_2007/Scope 2/Biomass\",\"2009_2010/Scope 2/Biomass\",\"2010_2011/Scope 2/Biomass\",\"2011_2012/Scope 2/Biomass\",\"2012_2013/Scope 2/Biomass\",\"2013_2014/Scope 2/Biomass\",\"2014_2015/Scope 2/Biomass\",\"2015_2016/Scope 2/Biomass\",\"2016_2017/Scope 2/Biomass\",\"2017_2018/Scope 2/Biomass\",\"2018_2019/Scope 2/Biomass\",\"2019_2020/Scope 2/Biomass\",\"2020_2021/Scope 2/Biomass\",\"2021_2022/Scope 2/Biomass\",\"2022_2023/Scope 2/Biomass\",\"2008_2009/Scope 2/Biomass\",\"2007_2008/Scope 2/Biomass\",\"2023_2024/Scope 2/Biomass\",\"2008_2009/Scope 2/#5 & 6 Fuel Oil\",\"2023_2024/Scope 2/#5 & 6 Fuel Oil\",\"2022_2023/Scope 2/#5 & 6 Fuel Oil\",\"2021_2022/Scope 2/#5 & 6 Fuel Oil\",\"2020_2021/Scope 2/#5 & 6 Fuel Oil\",\"2019_2020/Scope 2/#5 & 6 Fuel Oil\",\"2018_2019/Scope 2/#5 & 6 Fuel Oil\",\"2017_2018/Scope 2/#5 & 6 Fuel Oil\",\"2016_2017/Scope 2/#5 & 6 Fuel Oil\",\"2015_2016/Scope 2/#5 & 6 Fuel Oil\",\"2014_2015/Scope 2/#5 & 6 Fuel Oil\",\"2013_2014/Scope 2/#5 & 6 Fuel Oil\",\"2012_2013/Scope 2/#5 & 6 Fuel Oil\",\"2011_2012/Scope 2/#5 & 6 Fuel Oil\",\"2010_2011/Scope 2/#5 & 6 Fuel Oil\",\"2009_2010/Scope 2/#5 & 6 Fuel Oil\",\"2007_2008/Scope 2/#5 & 6 Fuel Oil\",\"2006_2007/Scope 2/#5 & 6 Fuel Oil\",\"2006_2007/Scope 2\",\"2007_2008/Scope 2\",\"2008_2009/Scope 2\",\"2009_2010/Scope 2\",\"2010_2011/Scope 2\",\"2011_2012/Scope 2\",\"2012_2013/Scope 2\",\"2013_2014/Scope 2\",\"2014_2015/Scope 2\",\"2015_2016/Scope 2\",\"2016_2017/Scope 2\",\"2017_2018/Scope 2\",\"2018_2019/Scope 2\",\"2019_2020/Scope 2\",\"2020_2021/Scope 2\",\"2021_2022/Scope 2\",\"2022_2023/Scope 2\",\"2023_2024/Scope 2\",\"2006_2007\",\"2007_2008\",\"2008_2009\",\"2009_2010\",\"2010_2011\",\"2011_2012\",\"2012_2013\",\"2013_2014\",\"2014_2015\",\"2015_2016\",\"2016_2017\",\"2017_2018\",\"2018_2019\",\"2019_2020\",\"2020_2021\",\"2021_2022\",\"2022_2023\",\"2023_2024\"],\"labels\":[\"Other (assume NPCC grid)\",\"Other (assume NPCC grid)\",\"Other (assume NPCC grid)\",\"Other (assume NPCC grid)\",\"Other (assume NPCC grid)\",\"Other (assume NPCC grid)\",\"Other (assume NPCC grid)\",\"Other (assume NPCC grid)\",\"Other (assume NPCC grid)\",\"Other (assume NPCC grid)\",\"Other (assume NPCC grid)\",\"Other (assume NPCC grid)\",\"Other (assume NPCC grid)\",\"Other (assume NPCC grid)\",\"Other (assume NPCC grid)\",\"Other (assume NPCC grid)\",\"Other (assume NPCC grid)\",\"Other (assume NPCC grid)\",\"Solar\",\"Solar\",\"Solar\",\"Solar\",\"Solar\",\"Solar\",\"Solar\",\"Solar\",\"Solar\",\"Solar\",\"Solar\",\"Solar\",\"Solar\",\"Solar\",\"Solar\",\"Solar\",\"Solar\",\"Solar\",\"Co-Generation\",\"Co-Generation\",\"Co-Generation\",\"Co-Generation\",\"Co-Generation\",\"Co-Generation\",\"Co-Generation\",\"Co-Generation\",\"Co-Generation\",\"Co-Generation\",\"Co-Generation\",\"Co-Generation\",\"Co-Generation\",\"Co-Generation\",\"Co-Generation\",\"Co-Generation\",\"Co-Generation\",\"Co-Generation\",\"CH4 digestion\",\"CH4 digestion\",\"CH4 digestion\",\"CH4 digestion\",\"CH4 digestion\",\"CH4 digestion\",\"CH4 digestion\",\"CH4 digestion\",\"CH4 digestion\",\"CH4 digestion\",\"CH4 digestion\",\"CH4 digestion\",\"CH4 digestion\",\"CH4 digestion\",\"CH4 digestion\",\"CH4 digestion\",\"CH4 digestion\",\"CH4 digestion\",\"#1, 2, & 4 Fuel Oil\",\"#1, 2, & 4 Fuel Oil\",\"#1, 2, & 4 Fuel Oil\",\"#1, 2, & 4 Fuel Oil\",\"#1, 2, & 4 Fuel Oil\",\"#1, 2, & 4 Fuel Oil\",\"#1, 2, & 4 Fuel Oil\",\"#1, 2, & 4 Fuel Oil\",\"#1, 2, & 4 Fuel Oil\",\"#1, 2, & 4 Fuel Oil\",\"#1, 2, & 4 Fuel Oil\",\"#1, 2, & 4 Fuel Oil\",\"#1, 2, & 4 Fuel Oil\",\"#1, 2, & 4 Fuel Oil\",\"#1, 2, & 4 Fuel Oil\",\"#1, 2, & 4 Fuel Oil\",\"#1, 2, & 4 Fuel Oil\",\"#1, 2, & 4 Fuel Oil\",\"Nuclear\",\"Nuclear\",\"Nuclear\",\"Nuclear\",\"Nuclear\",\"Nuclear\",\"Nuclear\",\"Nuclear\",\"Nuclear\",\"Nuclear\",\"Nuclear\",\"Nuclear\",\"Nuclear\",\"Nuclear\",\"Nuclear\",\"Nuclear\",\"Nuclear\",\"Nuclear\",\"Coal\",\"Coal\",\"Coal\",\"Coal\",\"Coal\",\"Coal\",\"Coal\",\"Coal\",\"Coal\",\"Coal\",\"Coal\",\"Coal\",\"Coal\",\"Coal\",\"Coal\",\"Coal\",\"Coal\",\"Coal\",\"Natural Gas\",\"Natural Gas\",\"Natural Gas\",\"Natural Gas\",\"Natural Gas\",\"Natural Gas\",\"Natural Gas\",\"Natural Gas\",\"Natural Gas\",\"Natural Gas\",\"Natural Gas\",\"Natural Gas\",\"Natural Gas\",\"Natural Gas\",\"Natural Gas\",\"Natural Gas\",\"Natural Gas\",\"Natural Gas\",\"Hydro\",\"Hydro\",\"Hydro\",\"Hydro\",\"Hydro\",\"Hydro\",\"Hydro\",\"Hydro\",\"Hydro\",\"Hydro\",\"Hydro\",\"Hydro\",\"Hydro\",\"Hydro\",\"Hydro\",\"Hydro\",\"Hydro\",\"Hydro\",\"Wind\",\"Wind\",\"Wind\",\"Wind\",\"Wind\",\"Wind\",\"Wind\",\"Wind\",\"Wind\",\"Wind\",\"Wind\",\"Wind\",\"Wind\",\"Wind\",\"Wind\",\"Wind\",\"Wind\",\"Wind\",\"Biomass\",\"Biomass\",\"Biomass\",\"Biomass\",\"Biomass\",\"Biomass\",\"Biomass\",\"Biomass\",\"Biomass\",\"Biomass\",\"Biomass\",\"Biomass\",\"Biomass\",\"Biomass\",\"Biomass\",\"Biomass\",\"Biomass\",\"Biomass\",\"#5 & 6 Fuel Oil\",\"#5 & 6 Fuel Oil\",\"#5 & 6 Fuel Oil\",\"#5 & 6 Fuel Oil\",\"#5 & 6 Fuel Oil\",\"#5 & 6 Fuel Oil\",\"#5 & 6 Fuel Oil\",\"#5 & 6 Fuel Oil\",\"#5 & 6 Fuel Oil\",\"#5 & 6 Fuel Oil\",\"#5 & 6 Fuel Oil\",\"#5 & 6 Fuel Oil\",\"#5 & 6 Fuel Oil\",\"#5 & 6 Fuel Oil\",\"#5 & 6 Fuel Oil\",\"#5 & 6 Fuel Oil\",\"#5 & 6 Fuel Oil\",\"#5 & 6 Fuel Oil\",\"Scope 2\",\"Scope 2\",\"Scope 2\",\"Scope 2\",\"Scope 2\",\"Scope 2\",\"Scope 2\",\"Scope 2\",\"Scope 2\",\"Scope 2\",\"Scope 2\",\"Scope 2\",\"Scope 2\",\"Scope 2\",\"Scope 2\",\"Scope 2\",\"Scope 2\",\"Scope 2\",\"2006_2007\",\"2007_2008\",\"2008_2009\",\"2009_2010\",\"2010_2011\",\"2011_2012\",\"2012_2013\",\"2013_2014\",\"2014_2015\",\"2015_2016\",\"2016_2017\",\"2017_2018\",\"2018_2019\",\"2019_2020\",\"2020_2021\",\"2021_2022\",\"2022_2023\",\"2023_2024\"],\"marker\":{\"colors\":[\"#636efa\",\"#636efa\",\"#636efa\",\"#636efa\",\"#636efa\",\"#636efa\",\"#636efa\",\"#636efa\",\"#636efa\",\"#636efa\",\"#636efa\",\"#636efa\",\"#636efa\",\"#636efa\",\"#636efa\",\"#636efa\",\"#636efa\",\"#636efa\",\"#EF553B\",\"#EF553B\",\"#EF553B\",\"#EF553B\",\"#EF553B\",\"#EF553B\",\"#EF553B\",\"#EF553B\",\"#EF553B\",\"#EF553B\",\"#EF553B\",\"#EF553B\",\"#EF553B\",\"#EF553B\",\"#EF553B\",\"#EF553B\",\"#EF553B\",\"#EF553B\",\"#00cc96\",\"#00cc96\",\"#00cc96\",\"#00cc96\",\"#00cc96\",\"#00cc96\",\"#00cc96\",\"#00cc96\",\"#00cc96\",\"#00cc96\",\"#00cc96\",\"#00cc96\",\"#00cc96\",\"#00cc96\",\"#00cc96\",\"#00cc96\",\"#00cc96\",\"#00cc96\",\"#ab63fa\",\"#ab63fa\",\"#ab63fa\",\"#ab63fa\",\"#ab63fa\",\"#ab63fa\",\"#ab63fa\",\"#ab63fa\",\"#ab63fa\",\"#ab63fa\",\"#ab63fa\",\"#ab63fa\",\"#ab63fa\",\"#ab63fa\",\"#ab63fa\",\"#ab63fa\",\"#ab63fa\",\"#ab63fa\",\"#FFA15A\",\"#FFA15A\",\"#FFA15A\",\"#FFA15A\",\"#FFA15A\",\"#FFA15A\",\"#FFA15A\",\"#FFA15A\",\"#FFA15A\",\"#FFA15A\",\"#FFA15A\",\"#FFA15A\",\"#FFA15A\",\"#FFA15A\",\"#FFA15A\",\"#FFA15A\",\"#FFA15A\",\"#FFA15A\",\"#19d3f3\",\"#19d3f3\",\"#19d3f3\",\"#19d3f3\",\"#19d3f3\",\"#19d3f3\",\"#19d3f3\",\"#19d3f3\",\"#19d3f3\",\"#19d3f3\",\"#19d3f3\",\"#19d3f3\",\"#19d3f3\",\"#19d3f3\",\"#19d3f3\",\"#19d3f3\",\"#19d3f3\",\"#19d3f3\",\"#FF6692\",\"#FF6692\",\"#FF6692\",\"#FF6692\",\"#FF6692\",\"#FF6692\",\"#FF6692\",\"#FF6692\",\"#FF6692\",\"#FF6692\",\"#FF6692\",\"#FF6692\",\"#FF6692\",\"#FF6692\",\"#FF6692\",\"#FF6692\",\"#FF6692\",\"#FF6692\",\"#B6E880\",\"#B6E880\",\"#B6E880\",\"#B6E880\",\"#B6E880\",\"#B6E880\",\"#B6E880\",\"#B6E880\",\"#B6E880\",\"#B6E880\",\"#B6E880\",\"#B6E880\",\"#B6E880\",\"#B6E880\",\"#B6E880\",\"#B6E880\",\"#B6E880\",\"#B6E880\",\"#FF97FF\",\"#FF97FF\",\"#FF97FF\",\"#FF97FF\",\"#FF97FF\",\"#FF97FF\",\"#FF97FF\",\"#FF97FF\",\"#FF97FF\",\"#FF97FF\",\"#FF97FF\",\"#FF97FF\",\"#FF97FF\",\"#FF97FF\",\"#FF97FF\",\"#FF97FF\",\"#FF97FF\",\"#FF97FF\",\"#FECB52\",\"#FECB52\",\"#FECB52\",\"#FECB52\",\"#FECB52\",\"#FECB52\",\"#FECB52\",\"#FECB52\",\"#FECB52\",\"#FECB52\",\"#FECB52\",\"#FECB52\",\"#FECB52\",\"#FECB52\",\"#FECB52\",\"#FECB52\",\"#FECB52\",\"#FECB52\",\"#636efa\",\"#636efa\",\"#636efa\",\"#636efa\",\"#636efa\",\"#636efa\",\"#636efa\",\"#636efa\",\"#636efa\",\"#636efa\",\"#636efa\",\"#636efa\",\"#636efa\",\"#636efa\",\"#636efa\",\"#636efa\",\"#636efa\",\"#636efa\",\"#EF553B\",\"#EF553B\",\"#EF553B\",\"#EF553B\",\"#EF553B\",\"#EF553B\",\"#EF553B\",\"#EF553B\",\"#EF553B\",\"#EF553B\",\"#EF553B\",\"#EF553B\",\"#EF553B\",\"#EF553B\",\"#EF553B\",\"#EF553B\",\"#EF553B\",\"#EF553B\",\"#00cc96\",\"#00cc96\",\"#00cc96\",\"#00cc96\",\"#00cc96\",\"#00cc96\",\"#00cc96\",\"#00cc96\",\"#00cc96\",\"#00cc96\",\"#00cc96\",\"#00cc96\",\"#00cc96\",\"#00cc96\",\"#00cc96\",\"#00cc96\",\"#00cc96\",\"#00cc96\",\"#00cc96\",\"#00cc96\",\"#00cc96\",\"#00cc96\",\"#00cc96\",\"#00cc96\",\"#00cc96\",\"#00cc96\",\"#00cc96\",\"#00cc96\",\"#00cc96\",\"#00cc96\",\"#00cc96\",\"#00cc96\",\"#00cc96\",\"#00cc96\",\"#00cc96\",\"#00cc96\"]},\"name\":\"\",\"parents\":[\"2006_2007/Scope 2\",\"2023_2024/Scope 2\",\"2022_2023/Scope 2\",\"2021_2022/Scope 2\",\"2020_2021/Scope 2\",\"2019_2020/Scope 2\",\"2017_2018/Scope 2\",\"2016_2017/Scope 2\",\"2015_2016/Scope 2\",\"2018_2019/Scope 2\",\"2013_2014/Scope 2\",\"2012_2013/Scope 2\",\"2011_2012/Scope 2\",\"2010_2011/Scope 2\",\"2009_2010/Scope 2\",\"2008_2009/Scope 2\",\"2007_2008/Scope 2\",\"2014_2015/Scope 2\",\"2013_2014/Scope 2\",\"2007_2008/Scope 2\",\"2008_2009/Scope 2\",\"2009_2010/Scope 2\",\"2010_2011/Scope 2\",\"2011_2012/Scope 2\",\"2012_2013/Scope 2\",\"2014_2015/Scope 2\",\"2006_2007/Scope 2\",\"2016_2017/Scope 2\",\"2017_2018/Scope 2\",\"2018_2019/Scope 2\",\"2019_2020/Scope 2\",\"2020_2021/Scope 2\",\"2021_2022/Scope 2\",\"2022_2023/Scope 2\",\"2023_2024/Scope 2\",\"2015_2016/Scope 2\",\"2018_2019/Scope 2\",\"2019_2020/Scope 2\",\"2006_2007/Scope 2\",\"2022_2023/Scope 2\",\"2023_2024/Scope 2\",\"2017_2018/Scope 2\",\"2021_2022/Scope 2\",\"2016_2017/Scope 2\",\"2020_2021/Scope 2\",\"2014_2015/Scope 2\",\"2013_2014/Scope 2\",\"2012_2013/Scope 2\",\"2011_2012/Scope 2\",\"2010_2011/Scope 2\",\"2009_2010/Scope 2\",\"2008_2009/Scope 2\",\"2007_2008/Scope 2\",\"2015_2016/Scope 2\",\"2016_2017/Scope 2\",\"2017_2018/Scope 2\",\"2021_2022/Scope 2\",\"2019_2020/Scope 2\",\"2020_2021/Scope 2\",\"2015_2016/Scope 2\",\"2018_2019/Scope 2\",\"2014_2015/Scope 2\",\"2010_2011/Scope 2\",\"2012_2013/Scope 2\",\"2011_2012/Scope 2\",\"2009_2010/Scope 2\",\"2008_2009/Scope 2\",\"2007_2008/Scope 2\",\"2006_2007/Scope 2\",\"2022_2023/Scope 2\",\"2013_2014/Scope 2\",\"2023_2024/Scope 2\",\"2006_2007/Scope 2\",\"2023_2024/Scope 2\",\"2007_2008/Scope 2\",\"2008_2009/Scope 2\",\"2009_2010/Scope 2\",\"2010_2011/Scope 2\",\"2012_2013/Scope 2\",\"2013_2014/Scope 2\",\"2014_2015/Scope 2\",\"2011_2012/Scope 2\",\"2016_2017/Scope 2\",\"2017_2018/Scope 2\",\"2018_2019/Scope 2\",\"2019_2020/Scope 2\",\"2020_2021/Scope 2\",\"2021_2022/Scope 2\",\"2022_2023/Scope 2\",\"2015_2016/Scope 2\",\"2014_2015/Scope 2\",\"2008_2009/Scope 2\",\"2009_2010/Scope 2\",\"2010_2011/Scope 2\",\"2011_2012/Scope 2\",\"2012_2013/Scope 2\",\"2013_2014/Scope 2\",\"2015_2016/Scope 2\",\"2023_2024/Scope 2\",\"2017_2018/Scope 2\",\"2018_2019/Scope 2\",\"2019_2020/Scope 2\",\"2020_2021/Scope 2\",\"2021_2022/Scope 2\",\"2022_2023/Scope 2\",\"2007_2008/Scope 2\",\"2016_2017/Scope 2\",\"2006_2007/Scope 2\",\"2023_2024/Scope 2\",\"2022_2023/Scope 2\",\"2021_2022/Scope 2\",\"2020_2021/Scope 2\",\"2019_2020/Scope 2\",\"2018_2019/Scope 2\",\"2017_2018/Scope 2\",\"2015_2016/Scope 2\",\"2014_2015/Scope 2\",\"2013_2014/Scope 2\",\"2016_2017/Scope 2\",\"2011_2012/Scope 2\",\"2010_2011/Scope 2\",\"2009_2010/Scope 2\",\"2008_2009/Scope 2\",\"2007_2008/Scope 2\",\"2006_2007/Scope 2\",\"2012_2013/Scope 2\",\"2016_2017/Scope 2\",\"2022_2023/Scope 2\",\"2021_2022/Scope 2\",\"2020_2021/Scope 2\",\"2019_2020/Scope 2\",\"2018_2019/Scope 2\",\"2017_2018/Scope 2\",\"2015_2016/Scope 2\",\"2023_2024/Scope 2\",\"2013_2014/Scope 2\",\"2012_2013/Scope 2\",\"2011_2012/Scope 2\",\"2010_2011/Scope 2\",\"2009_2010/Scope 2\",\"2008_2009/Scope 2\",\"2007_2008/Scope 2\",\"2014_2015/Scope 2\",\"2006_2007/Scope 2\",\"2006_2007/Scope 2\",\"2007_2008/Scope 2\",\"2009_2010/Scope 2\",\"2008_2009/Scope 2\",\"2010_2011/Scope 2\",\"2011_2012/Scope 2\",\"2012_2013/Scope 2\",\"2014_2015/Scope 2\",\"2015_2016/Scope 2\",\"2016_2017/Scope 2\",\"2013_2014/Scope 2\",\"2018_2019/Scope 2\",\"2019_2020/Scope 2\",\"2020_2021/Scope 2\",\"2021_2022/Scope 2\",\"2022_2023/Scope 2\",\"2023_2024/Scope 2\",\"2017_2018/Scope 2\",\"2013_2014/Scope 2\",\"2008_2009/Scope 2\",\"2009_2010/Scope 2\",\"2010_2011/Scope 2\",\"2011_2012/Scope 2\",\"2012_2013/Scope 2\",\"2014_2015/Scope 2\",\"2007_2008/Scope 2\",\"2016_2017/Scope 2\",\"2017_2018/Scope 2\",\"2018_2019/Scope 2\",\"2019_2020/Scope 2\",\"2020_2021/Scope 2\",\"2021_2022/Scope 2\",\"2015_2016/Scope 2\",\"2006_2007/Scope 2\",\"2023_2024/Scope 2\",\"2022_2023/Scope 2\",\"2006_2007/Scope 2\",\"2009_2010/Scope 2\",\"2010_2011/Scope 2\",\"2011_2012/Scope 2\",\"2012_2013/Scope 2\",\"2013_2014/Scope 2\",\"2014_2015/Scope 2\",\"2015_2016/Scope 2\",\"2016_2017/Scope 2\",\"2017_2018/Scope 2\",\"2018_2019/Scope 2\",\"2019_2020/Scope 2\",\"2020_2021/Scope 2\",\"2021_2022/Scope 2\",\"2022_2023/Scope 2\",\"2008_2009/Scope 2\",\"2007_2008/Scope 2\",\"2023_2024/Scope 2\",\"2008_2009/Scope 2\",\"2023_2024/Scope 2\",\"2022_2023/Scope 2\",\"2021_2022/Scope 2\",\"2020_2021/Scope 2\",\"2019_2020/Scope 2\",\"2018_2019/Scope 2\",\"2017_2018/Scope 2\",\"2016_2017/Scope 2\",\"2015_2016/Scope 2\",\"2014_2015/Scope 2\",\"2013_2014/Scope 2\",\"2012_2013/Scope 2\",\"2011_2012/Scope 2\",\"2010_2011/Scope 2\",\"2009_2010/Scope 2\",\"2007_2008/Scope 2\",\"2006_2007/Scope 2\",\"2006_2007\",\"2007_2008\",\"2008_2009\",\"2009_2010\",\"2010_2011\",\"2011_2012\",\"2012_2013\",\"2013_2014\",\"2014_2015\",\"2015_2016\",\"2016_2017\",\"2017_2018\",\"2018_2019\",\"2019_2020\",\"2020_2021\",\"2021_2022\",\"2022_2023\",\"2023_2024\",\"\",\"\",\"\",\"\",\"\",\"\",\"\",\"\",\"\",\"\",\"\",\"\",\"\",\"\",\"\",\"\",\"\",\"\"],\"values\":[577.0,0.0,0.0,0.0,0.0,83.0,135.0,837.0,0.0,0.0,0.0,0.0,399.0,505.0,166.0,839.0,884.0,0.0,0.0,0.0,0.0,0.0,0.0,0.0,0.0,0.0,0.0,0.0,0.0,0.0,0.0,0.0,0.0,0.0,0.0,0.0,0.0,0.0,0.0,0.0,0.0,0.0,0.0,0.0,0.0,0.0,0.0,0.0,0.0,0.0,0.0,0.0,0.0,0.0,0.0,0.0,0.0,0.0,0.0,0.0,0.0,0.0,0.0,0.0,0.0,0.0,0.0,0.0,0.0,0.0,0.0,0.0,3.0,0.0,4.0,3.0,11.0,0.0,7.0,59.0,539.0,2.0,6.0,18.0,251.0,11.0,0.0,0.0,0.0,554.0,0.0,0.0,0.0,0.0,0.0,0.0,0.0,0.0,0.0,0.0,0.0,0.0,0.0,0.0,0.0,0.0,0.0,0.0,0.0,0.0,0.0,0.0,0.0,0.0,51.0,0.0,0.0,147.0,76.0,7.0,0.0,0.0,17.0,24.0,15.0,151.0,701.0,0.0,0.0,0.0,80.0,219.0,887.0,803.0,0.0,681.0,696.0,25.0,0.0,0.0,25.0,34.0,722.0,23.0,0.0,0.0,0.0,0.0,0.0,0.0,0.0,0.0,0.0,0.0,0.0,0.0,0.0,0.0,0.0,0.0,0.0,0.0,0.0,0.0,0.0,0.0,0.0,0.0,0.0,0.0,0.0,0.0,0.0,0.0,0.0,0.0,0.0,0.0,0.0,0.0,0.0,0.0,0.0,0.0,0.0,0.0,0.0,0.0,0.0,0.0,0.0,0.0,0.0,0.0,0.0,0.0,0.0,0.0,21.0,0.0,0.0,0.0,0.0,0.0,0.0,0.0,0.0,0.0,0.0,5.0,5.0,4.0,6.0,0.0,35.0,17.0,635.0,981.0,905.0,177.0,511.0,437.0,859.0,892.0,1261.0,1357.0,1620.0,1091.0,470.0,174.0,0.0,0.0,0.0,0.0,635.0,981.0,905.0,177.0,511.0,437.0,859.0,892.0,1261.0,1357.0,1620.0,1091.0,470.0,174.0,0.0,0.0,0.0,0.0],\"type\":\"treemap\"}],                        {\"template\":{\"data\":{\"histogram2dcontour\":[{\"type\":\"histogram2dcontour\",\"colorbar\":{\"outlinewidth\":0,\"ticks\":\"\"},\"colorscale\":[[0.0,\"#0d0887\"],[0.1111111111111111,\"#46039f\"],[0.2222222222222222,\"#7201a8\"],[0.3333333333333333,\"#9c179e\"],[0.4444444444444444,\"#bd3786\"],[0.5555555555555556,\"#d8576b\"],[0.6666666666666666,\"#ed7953\"],[0.7777777777777778,\"#fb9f3a\"],[0.8888888888888888,\"#fdca26\"],[1.0,\"#f0f921\"]]}],\"choropleth\":[{\"type\":\"choropleth\",\"colorbar\":{\"outlinewidth\":0,\"ticks\":\"\"}}],\"histogram2d\":[{\"type\":\"histogram2d\",\"colorbar\":{\"outlinewidth\":0,\"ticks\":\"\"},\"colorscale\":[[0.0,\"#0d0887\"],[0.1111111111111111,\"#46039f\"],[0.2222222222222222,\"#7201a8\"],[0.3333333333333333,\"#9c179e\"],[0.4444444444444444,\"#bd3786\"],[0.5555555555555556,\"#d8576b\"],[0.6666666666666666,\"#ed7953\"],[0.7777777777777778,\"#fb9f3a\"],[0.8888888888888888,\"#fdca26\"],[1.0,\"#f0f921\"]]}],\"heatmap\":[{\"type\":\"heatmap\",\"colorbar\":{\"outlinewidth\":0,\"ticks\":\"\"},\"colorscale\":[[0.0,\"#0d0887\"],[0.1111111111111111,\"#46039f\"],[0.2222222222222222,\"#7201a8\"],[0.3333333333333333,\"#9c179e\"],[0.4444444444444444,\"#bd3786\"],[0.5555555555555556,\"#d8576b\"],[0.6666666666666666,\"#ed7953\"],[0.7777777777777778,\"#fb9f3a\"],[0.8888888888888888,\"#fdca26\"],[1.0,\"#f0f921\"]]}],\"heatmapgl\":[{\"type\":\"heatmapgl\",\"colorbar\":{\"outlinewidth\":0,\"ticks\":\"\"},\"colorscale\":[[0.0,\"#0d0887\"],[0.1111111111111111,\"#46039f\"],[0.2222222222222222,\"#7201a8\"],[0.3333333333333333,\"#9c179e\"],[0.4444444444444444,\"#bd3786\"],[0.5555555555555556,\"#d8576b\"],[0.6666666666666666,\"#ed7953\"],[0.7777777777777778,\"#fb9f3a\"],[0.8888888888888888,\"#fdca26\"],[1.0,\"#f0f921\"]]}],\"contourcarpet\":[{\"type\":\"contourcarpet\",\"colorbar\":{\"outlinewidth\":0,\"ticks\":\"\"}}],\"contour\":[{\"type\":\"contour\",\"colorbar\":{\"outlinewidth\":0,\"ticks\":\"\"},\"colorscale\":[[0.0,\"#0d0887\"],[0.1111111111111111,\"#46039f\"],[0.2222222222222222,\"#7201a8\"],[0.3333333333333333,\"#9c179e\"],[0.4444444444444444,\"#bd3786\"],[0.5555555555555556,\"#d8576b\"],[0.6666666666666666,\"#ed7953\"],[0.7777777777777778,\"#fb9f3a\"],[0.8888888888888888,\"#fdca26\"],[1.0,\"#f0f921\"]]}],\"surface\":[{\"type\":\"surface\",\"colorbar\":{\"outlinewidth\":0,\"ticks\":\"\"},\"colorscale\":[[0.0,\"#0d0887\"],[0.1111111111111111,\"#46039f\"],[0.2222222222222222,\"#7201a8\"],[0.3333333333333333,\"#9c179e\"],[0.4444444444444444,\"#bd3786\"],[0.5555555555555556,\"#d8576b\"],[0.6666666666666666,\"#ed7953\"],[0.7777777777777778,\"#fb9f3a\"],[0.8888888888888888,\"#fdca26\"],[1.0,\"#f0f921\"]]}],\"mesh3d\":[{\"type\":\"mesh3d\",\"colorbar\":{\"outlinewidth\":0,\"ticks\":\"\"}}],\"scatter\":[{\"fillpattern\":{\"fillmode\":\"overlay\",\"size\":10,\"solidity\":0.2},\"type\":\"scatter\"}],\"parcoords\":[{\"type\":\"parcoords\",\"line\":{\"colorbar\":{\"outlinewidth\":0,\"ticks\":\"\"}}}],\"scatterpolargl\":[{\"type\":\"scatterpolargl\",\"marker\":{\"colorbar\":{\"outlinewidth\":0,\"ticks\":\"\"}}}],\"bar\":[{\"error_x\":{\"color\":\"#2a3f5f\"},\"error_y\":{\"color\":\"#2a3f5f\"},\"marker\":{\"line\":{\"color\":\"#E5ECF6\",\"width\":0.5},\"pattern\":{\"fillmode\":\"overlay\",\"size\":10,\"solidity\":0.2}},\"type\":\"bar\"}],\"scattergeo\":[{\"type\":\"scattergeo\",\"marker\":{\"colorbar\":{\"outlinewidth\":0,\"ticks\":\"\"}}}],\"scatterpolar\":[{\"type\":\"scatterpolar\",\"marker\":{\"colorbar\":{\"outlinewidth\":0,\"ticks\":\"\"}}}],\"histogram\":[{\"marker\":{\"pattern\":{\"fillmode\":\"overlay\",\"size\":10,\"solidity\":0.2}},\"type\":\"histogram\"}],\"scattergl\":[{\"type\":\"scattergl\",\"marker\":{\"colorbar\":{\"outlinewidth\":0,\"ticks\":\"\"}}}],\"scatter3d\":[{\"type\":\"scatter3d\",\"line\":{\"colorbar\":{\"outlinewidth\":0,\"ticks\":\"\"}},\"marker\":{\"colorbar\":{\"outlinewidth\":0,\"ticks\":\"\"}}}],\"scattermapbox\":[{\"type\":\"scattermapbox\",\"marker\":{\"colorbar\":{\"outlinewidth\":0,\"ticks\":\"\"}}}],\"scatterternary\":[{\"type\":\"scatterternary\",\"marker\":{\"colorbar\":{\"outlinewidth\":0,\"ticks\":\"\"}}}],\"scattercarpet\":[{\"type\":\"scattercarpet\",\"marker\":{\"colorbar\":{\"outlinewidth\":0,\"ticks\":\"\"}}}],\"carpet\":[{\"aaxis\":{\"endlinecolor\":\"#2a3f5f\",\"gridcolor\":\"white\",\"linecolor\":\"white\",\"minorgridcolor\":\"white\",\"startlinecolor\":\"#2a3f5f\"},\"baxis\":{\"endlinecolor\":\"#2a3f5f\",\"gridcolor\":\"white\",\"linecolor\":\"white\",\"minorgridcolor\":\"white\",\"startlinecolor\":\"#2a3f5f\"},\"type\":\"carpet\"}],\"table\":[{\"cells\":{\"fill\":{\"color\":\"#EBF0F8\"},\"line\":{\"color\":\"white\"}},\"header\":{\"fill\":{\"color\":\"#C8D4E3\"},\"line\":{\"color\":\"white\"}},\"type\":\"table\"}],\"barpolar\":[{\"marker\":{\"line\":{\"color\":\"#E5ECF6\",\"width\":0.5},\"pattern\":{\"fillmode\":\"overlay\",\"size\":10,\"solidity\":0.2}},\"type\":\"barpolar\"}],\"pie\":[{\"automargin\":true,\"type\":\"pie\"}]},\"layout\":{\"autotypenumbers\":\"strict\",\"colorway\":[\"#636efa\",\"#EF553B\",\"#00cc96\",\"#ab63fa\",\"#FFA15A\",\"#19d3f3\",\"#FF6692\",\"#B6E880\",\"#FF97FF\",\"#FECB52\"],\"font\":{\"color\":\"#2a3f5f\"},\"hovermode\":\"closest\",\"hoverlabel\":{\"align\":\"left\"},\"paper_bgcolor\":\"white\",\"plot_bgcolor\":\"#E5ECF6\",\"polar\":{\"bgcolor\":\"#E5ECF6\",\"angularaxis\":{\"gridcolor\":\"white\",\"linecolor\":\"white\",\"ticks\":\"\"},\"radialaxis\":{\"gridcolor\":\"white\",\"linecolor\":\"white\",\"ticks\":\"\"}},\"ternary\":{\"bgcolor\":\"#E5ECF6\",\"aaxis\":{\"gridcolor\":\"white\",\"linecolor\":\"white\",\"ticks\":\"\"},\"baxis\":{\"gridcolor\":\"white\",\"linecolor\":\"white\",\"ticks\":\"\"},\"caxis\":{\"gridcolor\":\"white\",\"linecolor\":\"white\",\"ticks\":\"\"}},\"coloraxis\":{\"colorbar\":{\"outlinewidth\":0,\"ticks\":\"\"}},\"colorscale\":{\"sequential\":[[0.0,\"#0d0887\"],[0.1111111111111111,\"#46039f\"],[0.2222222222222222,\"#7201a8\"],[0.3333333333333333,\"#9c179e\"],[0.4444444444444444,\"#bd3786\"],[0.5555555555555556,\"#d8576b\"],[0.6666666666666666,\"#ed7953\"],[0.7777777777777778,\"#fb9f3a\"],[0.8888888888888888,\"#fdca26\"],[1.0,\"#f0f921\"]],\"sequentialminus\":[[0.0,\"#0d0887\"],[0.1111111111111111,\"#46039f\"],[0.2222222222222222,\"#7201a8\"],[0.3333333333333333,\"#9c179e\"],[0.4444444444444444,\"#bd3786\"],[0.5555555555555556,\"#d8576b\"],[0.6666666666666666,\"#ed7953\"],[0.7777777777777778,\"#fb9f3a\"],[0.8888888888888888,\"#fdca26\"],[1.0,\"#f0f921\"]],\"diverging\":[[0,\"#8e0152\"],[0.1,\"#c51b7d\"],[0.2,\"#de77ae\"],[0.3,\"#f1b6da\"],[0.4,\"#fde0ef\"],[0.5,\"#f7f7f7\"],[0.6,\"#e6f5d0\"],[0.7,\"#b8e186\"],[0.8,\"#7fbc41\"],[0.9,\"#4d9221\"],[1,\"#276419\"]]},\"xaxis\":{\"gridcolor\":\"white\",\"linecolor\":\"white\",\"ticks\":\"\",\"title\":{\"standoff\":15},\"zerolinecolor\":\"white\",\"automargin\":true,\"zerolinewidth\":2},\"yaxis\":{\"gridcolor\":\"white\",\"linecolor\":\"white\",\"ticks\":\"\",\"title\":{\"standoff\":15},\"zerolinecolor\":\"white\",\"automargin\":true,\"zerolinewidth\":2},\"scene\":{\"xaxis\":{\"backgroundcolor\":\"#E5ECF6\",\"gridcolor\":\"white\",\"linecolor\":\"white\",\"showbackground\":true,\"ticks\":\"\",\"zerolinecolor\":\"white\",\"gridwidth\":2},\"yaxis\":{\"backgroundcolor\":\"#E5ECF6\",\"gridcolor\":\"white\",\"linecolor\":\"white\",\"showbackground\":true,\"ticks\":\"\",\"zerolinecolor\":\"white\",\"gridwidth\":2},\"zaxis\":{\"backgroundcolor\":\"#E5ECF6\",\"gridcolor\":\"white\",\"linecolor\":\"white\",\"showbackground\":true,\"ticks\":\"\",\"zerolinecolor\":\"white\",\"gridwidth\":2}},\"shapedefaults\":{\"line\":{\"color\":\"#2a3f5f\"}},\"annotationdefaults\":{\"arrowcolor\":\"#2a3f5f\",\"arrowhead\":0,\"arrowwidth\":1},\"geo\":{\"bgcolor\":\"white\",\"landcolor\":\"#E5ECF6\",\"subunitcolor\":\"white\",\"showland\":true,\"showlakes\":true,\"lakecolor\":\"white\"},\"title\":{\"x\":0.05},\"mapbox\":{\"style\":\"light\"}}},\"legend\":{\"tracegroupgap\":0},\"margin\":{\"t\":60}},                        {\"responsive\": true}                    ).then(function(){\n",
       "                            \n",
       "var gd = document.getElementById('6f98bb6d-1f17-4033-91f3-8eff77af89e0');\n",
       "var x = new MutationObserver(function (mutations, observer) {{\n",
       "        var display = window.getComputedStyle(gd).display;\n",
       "        if (!display || display === 'none') {{\n",
       "            console.log([gd, 'removed!']);\n",
       "            Plotly.purge(gd);\n",
       "            observer.disconnect();\n",
       "        }}\n",
       "}});\n",
       "\n",
       "// Listen for the removal of the full notebook cells\n",
       "var notebookContainer = gd.closest('#notebook-container');\n",
       "if (notebookContainer) {{\n",
       "    x.observe(notebookContainer, {childList: true});\n",
       "}}\n",
       "\n",
       "// Listen for the clearing of the current output cell\n",
       "var outputEl = gd.closest('.output');\n",
       "if (outputEl) {{\n",
       "    x.observe(outputEl, {childList: true});\n",
       "}}\n",
       "\n",
       "                        })                };                });            </script>        </div>"
      ]
     },
     "metadata": {},
     "output_type": "display_data"
    }
   ],
   "source": [
    "fig = px.treemap(scope2.dropna(), path= ['Year','Scope_Type','Source_MTCDEs'],values= 'value', color='Source_MTCDEs')\n",
    "fig.show()"
   ]
  },
  {
   "cell_type": "code",
   "execution_count": null,
   "id": "76089c2d-a3a9-4d9a-8622-656f23f66d9b",
   "metadata": {},
   "outputs": [],
   "source": []
  }
 ],
 "metadata": {
  "kernelspec": {
   "display_name": "Python [conda env:base] *",
   "language": "python",
   "name": "conda-base-py"
  },
  "language_info": {
   "codemirror_mode": {
    "name": "ipython",
    "version": 3
   },
   "file_extension": ".py",
   "mimetype": "text/x-python",
   "name": "python",
   "nbconvert_exporter": "python",
   "pygments_lexer": "ipython3",
   "version": "3.11.5"
  }
 },
 "nbformat": 4,
 "nbformat_minor": 5
}
