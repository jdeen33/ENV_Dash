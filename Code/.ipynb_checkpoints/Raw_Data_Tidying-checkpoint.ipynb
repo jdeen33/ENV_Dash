{
 "cells": [
  {
   "cell_type": "code",
   "execution_count": 1,
   "id": "3e3ce2e8",
   "metadata": {},
   "outputs": [],
   "source": [
    "import pandas as pd\n",
    "import numpy as np \n",
    "import plotly.express as px\n",
    "import os"
   ]
  },
  {
   "cell_type": "code",
   "execution_count": null,
   "id": "203d4967",
   "metadata": {},
   "outputs": [],
   "source": [
    "for name, value in os.environ.items():\n",
    "    print(\"{0}: {1}\".format(name, value))"
   ]
  },
  {
   "cell_type": "code",
   "execution_count": null,
   "id": "97de7f67",
   "metadata": {},
   "outputs": [],
   "source": [
    "pip list"
   ]
  },
  {
   "cell_type": "code",
   "execution_count": null,
   "id": "5aa9226b",
   "metadata": {
    "scrolled": false
   },
   "outputs": [],
   "source": [
    "scope2_sum = pd.read_csv(\"/Users/jdeen@middlebury.edu/Documents/ENV_Dashboard/ENV_Dash/Data/Raw/Summaries/Scope2_Summary.csv\")\n",
    "scope2_sum"
   ]
  },
  {
   "cell_type": "code",
   "execution_count": null,
   "id": "63231e1f",
   "metadata": {},
   "outputs": [],
   "source": [
    "## cleaning up > making it all into a function\n",
    "\n",
    "def tidy_data(df):\n",
    "    df_t = df.T\n",
    "    df_t.columns= df_t.iloc[0]\n",
    "    df_t.drop(index= df_t.index[0], axis=0, inplace=True) \n",
    "    return df_t"
   ]
  },
  {
   "cell_type": "code",
   "execution_count": null,
   "id": "25af77fc",
   "metadata": {},
   "outputs": [],
   "source": [
    "tidied = tidy_data(scope2_sum)"
   ]
  },
  {
   "cell_type": "code",
   "execution_count": null,
   "id": "94f6a885",
   "metadata": {
    "scrolled": true
   },
   "outputs": [],
   "source": [
    "##sanity check \n",
    "tidied "
   ]
  },
  {
   "cell_type": "code",
   "execution_count": null,
   "id": "55394cb3",
   "metadata": {},
   "outputs": [],
   "source": [
    "tidied.columns[0]"
   ]
  },
  {
   "cell_type": "code",
   "execution_count": null,
   "id": "86c2b6b7",
   "metadata": {},
   "outputs": [],
   "source": [
    "def pivot_df(df):\n",
    "    restruc = pd.melt(df,id_vars= df.columns[0], value_vars=[df.columns[1],df.columns[2],df.columns[3],df.columns[4],df.columns[5],df.columns[6],df.columns[7],df.columns[8],df.columns[9],df.columns[10],df.columns[11],df.columns[12],df.columns[13]])\n",
    "    return (restruc)\n"
   ]
  },
  {
   "cell_type": "code",
   "execution_count": null,
   "id": "dc36df14",
   "metadata": {},
   "outputs": [],
   "source": [
    "pivoted = pivot_df(tidied)# value column represents MTCDEs"
   ]
  },
  {
   "cell_type": "code",
   "execution_count": null,
   "id": "77f9a2ed",
   "metadata": {},
   "outputs": [],
   "source": [
    "pivoted"
   ]
  },
  {
   "cell_type": "code",
   "execution_count": null,
   "id": "71050b9b",
   "metadata": {},
   "outputs": [],
   "source": [
    "def write_clean_df(df,path,n):\n",
    "    df.to_csv(f\"{path}/{n}.csv\")"
   ]
  },
  {
   "cell_type": "code",
   "execution_count": null,
   "id": "06197516",
   "metadata": {},
   "outputs": [],
   "source": [
    "write_clean_df(pivoted,\"/Users/jdeen@middlebury.edu/Documents/ENV_Dashboard/ENV_Dash/Data/Tidy\",'scope2_sums')"
   ]
  },
  {
   "cell_type": "code",
   "execution_count": null,
   "id": "27ebfbcd",
   "metadata": {},
   "outputs": [],
   "source": []
  },
  {
   "cell_type": "code",
   "execution_count": null,
   "id": "3ab1e06f",
   "metadata": {},
   "outputs": [],
   "source": [
    "## Transforming dataframe to start getting it into long format \n",
    "\n",
    "T_comp_sum= comp_sum.T\n",
    "\n",
    "T_comp_sum"
   ]
  },
  {
   "cell_type": "code",
   "execution_count": null,
   "id": "327601e9",
   "metadata": {
    "scrolled": true
   },
   "outputs": [],
   "source": [
    "## setting values from the first row (variables)to be column names\n",
    "\n",
    "T_comp_sum.columns= T_comp_sum.iloc[0]\n",
    "T_comp_sum"
   ]
  },
  {
   "cell_type": "code",
   "execution_count": null,
   "id": "35ed8310",
   "metadata": {},
   "outputs": [],
   "source": [
    "T_comp_sum.drop(index=T_comp_sum.index[0], axis=0, inplace=True) "
   ]
  },
  {
   "cell_type": "code",
   "execution_count": null,
   "id": "09028ad2",
   "metadata": {
    "scrolled": true
   },
   "outputs": [],
   "source": [
    "T_comp_sum"
   ]
  },
  {
   "cell_type": "code",
   "execution_count": null,
   "id": "ca20fc65",
   "metadata": {},
   "outputs": [],
   "source": [
    "T_comp_sum.set_index(['Year'], inplace = True)"
   ]
  },
  {
   "cell_type": "code",
   "execution_count": null,
   "id": "587358cb",
   "metadata": {},
   "outputs": [],
   "source": [
    "scopes_T = pd.melt(T_comp_sum ,id_vars= \"Year\", value_vars=[\"Scope 1\",\"Scope 2\",\"Scope 3\",\"Offsets Internal\",\"Offsets External\",\"Total\"])"
   ]
  },
  {
   "cell_type": "markdown",
   "id": "8bf3f68a",
   "metadata": {},
   "source": [
    "Oops more data cleaning necessary- need to convert values from text to numeric so they don't show up as categorical in our graphs \n",
    "For the overall GHGI inventory, the values representing offsets should be negative, but that was lost in the data cleaning process, so need to add back in for accuracy "
   ]
  },
  {
   "cell_type": "code",
   "execution_count": 2,
   "id": "5fe4244e",
   "metadata": {},
   "outputs": [],
   "source": [
    "overall_comps = pd.read_csv(\"/Users/jdeen@middlebury.edu/Documents/ENV_Dashboard/ENV_Dash/Data/Tidy/all_scopes.csv\")\n",
    "scope1 = pd.read_csv(\"/Users/jdeen@middlebury.edu/Documents/ENV_Dashboard/ENV_Dash/Data/Tidy/scope1_sums.csv\")\n",
    "scope2= pd.read_csv(\"/Users/jdeen@middlebury.edu/Documents/ENV_Dashboard/ENV_Dash/Data/Tidy/scope2_sums.csv\")"
   ]
  },
  {
   "cell_type": "code",
   "execution_count": 3,
   "id": "0011d7d0",
   "metadata": {},
   "outputs": [
    {
     "data": {
      "text/html": [
       "<div>\n",
       "<style scoped>\n",
       "    .dataframe tbody tr th:only-of-type {\n",
       "        vertical-align: middle;\n",
       "    }\n",
       "\n",
       "    .dataframe tbody tr th {\n",
       "        vertical-align: top;\n",
       "    }\n",
       "\n",
       "    .dataframe thead th {\n",
       "        text-align: right;\n",
       "    }\n",
       "</style>\n",
       "<table border=\"1\" class=\"dataframe\">\n",
       "  <thead>\n",
       "    <tr style=\"text-align: right;\">\n",
       "      <th></th>\n",
       "      <th>Unnamed: 0</th>\n",
       "      <th>Year</th>\n",
       "      <th>Scope_Total_MCTDEs</th>\n",
       "      <th>value</th>\n",
       "    </tr>\n",
       "  </thead>\n",
       "  <tbody>\n",
       "    <tr>\n",
       "      <th>0</th>\n",
       "      <td>0</td>\n",
       "      <td>2006_2007</td>\n",
       "      <td>Scope 1</td>\n",
       "      <td>26,957.80</td>\n",
       "    </tr>\n",
       "    <tr>\n",
       "      <th>1</th>\n",
       "      <td>1</td>\n",
       "      <td>2007_2008</td>\n",
       "      <td>Scope 1</td>\n",
       "      <td>28,036.60</td>\n",
       "    </tr>\n",
       "    <tr>\n",
       "      <th>2</th>\n",
       "      <td>2</td>\n",
       "      <td>2008_2009</td>\n",
       "      <td>Scope 1</td>\n",
       "      <td>25,290.90</td>\n",
       "    </tr>\n",
       "    <tr>\n",
       "      <th>3</th>\n",
       "      <td>3</td>\n",
       "      <td>2009_2010</td>\n",
       "      <td>Scope 1</td>\n",
       "      <td>16,689.20</td>\n",
       "    </tr>\n",
       "    <tr>\n",
       "      <th>4</th>\n",
       "      <td>4</td>\n",
       "      <td>2010_2011</td>\n",
       "      <td>Scope 1</td>\n",
       "      <td>14,505.30</td>\n",
       "    </tr>\n",
       "    <tr>\n",
       "      <th>...</th>\n",
       "      <td>...</td>\n",
       "      <td>...</td>\n",
       "      <td>...</td>\n",
       "      <td>...</td>\n",
       "    </tr>\n",
       "    <tr>\n",
       "      <th>103</th>\n",
       "      <td>103</td>\n",
       "      <td>2019_2020</td>\n",
       "      <td>Total</td>\n",
       "      <td>0</td>\n",
       "    </tr>\n",
       "    <tr>\n",
       "      <th>104</th>\n",
       "      <td>104</td>\n",
       "      <td>2020_2021</td>\n",
       "      <td>Total</td>\n",
       "      <td>11,058.20</td>\n",
       "    </tr>\n",
       "    <tr>\n",
       "      <th>105</th>\n",
       "      <td>105</td>\n",
       "      <td>2021_2022</td>\n",
       "      <td>Total</td>\n",
       "      <td>10,858.30</td>\n",
       "    </tr>\n",
       "    <tr>\n",
       "      <th>106</th>\n",
       "      <td>106</td>\n",
       "      <td>2022_2023</td>\n",
       "      <td>Total</td>\n",
       "      <td>8,860.60</td>\n",
       "    </tr>\n",
       "    <tr>\n",
       "      <th>107</th>\n",
       "      <td>107</td>\n",
       "      <td>2023_2024</td>\n",
       "      <td>Total</td>\n",
       "      <td>7,704.70</td>\n",
       "    </tr>\n",
       "  </tbody>\n",
       "</table>\n",
       "<p>108 rows × 4 columns</p>\n",
       "</div>"
      ],
      "text/plain": [
       "     Unnamed: 0       Year Scope_Total_MCTDEs      value\n",
       "0             0  2006_2007            Scope 1  26,957.80\n",
       "1             1  2007_2008            Scope 1  28,036.60\n",
       "2             2  2008_2009            Scope 1  25,290.90\n",
       "3             3  2009_2010            Scope 1  16,689.20\n",
       "4             4  2010_2011            Scope 1  14,505.30\n",
       "..          ...        ...                ...        ...\n",
       "103         103  2019_2020              Total          0\n",
       "104         104  2020_2021              Total  11,058.20\n",
       "105         105  2021_2022              Total  10,858.30\n",
       "106         106  2022_2023              Total   8,860.60\n",
       "107         107  2023_2024              Total   7,704.70\n",
       "\n",
       "[108 rows x 4 columns]"
      ]
     },
     "execution_count": 3,
     "metadata": {},
     "output_type": "execute_result"
    }
   ],
   "source": [
    "overall_comps"
   ]
  },
  {
   "cell_type": "code",
   "execution_count": 4,
   "id": "02761ea7",
   "metadata": {},
   "outputs": [],
   "source": [
    "#need to convert values from strings (text)to float (numbers with decimals)data types \n",
    "overall_comps['value']= overall_comps['value'].str.replace(',', '')#first we need to remove commas from the values so that we don't confuse the computer\n",
    "#^ we also re assign this back to the dataframe column so that it is saved in our data\n",
    "\n",
    "overall_comps['value']= overall_comps['value'].astype(float).fillna(0.0)\n",
    "#then we coerce the data to be a float type and make NA zeros "
   ]
  },
  {
   "cell_type": "code",
   "execution_count": 5,
   "id": "6ac5e667",
   "metadata": {},
   "outputs": [
    {
     "data": {
      "text/html": [
       "<div>\n",
       "<style scoped>\n",
       "    .dataframe tbody tr th:only-of-type {\n",
       "        vertical-align: middle;\n",
       "    }\n",
       "\n",
       "    .dataframe tbody tr th {\n",
       "        vertical-align: top;\n",
       "    }\n",
       "\n",
       "    .dataframe thead th {\n",
       "        text-align: right;\n",
       "    }\n",
       "</style>\n",
       "<table border=\"1\" class=\"dataframe\">\n",
       "  <thead>\n",
       "    <tr style=\"text-align: right;\">\n",
       "      <th></th>\n",
       "      <th>Unnamed: 0</th>\n",
       "      <th>Year</th>\n",
       "      <th>Scope_Total_MCTDEs</th>\n",
       "      <th>value</th>\n",
       "    </tr>\n",
       "  </thead>\n",
       "  <tbody>\n",
       "    <tr>\n",
       "      <th>0</th>\n",
       "      <td>0</td>\n",
       "      <td>2006_2007</td>\n",
       "      <td>Scope 1</td>\n",
       "      <td>26957.8</td>\n",
       "    </tr>\n",
       "    <tr>\n",
       "      <th>1</th>\n",
       "      <td>1</td>\n",
       "      <td>2007_2008</td>\n",
       "      <td>Scope 1</td>\n",
       "      <td>28036.6</td>\n",
       "    </tr>\n",
       "    <tr>\n",
       "      <th>2</th>\n",
       "      <td>2</td>\n",
       "      <td>2008_2009</td>\n",
       "      <td>Scope 1</td>\n",
       "      <td>25290.9</td>\n",
       "    </tr>\n",
       "    <tr>\n",
       "      <th>3</th>\n",
       "      <td>3</td>\n",
       "      <td>2009_2010</td>\n",
       "      <td>Scope 1</td>\n",
       "      <td>16689.2</td>\n",
       "    </tr>\n",
       "    <tr>\n",
       "      <th>4</th>\n",
       "      <td>4</td>\n",
       "      <td>2010_2011</td>\n",
       "      <td>Scope 1</td>\n",
       "      <td>14505.3</td>\n",
       "    </tr>\n",
       "    <tr>\n",
       "      <th>...</th>\n",
       "      <td>...</td>\n",
       "      <td>...</td>\n",
       "      <td>...</td>\n",
       "      <td>...</td>\n",
       "    </tr>\n",
       "    <tr>\n",
       "      <th>103</th>\n",
       "      <td>103</td>\n",
       "      <td>2019_2020</td>\n",
       "      <td>Total</td>\n",
       "      <td>0.0</td>\n",
       "    </tr>\n",
       "    <tr>\n",
       "      <th>104</th>\n",
       "      <td>104</td>\n",
       "      <td>2020_2021</td>\n",
       "      <td>Total</td>\n",
       "      <td>11058.2</td>\n",
       "    </tr>\n",
       "    <tr>\n",
       "      <th>105</th>\n",
       "      <td>105</td>\n",
       "      <td>2021_2022</td>\n",
       "      <td>Total</td>\n",
       "      <td>10858.3</td>\n",
       "    </tr>\n",
       "    <tr>\n",
       "      <th>106</th>\n",
       "      <td>106</td>\n",
       "      <td>2022_2023</td>\n",
       "      <td>Total</td>\n",
       "      <td>8860.6</td>\n",
       "    </tr>\n",
       "    <tr>\n",
       "      <th>107</th>\n",
       "      <td>107</td>\n",
       "      <td>2023_2024</td>\n",
       "      <td>Total</td>\n",
       "      <td>7704.7</td>\n",
       "    </tr>\n",
       "  </tbody>\n",
       "</table>\n",
       "<p>108 rows × 4 columns</p>\n",
       "</div>"
      ],
      "text/plain": [
       "     Unnamed: 0       Year Scope_Total_MCTDEs    value\n",
       "0             0  2006_2007            Scope 1  26957.8\n",
       "1             1  2007_2008            Scope 1  28036.6\n",
       "2             2  2008_2009            Scope 1  25290.9\n",
       "3             3  2009_2010            Scope 1  16689.2\n",
       "4             4  2010_2011            Scope 1  14505.3\n",
       "..          ...        ...                ...      ...\n",
       "103         103  2019_2020              Total      0.0\n",
       "104         104  2020_2021              Total  11058.2\n",
       "105         105  2021_2022              Total  10858.3\n",
       "106         106  2022_2023              Total   8860.6\n",
       "107         107  2023_2024              Total   7704.7\n",
       "\n",
       "[108 rows x 4 columns]"
      ]
     },
     "execution_count": 5,
     "metadata": {},
     "output_type": "execute_result"
    }
   ],
   "source": [
    "#sanity check\n",
    "overall_comps"
   ]
  },
  {
   "cell_type": "code",
   "execution_count": null,
   "id": "672db82e",
   "metadata": {},
   "outputs": [],
   "source": [
    "#now we need to isolate the offsets external/internal values to make them negative \n",
    "alloffsets = overall_comps.loc[(overall_comps['Scope_Total_MCTDEs']==\"Offsets Internal\") | (overall_comps['Scope_Total_MCTDEs']==\"Offsets External\")|overall_comps['value']!= 0.0]"
   ]
  },
  {
   "cell_type": "code",
   "execution_count": 21,
   "id": "be296b22",
   "metadata": {},
   "outputs": [],
   "source": [
    "condition = overall_comps[(overall_comps['Scope_Total_MCTDEs']==\"Offsets Internal\") | (overall_comps['Scope_Total_MCTDEs']==\"Offsets External\")|overall_comps['value']!= 0.0]"
   ]
  },
  {
   "cell_type": "code",
   "execution_count": 22,
   "id": "6b9edcb9",
   "metadata": {},
   "outputs": [
    {
     "data": {
      "text/html": [
       "<div>\n",
       "<style scoped>\n",
       "    .dataframe tbody tr th:only-of-type {\n",
       "        vertical-align: middle;\n",
       "    }\n",
       "\n",
       "    .dataframe tbody tr th {\n",
       "        vertical-align: top;\n",
       "    }\n",
       "\n",
       "    .dataframe thead th {\n",
       "        text-align: right;\n",
       "    }\n",
       "</style>\n",
       "<table border=\"1\" class=\"dataframe\">\n",
       "  <thead>\n",
       "    <tr style=\"text-align: right;\">\n",
       "      <th></th>\n",
       "      <th>Unnamed: 0</th>\n",
       "      <th>Year</th>\n",
       "      <th>Scope_Total_MCTDEs</th>\n",
       "      <th>value</th>\n",
       "    </tr>\n",
       "  </thead>\n",
       "  <tbody>\n",
       "    <tr>\n",
       "      <th>0</th>\n",
       "      <td>0</td>\n",
       "      <td>2006_2007</td>\n",
       "      <td>Scope 1</td>\n",
       "      <td>-26957.8</td>\n",
       "    </tr>\n",
       "    <tr>\n",
       "      <th>1</th>\n",
       "      <td>1</td>\n",
       "      <td>2007_2008</td>\n",
       "      <td>Scope 1</td>\n",
       "      <td>-28036.6</td>\n",
       "    </tr>\n",
       "    <tr>\n",
       "      <th>2</th>\n",
       "      <td>2</td>\n",
       "      <td>2008_2009</td>\n",
       "      <td>Scope 1</td>\n",
       "      <td>-25290.9</td>\n",
       "    </tr>\n",
       "    <tr>\n",
       "      <th>3</th>\n",
       "      <td>3</td>\n",
       "      <td>2009_2010</td>\n",
       "      <td>Scope 1</td>\n",
       "      <td>-16689.2</td>\n",
       "    </tr>\n",
       "    <tr>\n",
       "      <th>4</th>\n",
       "      <td>4</td>\n",
       "      <td>2010_2011</td>\n",
       "      <td>Scope 1</td>\n",
       "      <td>-14505.3</td>\n",
       "    </tr>\n",
       "    <tr>\n",
       "      <th>...</th>\n",
       "      <td>...</td>\n",
       "      <td>...</td>\n",
       "      <td>...</td>\n",
       "      <td>...</td>\n",
       "    </tr>\n",
       "    <tr>\n",
       "      <th>99</th>\n",
       "      <td>99</td>\n",
       "      <td>2015_2016</td>\n",
       "      <td>Total</td>\n",
       "      <td>-13087.3</td>\n",
       "    </tr>\n",
       "    <tr>\n",
       "      <th>104</th>\n",
       "      <td>104</td>\n",
       "      <td>2020_2021</td>\n",
       "      <td>Total</td>\n",
       "      <td>-11058.2</td>\n",
       "    </tr>\n",
       "    <tr>\n",
       "      <th>105</th>\n",
       "      <td>105</td>\n",
       "      <td>2021_2022</td>\n",
       "      <td>Total</td>\n",
       "      <td>-10858.3</td>\n",
       "    </tr>\n",
       "    <tr>\n",
       "      <th>106</th>\n",
       "      <td>106</td>\n",
       "      <td>2022_2023</td>\n",
       "      <td>Total</td>\n",
       "      <td>-8860.6</td>\n",
       "    </tr>\n",
       "    <tr>\n",
       "      <th>107</th>\n",
       "      <td>107</td>\n",
       "      <td>2023_2024</td>\n",
       "      <td>Total</td>\n",
       "      <td>-7704.7</td>\n",
       "    </tr>\n",
       "  </tbody>\n",
       "</table>\n",
       "<p>100 rows × 4 columns</p>\n",
       "</div>"
      ],
      "text/plain": [
       "     Unnamed: 0       Year Scope_Total_MCTDEs    value\n",
       "0             0  2006_2007            Scope 1 -26957.8\n",
       "1             1  2007_2008            Scope 1 -28036.6\n",
       "2             2  2008_2009            Scope 1 -25290.9\n",
       "3             3  2009_2010            Scope 1 -16689.2\n",
       "4             4  2010_2011            Scope 1 -14505.3\n",
       "..          ...        ...                ...      ...\n",
       "99           99  2015_2016              Total -13087.3\n",
       "104         104  2020_2021              Total -11058.2\n",
       "105         105  2021_2022              Total -10858.3\n",
       "106         106  2022_2023              Total  -8860.6\n",
       "107         107  2023_2024              Total  -7704.7\n",
       "\n",
       "[100 rows x 4 columns]"
      ]
     },
     "execution_count": 22,
     "metadata": {},
     "output_type": "execute_result"
    }
   ],
   "source": [
    "condition"
   ]
  },
  {
   "cell_type": "code",
   "execution_count": 8,
   "id": "66cc720f",
   "metadata": {},
   "outputs": [],
   "source": [
    "overall_comps.loc[condition, 'value'] = -overall_comps.loc[condition, 'value'] "
   ]
  },
  {
   "cell_type": "code",
   "execution_count": 11,
   "id": "2951bd7d",
   "metadata": {},
   "outputs": [
    {
     "data": {
      "text/html": [
       "<div>\n",
       "<style scoped>\n",
       "    .dataframe tbody tr th:only-of-type {\n",
       "        vertical-align: middle;\n",
       "    }\n",
       "\n",
       "    .dataframe tbody tr th {\n",
       "        vertical-align: top;\n",
       "    }\n",
       "\n",
       "    .dataframe thead th {\n",
       "        text-align: right;\n",
       "    }\n",
       "</style>\n",
       "<table border=\"1\" class=\"dataframe\">\n",
       "  <thead>\n",
       "    <tr style=\"text-align: right;\">\n",
       "      <th></th>\n",
       "      <th>Unnamed: 0</th>\n",
       "      <th>Year</th>\n",
       "      <th>Scope_Total_MCTDEs</th>\n",
       "      <th>value</th>\n",
       "    </tr>\n",
       "  </thead>\n",
       "  <tbody>\n",
       "    <tr>\n",
       "      <th>0</th>\n",
       "      <td>0.0</td>\n",
       "      <td>2006_2007</td>\n",
       "      <td>Scope 1</td>\n",
       "      <td>-26957.8</td>\n",
       "    </tr>\n",
       "    <tr>\n",
       "      <th>1</th>\n",
       "      <td>1.0</td>\n",
       "      <td>2007_2008</td>\n",
       "      <td>Scope 1</td>\n",
       "      <td>-28036.6</td>\n",
       "    </tr>\n",
       "    <tr>\n",
       "      <th>2</th>\n",
       "      <td>2.0</td>\n",
       "      <td>2008_2009</td>\n",
       "      <td>Scope 1</td>\n",
       "      <td>-25290.9</td>\n",
       "    </tr>\n",
       "    <tr>\n",
       "      <th>3</th>\n",
       "      <td>3.0</td>\n",
       "      <td>2009_2010</td>\n",
       "      <td>Scope 1</td>\n",
       "      <td>-16689.2</td>\n",
       "    </tr>\n",
       "    <tr>\n",
       "      <th>4</th>\n",
       "      <td>4.0</td>\n",
       "      <td>2010_2011</td>\n",
       "      <td>Scope 1</td>\n",
       "      <td>-14505.3</td>\n",
       "    </tr>\n",
       "    <tr>\n",
       "      <th>...</th>\n",
       "      <td>...</td>\n",
       "      <td>...</td>\n",
       "      <td>...</td>\n",
       "      <td>...</td>\n",
       "    </tr>\n",
       "    <tr>\n",
       "      <th>103</th>\n",
       "      <td>NaN</td>\n",
       "      <td>NaN</td>\n",
       "      <td>NaN</td>\n",
       "      <td>NaN</td>\n",
       "    </tr>\n",
       "    <tr>\n",
       "      <th>104</th>\n",
       "      <td>104.0</td>\n",
       "      <td>2020_2021</td>\n",
       "      <td>Total</td>\n",
       "      <td>-11058.2</td>\n",
       "    </tr>\n",
       "    <tr>\n",
       "      <th>105</th>\n",
       "      <td>105.0</td>\n",
       "      <td>2021_2022</td>\n",
       "      <td>Total</td>\n",
       "      <td>-10858.3</td>\n",
       "    </tr>\n",
       "    <tr>\n",
       "      <th>106</th>\n",
       "      <td>106.0</td>\n",
       "      <td>2022_2023</td>\n",
       "      <td>Total</td>\n",
       "      <td>-8860.6</td>\n",
       "    </tr>\n",
       "    <tr>\n",
       "      <th>107</th>\n",
       "      <td>107.0</td>\n",
       "      <td>2023_2024</td>\n",
       "      <td>Total</td>\n",
       "      <td>-7704.7</td>\n",
       "    </tr>\n",
       "  </tbody>\n",
       "</table>\n",
       "<p>108 rows × 4 columns</p>\n",
       "</div>"
      ],
      "text/plain": [
       "     Unnamed: 0       Year Scope_Total_MCTDEs    value\n",
       "0           0.0  2006_2007            Scope 1 -26957.8\n",
       "1           1.0  2007_2008            Scope 1 -28036.6\n",
       "2           2.0  2008_2009            Scope 1 -25290.9\n",
       "3           3.0  2009_2010            Scope 1 -16689.2\n",
       "4           4.0  2010_2011            Scope 1 -14505.3\n",
       "..          ...        ...                ...      ...\n",
       "103         NaN        NaN                NaN      NaN\n",
       "104       104.0  2020_2021              Total -11058.2\n",
       "105       105.0  2021_2022              Total -10858.3\n",
       "106       106.0  2022_2023              Total  -8860.6\n",
       "107       107.0  2023_2024              Total  -7704.7\n",
       "\n",
       "[108 rows x 4 columns]"
      ]
     },
     "execution_count": 11,
     "metadata": {},
     "output_type": "execute_result"
    }
   ],
   "source": [
    "#sanity check\n",
    "overall_comps.where(condition)"
   ]
  },
  {
   "cell_type": "code",
   "execution_count": null,
   "id": "43bbf1b2",
   "metadata": {},
   "outputs": [],
   "source": [
    "nonzero= overall_comps.loc[overall_comps['value']!= 0.0]"
   ]
  },
  {
   "cell_type": "code",
   "execution_count": null,
   "id": "8c437a5c",
   "metadata": {},
   "outputs": [],
   "source": [
    "overall_comps[alloffsets & nonzero]"
   ]
  },
  {
   "cell_type": "code",
   "execution_count": null,
   "id": "997da2d7",
   "metadata": {},
   "outputs": [],
   "source": []
  }
 ],
 "metadata": {
  "kernelspec": {
   "display_name": "Python 3 (ipykernel)",
   "language": "python",
   "name": "python3"
  },
  "language_info": {
   "codemirror_mode": {
    "name": "ipython",
    "version": 3
   },
   "file_extension": ".py",
   "mimetype": "text/x-python",
   "name": "python",
   "nbconvert_exporter": "python",
   "pygments_lexer": "ipython3",
   "version": "3.11.5"
  }
 },
 "nbformat": 4,
 "nbformat_minor": 5
}
